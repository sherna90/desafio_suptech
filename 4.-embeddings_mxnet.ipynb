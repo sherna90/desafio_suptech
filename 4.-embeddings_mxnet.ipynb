{
 "cells": [
  {
   "cell_type": "markdown",
   "id": "1d798ac2",
   "metadata": {},
   "source": [
    "# Lectura de reclamos"
   ]
  },
  {
   "cell_type": "code",
   "execution_count": 1,
   "id": "ddaf7f1f",
   "metadata": {},
   "outputs": [],
   "source": [
    "import sys\n",
    "sys.path.append(\"../\") "
   ]
  },
  {
   "cell_type": "code",
   "execution_count": 2,
   "id": "ae00f778",
   "metadata": {},
   "outputs": [],
   "source": [
    "import pandas as pd\n",
    "import sklearn as sklearn"
   ]
  },
  {
   "cell_type": "code",
   "execution_count": 3,
   "id": "e96cb427",
   "metadata": {},
   "outputs": [],
   "source": [
    "import os\n",
    "\n",
    "df=pd.read_excel(\n",
    "     os.path.join(\"data\", \"reclamos_20201221_con_clas.xlsx\"),\n",
    "     engine='openpyxl',\n",
    ")\n"
   ]
  },
  {
   "cell_type": "code",
   "execution_count": 4,
   "id": "5874d2d9",
   "metadata": {},
   "outputs": [
    {
     "data": {
      "text/plain": [
       "Index(['CASO_ID', 'MERCADO_ANALISTA', 'DESCRIPCION_CIUDADANO',\n",
       "       'PETICION_CIUDADANO'],\n",
       "      dtype='object')"
      ]
     },
     "execution_count": 4,
     "metadata": {},
     "output_type": "execute_result"
    }
   ],
   "source": [
    "df.columns"
   ]
  },
  {
   "cell_type": "code",
   "execution_count": 5,
   "id": "bbbf3a9e",
   "metadata": {},
   "outputs": [
    {
     "data": {
      "text/html": [
       "<div>\n",
       "<style scoped>\n",
       "    .dataframe tbody tr th:only-of-type {\n",
       "        vertical-align: middle;\n",
       "    }\n",
       "\n",
       "    .dataframe tbody tr th {\n",
       "        vertical-align: top;\n",
       "    }\n",
       "\n",
       "    .dataframe thead th {\n",
       "        text-align: right;\n",
       "    }\n",
       "</style>\n",
       "<table border=\"1\" class=\"dataframe\">\n",
       "  <thead>\n",
       "    <tr style=\"text-align: right;\">\n",
       "      <th></th>\n",
       "      <th>CASO_ID</th>\n",
       "      <th>MERCADO_ANALISTA</th>\n",
       "      <th>DESCRIPCION_CIUDADANO</th>\n",
       "      <th>PETICION_CIUDADANO</th>\n",
       "    </tr>\n",
       "  </thead>\n",
       "  <tbody>\n",
       "    <tr>\n",
       "      <th>0</th>\n",
       "      <td>638428.0</td>\n",
       "      <td>APIA -Reclamo Seguros</td>\n",
       "      <td>RECIBI UN CORREO ELECTRONICO DONDE SE ME INDIC...</td>\n",
       "      <td>DADO QUE NINGUNA DE LAS CAUSALES ANTERIORES SE...</td>\n",
       "    </tr>\n",
       "    <tr>\n",
       "      <th>1</th>\n",
       "      <td>580194.0</td>\n",
       "      <td>APIA -Reclamo Seguros</td>\n",
       "      <td>Mi nombre es XX y el día 27 de Enero de este a...</td>\n",
       "      <td>Necesito que Metlife me deposite el dinero sol...</td>\n",
       "    </tr>\n",
       "    <tr>\n",
       "      <th>2</th>\n",
       "      <td>447321.0</td>\n",
       "      <td>APIA -Reclamo Seguros</td>\n",
       "      <td>Estimados Señores SVS\\n\\nCon fecha 13 de Octub...</td>\n",
       "      <td>Por esta razón quiero colocar un reclamo forma...</td>\n",
       "    </tr>\n",
       "    <tr>\n",
       "      <th>3</th>\n",
       "      <td>437201.0</td>\n",
       "      <td>APIA -Reclamo Seguros</td>\n",
       "      <td>En primera instancia solicité renvar mi tarjet...</td>\n",
       "      <td>Solicito devolución de lo que me cobraron por ...</td>\n",
       "    </tr>\n",
       "    <tr>\n",
       "      <th>4</th>\n",
       "      <td>385926.0</td>\n",
       "      <td>Reclamo Valores</td>\n",
       "      <td>reclamo en contra Scotiabank por cobros de man...</td>\n",
       "      <td>condonacion de los cobros que hace el Banco.</td>\n",
       "    </tr>\n",
       "    <tr>\n",
       "      <th>...</th>\n",
       "      <td>...</td>\n",
       "      <td>...</td>\n",
       "      <td>...</td>\n",
       "      <td>...</td>\n",
       "    </tr>\n",
       "    <tr>\n",
       "      <th>1000</th>\n",
       "      <td>NaN</td>\n",
       "      <td>NaN</td>\n",
       "      <td>NaN</td>\n",
       "      <td>NaN</td>\n",
       "    </tr>\n",
       "    <tr>\n",
       "      <th>1001</th>\n",
       "      <td>NaN</td>\n",
       "      <td>NaN</td>\n",
       "      <td>NaN</td>\n",
       "      <td>NaN</td>\n",
       "    </tr>\n",
       "    <tr>\n",
       "      <th>1002</th>\n",
       "      <td>NaN</td>\n",
       "      <td>NaN</td>\n",
       "      <td>NaN</td>\n",
       "      <td>NaN</td>\n",
       "    </tr>\n",
       "    <tr>\n",
       "      <th>1003</th>\n",
       "      <td>NaN</td>\n",
       "      <td>NaN</td>\n",
       "      <td>NaN</td>\n",
       "      <td>NaN</td>\n",
       "    </tr>\n",
       "    <tr>\n",
       "      <th>1004</th>\n",
       "      <td>NaN</td>\n",
       "      <td>NaN</td>\n",
       "      <td>NaN</td>\n",
       "      <td>NaN</td>\n",
       "    </tr>\n",
       "  </tbody>\n",
       "</table>\n",
       "<p>1005 rows × 4 columns</p>\n",
       "</div>"
      ],
      "text/plain": [
       "       CASO_ID        MERCADO_ANALISTA  \\\n",
       "0     638428.0  APIA -Reclamo Seguros    \n",
       "1     580194.0  APIA -Reclamo Seguros    \n",
       "2     447321.0  APIA -Reclamo Seguros    \n",
       "3     437201.0  APIA -Reclamo Seguros    \n",
       "4     385926.0         Reclamo Valores   \n",
       "...        ...                     ...   \n",
       "1000       NaN                     NaN   \n",
       "1001       NaN                     NaN   \n",
       "1002       NaN                     NaN   \n",
       "1003       NaN                     NaN   \n",
       "1004       NaN                     NaN   \n",
       "\n",
       "                                  DESCRIPCION_CIUDADANO  \\\n",
       "0     RECIBI UN CORREO ELECTRONICO DONDE SE ME INDIC...   \n",
       "1     Mi nombre es XX y el día 27 de Enero de este a...   \n",
       "2     Estimados Señores SVS\\n\\nCon fecha 13 de Octub...   \n",
       "3     En primera instancia solicité renvar mi tarjet...   \n",
       "4     reclamo en contra Scotiabank por cobros de man...   \n",
       "...                                                 ...   \n",
       "1000                                                NaN   \n",
       "1001                                                NaN   \n",
       "1002                                                NaN   \n",
       "1003                                                NaN   \n",
       "1004                                                NaN   \n",
       "\n",
       "                                     PETICION_CIUDADANO  \n",
       "0     DADO QUE NINGUNA DE LAS CAUSALES ANTERIORES SE...  \n",
       "1     Necesito que Metlife me deposite el dinero sol...  \n",
       "2     Por esta razón quiero colocar un reclamo forma...  \n",
       "3     Solicito devolución de lo que me cobraron por ...  \n",
       "4          condonacion de los cobros que hace el Banco.  \n",
       "...                                                 ...  \n",
       "1000                                                NaN  \n",
       "1001                                                NaN  \n",
       "1002                                                NaN  \n",
       "1003                                                NaN  \n",
       "1004                                                NaN  \n",
       "\n",
       "[1005 rows x 4 columns]"
      ]
     },
     "execution_count": 5,
     "metadata": {},
     "output_type": "execute_result"
    }
   ],
   "source": [
    "df"
   ]
  },
  {
   "cell_type": "code",
   "execution_count": 6,
   "id": "89525019",
   "metadata": {},
   "outputs": [],
   "source": [
    "df['MERCADO_ANALISTA']=df['MERCADO_ANALISTA'].astype('category')"
   ]
  },
  {
   "cell_type": "code",
   "execution_count": 7,
   "id": "9bf56d57",
   "metadata": {},
   "outputs": [],
   "source": [
    "df=df[['MERCADO_ANALISTA','PETICION_CIUDADANO','DESCRIPCION_CIUDADANO']].dropna()"
   ]
  },
  {
   "cell_type": "code",
   "execution_count": 8,
   "id": "d8925221",
   "metadata": {},
   "outputs": [],
   "source": [
    "df['DESCRIPCION_CIUDADANO']=df['DESCRIPCION_CIUDADANO'].map(str).str.lower()\n",
    "df['PETICION_CIUDADANO']=df['PETICION_CIUDADANO'].map(str).str.lower()"
   ]
  },
  {
   "cell_type": "code",
   "execution_count": 9,
   "id": "09cfbd07",
   "metadata": {},
   "outputs": [],
   "source": [
    "df['data'] = df['DESCRIPCION_CIUDADANO'] + df['PETICION_CIUDADANO']"
   ]
  },
  {
   "cell_type": "code",
   "execution_count": 10,
   "id": "a70c7810",
   "metadata": {},
   "outputs": [],
   "source": [
    "import string, re\n",
    "\n",
    "def remove_punct(x):\n",
    "    comp = re.compile(\"[%s\\d]\" % re.escape(string.punctuation))\n",
    "    return \" \".join(comp.sub(\" \", str(x)).split()).lower()\n",
    "\n",
    "df['data']=df['data'].apply(remove_punct)"
   ]
  },
  {
   "cell_type": "code",
   "execution_count": 11,
   "id": "ebb94fe1",
   "metadata": {},
   "outputs": [
    {
     "name": "stdout",
     "output_type": "stream",
     "text": [
      "0      recibi un correo electronico donde se me indic...\n",
      "1      mi nombre es xx y el dia de enero de este ano ...\n",
      "2      estimados senores svs con fecha de octubre de ...\n",
      "3      en primera instancia solicite renvar mi tarjet...\n",
      "4      reclamo en contra scotiabank por cobros de man...\n",
      "                             ...                        \n",
      "994    estimados por favor revisar el proceso de fusi...\n",
      "995    con fecha de febrero del me fueron protestados...\n",
      "996    mal calculo de valor poliza de ahorro por erro...\n",
      "997    estimados svs con fecha se me ha anulado una o...\n",
      "998    tengo un traspaso de dos mil quinientas accion...\n",
      "Name: data, Length: 999, dtype: object\n"
     ]
    }
   ],
   "source": [
    "import unicodedata\n",
    "\n",
    "def strip_accents(string, accents=('COMBINING ACUTE ACCENT', 'COMBINING GRAVE ACCENT', 'COMBINING TILDE')):\n",
    "    accents = set(map(unicodedata.lookup, accents))\n",
    "    chars = [c for c in unicodedata.normalize('NFD', string) if c not in accents]\n",
    "    return unicodedata.normalize('NFC', ''.join(chars))\n",
    "\n",
    "df['data'] = df['data'].apply(strip_accents)\n",
    "print(df['data'] )\n"
   ]
  },
  {
   "cell_type": "code",
   "execution_count": 12,
   "id": "unique-reward",
   "metadata": {},
   "outputs": [
    {
     "data": {
      "text/plain": [
       "'recibi un correo electronico donde se me indica que zurich santander seguros ha decidido no renovar la poliza nº xx super seguro alivio seguro familiar por un nuevo periodo conforme al articulo de las condiciones generales de su seguro pol segun he revisado la pol corresponde a una poliza de prestaciones medicas la cual esta prohibida por resolucion n° de ademas revisando antecedentes entiendo que la compania no puede poner termino unilateral a dicho seguro a menos que se cumpla alguna de las causales como “no pago de la prima cambio de lo que se aseguro omision o falseo de informacion por parte del cliente perdida total o parcial destruccion de los riesgos o lo asegurado tras firmar el contrato aun si el evento tiene o no cobertura cambio en la moneda de la poliza” dado que ninguna de las causales anteriores se cumple es que vengo a solicitar a uds intervengan en esta decision unilateral de la compania y se rechaze la no renovacion de mi poliza tomada hace anos'"
      ]
     },
     "execution_count": 12,
     "metadata": {},
     "output_type": "execute_result"
    }
   ],
   "source": [
    "df['data'][0]"
   ]
  },
  {
   "cell_type": "code",
   "execution_count": 13,
   "id": "manual-trout",
   "metadata": {},
   "outputs": [],
   "source": [
    "stop_words = [line.strip() for line in  open(\"stopwords-filter-es.txt\", \"r\")]"
   ]
  },
  {
   "cell_type": "code",
   "execution_count": 14,
   "id": "naughty-guess",
   "metadata": {},
   "outputs": [],
   "source": [
    "df['data']=df['data'].apply(lambda x: ' '.join([word for word in x.split() if word not in (stop_words)]))"
   ]
  },
  {
   "cell_type": "code",
   "execution_count": 15,
   "id": "cleared-avenue",
   "metadata": {},
   "outputs": [
    {
     "data": {
      "text/plain": [
       "'recibi correo electronico indica zurich santander seguros decidido renovar poliza nº xx super seguro alivio seguro familiar nuevo periodo conforme articulo condiciones generales seguro pol segun revisado pol corresponde poliza prestaciones medicas prohibida resolucion n° ademas revisando antecedentes entiendo compania puede poner termino unilateral dicho seguro menos cumpla alguna causales “no pago prima cambio aseguro omision falseo informacion parte cliente perdida total parcial destruccion riesgos asegurado tras firmar contrato aun si evento cobertura cambio moneda poliza” dado ninguna causales anteriores cumple vengo solicitar uds intervengan decision unilateral compania rechaze renovacion poliza tomada hace anos'"
      ]
     },
     "execution_count": 15,
     "metadata": {},
     "output_type": "execute_result"
    }
   ],
   "source": [
    "df['data'][0]"
   ]
  },
  {
   "cell_type": "code",
   "execution_count": 16,
   "id": "72073e72",
   "metadata": {},
   "outputs": [],
   "source": [
    "labels=(df['MERCADO_ANALISTA']=='Reclamo Valores').astype(int)"
   ]
  },
  {
   "cell_type": "code",
   "execution_count": 17,
   "id": "floating-beads",
   "metadata": {},
   "outputs": [
    {
     "data": {
      "text/plain": [
       "'recibi correo electronico indica zurich santander seguros decidido renovar poliza nº xx super seguro alivio seguro familiar nuevo periodo conforme articulo condiciones generales seguro pol segun revisado pol corresponde poliza prestaciones medicas prohibida resolucion n° ademas revisando antecedentes entiendo compania puede poner termino unilateral dicho seguro menos cumpla alguna causales “no pago prima cambio aseguro omision falseo informacion parte cliente perdida total parcial destruccion riesgos asegurado tras firmar contrato aun si evento cobertura cambio moneda poliza” dado ninguna causales anteriores cumple vengo solicitar uds intervengan decision unilateral compania rechaze renovacion poliza tomada hace anos'"
      ]
     },
     "execution_count": 17,
     "metadata": {},
     "output_type": "execute_result"
    }
   ],
   "source": [
    "df['data'].values[0]"
   ]
  },
  {
   "cell_type": "code",
   "execution_count": 18,
   "id": "0828ba90",
   "metadata": {},
   "outputs": [],
   "source": [
    "import tensorflow.keras as keras\n",
    "from tensorflow.keras.preprocessing.text import Tokenizer\n",
    "\n",
    "tokenizer = Tokenizer(num_words=5000)\n",
    "tokenizer.fit_on_texts(df['data'].values)\n",
    "\n",
    "input_array = tokenizer.texts_to_sequences(df['data'].values)\n",
    "\n",
    "vocab_size = len(tokenizer.word_index) + 1  "
   ]
  },
  {
   "cell_type": "code",
   "execution_count": 19,
   "id": "north-liabilities",
   "metadata": {},
   "outputs": [],
   "source": [
    "from tensorflow.keras.preprocessing.sequence import pad_sequences\n",
    "\n",
    "maxlen = 100\n",
    "\n",
    "input_array = pad_sequences(input_array, padding='post', maxlen=maxlen)"
   ]
  },
  {
   "cell_type": "code",
   "execution_count": 20,
   "id": "936aad62",
   "metadata": {},
   "outputs": [],
   "source": [
    "from sklearn.model_selection import train_test_split\n",
    "\n",
    "X_train, X_test, y_train, y_test = train_test_split(input_array, labels, test_size=0.2)"
   ]
  },
  {
   "cell_type": "code",
   "execution_count": 21,
   "id": "pursuant-cosmetic",
   "metadata": {},
   "outputs": [
    {
     "data": {
      "text/plain": [
       "numpy.ndarray"
      ]
     },
     "execution_count": 21,
     "metadata": {},
     "output_type": "execute_result"
    }
   ],
   "source": [
    "type(X_train)"
   ]
  },
  {
   "cell_type": "code",
   "execution_count": 48,
   "id": "curious-glenn",
   "metadata": {},
   "outputs": [
    {
     "data": {
      "text/plain": [
       "(799, 100)"
      ]
     },
     "execution_count": 48,
     "metadata": {},
     "output_type": "execute_result"
    }
   ],
   "source": [
    "X_train.shape"
   ]
  },
  {
   "cell_type": "code",
   "execution_count": 22,
   "id": "hourly-image",
   "metadata": {},
   "outputs": [],
   "source": [
    "import numpy as np\n",
    "from mxnet import npx \n",
    "\n",
    "y_train=np.expand_dims(y_train,axis=1).astype(np.int32)\n",
    "y_test=np.expand_dims(y_test,axis=1).astype(np.int32)\n"
   ]
  },
  {
   "cell_type": "code",
   "execution_count": 23,
   "id": "designing-record",
   "metadata": {},
   "outputs": [
    {
     "data": {
      "text/plain": [
       "numpy.ndarray"
      ]
     },
     "execution_count": 23,
     "metadata": {},
     "output_type": "execute_result"
    }
   ],
   "source": [
    "type(X_test)"
   ]
  },
  {
   "cell_type": "markdown",
   "id": "73e30895",
   "metadata": {},
   "source": [
    "# MXNET"
   ]
  },
  {
   "cell_type": "code",
   "execution_count": 64,
   "id": "a827aef6",
   "metadata": {},
   "outputs": [],
   "source": [
    "import argparse, time, logging, random, math\n",
    "import mxnet as mx\n",
    "\n",
    "from mxnet import gluon, nd\n",
    "from mxnet import autograd as ag\n",
    "from mxnet.gluon import nn\n",
    "from mxnet.gluon.data.vision import transforms"
   ]
  },
  {
   "cell_type": "code",
   "execution_count": 65,
   "id": "57d0fa23",
   "metadata": {},
   "outputs": [],
   "source": [
    "num_gpus = 1\n",
    "model_ctx = mx.cpu()\n",
    "\n",
    "num_workers = 0\n",
    "batch_size = 64 \n",
    "\n",
    "def transform(data, label):\n",
    "    data = data.astype('float32')\n",
    "    return data, label\n",
    "\n",
    "dataset_train = gluon.data.dataset.ArrayDataset(X_train, y_train)\n",
    "data_loader_train = gluon.data.DataLoader(dataset_train.transform(transform),batch_size = 64,num_workers = 0)\n",
    "dataset_test = gluon.data.dataset.ArrayDataset(X_test, y_test)\n",
    "data_loader_test = gluon.data.DataLoader(dataset_test.transform(transform),batch_size = 64,num_workers = 0)"
   ]
  },
  {
   "cell_type": "code",
   "execution_count": 66,
   "id": "appreciated-taste",
   "metadata": {},
   "outputs": [
    {
     "data": {
      "text/plain": [
       "(799, 100)"
      ]
     },
     "execution_count": 66,
     "metadata": {},
     "output_type": "execute_result"
    }
   ],
   "source": [
    "X_train.shape"
   ]
  },
  {
   "cell_type": "code",
   "execution_count": 68,
   "id": "47f099c8",
   "metadata": {},
   "outputs": [
    {
     "name": "stdout",
     "output_type": "stream",
     "text": [
      "<class 'mxnet.ndarray.ndarray.NDArray'>\n",
      "(64, 100)\n",
      "(64, 1)\n"
     ]
    }
   ],
   "source": [
    "for X,y in data_loader_train:\n",
    "    print(type(X))\n",
    "    print(X.shape)\n",
    "    print(y.shape)\n",
    "    break"
   ]
  },
  {
   "cell_type": "code",
   "execution_count": 69,
   "id": "fed9d139",
   "metadata": {},
   "outputs": [],
   "source": [
    "import mxnet as mx\n",
    "from mxnet import nd, autograd, gluon\n",
    "hyper={'alpha':10.}\n",
    "in_units=X_train.shape[1]\n",
    "out_units=1\n",
    "embedding_dim=100"
   ]
  },
  {
   "cell_type": "markdown",
   "id": "2e451b4e",
   "metadata": {},
   "source": [
    "# SGD"
   ]
  },
  {
   "cell_type": "code",
   "execution_count": 76,
   "id": "9ef50827",
   "metadata": {},
   "outputs": [],
   "source": [
    "import sys\n",
    "sys.path.append(\"../hamiltonian_mxnet/\") \n",
    "import mxnet as mx\n",
    "from hamiltonian.inference.sgd import sgd\n",
    "from hamiltonian.models.logistic import embeddings_logistic\n",
    "\n",
    "\n",
    "model=embeddings_logistic(hyper,in_units,0,32,maxlen,embedding_dim,ctx=model_ctx)\n",
    "inference=sgd(model,model.par,step_size=0.001,ctx=model_ctx)\n"
   ]
  },
  {
   "cell_type": "code",
   "execution_count": 77,
   "id": "5b8e7eef",
   "metadata": {},
   "outputs": [
    {
     "name": "stdout",
     "output_type": "stream",
     "text": [
      "modules re-loaded\n"
     ]
    }
   ],
   "source": [
    "import hamiltonian\n",
    "import importlib\n",
    "\n",
    "try:\n",
    "    importlib.reload(hamiltonian.models.logistic)\n",
    "    importlib.reload(hamiltonian.inference.sgd)\n",
    "    print('modules re-loaded')\n",
    "except:\n",
    "    print('no modules loaded yet')\n"
   ]
  },
  {
   "cell_type": "code",
   "execution_count": 78,
   "id": "70052932",
   "metadata": {},
   "outputs": [
    {
     "name": "stderr",
     "output_type": "stream",
     "text": [
      "  1%|          | 5/500 [00:00<00:28, 17.66it/s]"
     ]
    },
    {
     "name": "stdout",
     "output_type": "stream",
     "text": [
      "loss: 0.6925\n"
     ]
    },
    {
     "name": "stderr",
     "output_type": "stream",
     "text": [
      " 11%|█         | 54/500 [00:02<00:22, 19.83it/s]"
     ]
    },
    {
     "name": "stdout",
     "output_type": "stream",
     "text": [
      "loss: 0.6382\n"
     ]
    },
    {
     "name": "stderr",
     "output_type": "stream",
     "text": [
      " 21%|██        | 105/500 [00:05<00:20, 19.65it/s]"
     ]
    },
    {
     "name": "stdout",
     "output_type": "stream",
     "text": [
      "loss: 0.6358\n"
     ]
    },
    {
     "name": "stderr",
     "output_type": "stream",
     "text": [
      " 31%|███       | 154/500 [00:07<00:17, 20.00it/s]"
     ]
    },
    {
     "name": "stdout",
     "output_type": "stream",
     "text": [
      "loss: 0.6357\n"
     ]
    },
    {
     "name": "stderr",
     "output_type": "stream",
     "text": [
      " 41%|████      | 204/500 [00:10<00:14, 19.91it/s]"
     ]
    },
    {
     "name": "stdout",
     "output_type": "stream",
     "text": [
      "loss: 0.6357\n"
     ]
    },
    {
     "name": "stderr",
     "output_type": "stream",
     "text": [
      " 51%|█████     | 255/500 [00:12<00:12, 19.89it/s]"
     ]
    },
    {
     "name": "stdout",
     "output_type": "stream",
     "text": [
      "loss: 0.6357\n"
     ]
    },
    {
     "name": "stderr",
     "output_type": "stream",
     "text": [
      " 61%|██████    | 303/500 [00:15<00:10, 19.47it/s]"
     ]
    },
    {
     "name": "stdout",
     "output_type": "stream",
     "text": [
      "loss: 0.6357\n"
     ]
    },
    {
     "name": "stderr",
     "output_type": "stream",
     "text": [
      " 71%|███████   | 354/500 [00:17<00:07, 19.72it/s]"
     ]
    },
    {
     "name": "stdout",
     "output_type": "stream",
     "text": [
      "loss: 0.6357\n"
     ]
    },
    {
     "name": "stderr",
     "output_type": "stream",
     "text": [
      " 81%|████████  | 403/500 [00:20<00:04, 19.83it/s]"
     ]
    },
    {
     "name": "stdout",
     "output_type": "stream",
     "text": [
      "loss: 0.6356\n"
     ]
    },
    {
     "name": "stderr",
     "output_type": "stream",
     "text": [
      " 91%|█████████ | 453/500 [00:23<00:02, 19.81it/s]"
     ]
    },
    {
     "name": "stdout",
     "output_type": "stream",
     "text": [
      "loss: 0.6356\n"
     ]
    },
    {
     "name": "stderr",
     "output_type": "stream",
     "text": [
      "100%|██████████| 500/500 [00:25<00:00, 19.65it/s]\n"
     ]
    }
   ],
   "source": [
    "par,loss=inference.fit(epochs=500,batch_size=batch_size,data_loader=data_loader_train,verbose=True)"
   ]
  },
  {
   "cell_type": "markdown",
   "id": "cfeb78e3",
   "metadata": {},
   "source": [
    "## SGD UQ"
   ]
  },
  {
   "cell_type": "code",
   "execution_count": 79,
   "id": "c40c5137",
   "metadata": {},
   "outputs": [
    {
     "data": {
      "image/png": "[encoded data removed]",
      "text/plain": [
       "<Figure size 432x288 with 1 Axes>"
      ]
     },
     "metadata": {
      "needs_background": "light"
     },
     "output_type": "display_data"
    }
   ],
   "source": [
    "import matplotlib.pyplot as plt\n",
    "\n",
    "plt.plot(loss)\n",
    "plt.xlabel('epoch')\n",
    "plt.ylabel('loss')\n",
    "plt.show()"
   ]
  },
  {
   "cell_type": "code",
   "execution_count": 80,
   "id": "ab962036",
   "metadata": {},
   "outputs": [
    {
     "name": "stdout",
     "output_type": "stream",
     "text": [
      "              precision    recall  f1-score   support\n",
      "\n",
      "           0       0.66      0.91      0.77       128\n",
      "           1       0.31      0.08      0.12        64\n",
      "\n",
      "    accuracy                           0.64       192\n",
      "   macro avg       0.49      0.50      0.45       192\n",
      "weighted avg       0.55      0.64      0.55       192\n",
      "\n"
     ]
    }
   ],
   "source": [
    "from sklearn.metrics import classification_report\n",
    "\n",
    "total_samples,total_labels,log_like=inference.predict(par,batch_size=batch_size,num_samples=10,data_loader=data_loader_test)\n",
    "y_hat=np.quantile(total_samples,0.5,axis=0)\n",
    "print(classification_report(np.int32(total_labels),np.int32(y_hat)))"
   ]
  },
  {
   "cell_type": "markdown",
   "id": "fbd5809d",
   "metadata": {},
   "source": [
    "# SGLD"
   ]
  },
  {
   "cell_type": "code",
   "execution_count": 81,
   "id": "0de73cac",
   "metadata": {},
   "outputs": [],
   "source": [
    "import mxnet as mx\n",
    "from mxnet import nd, autograd, gluon\n",
    "model_ctx=mx.cpu()\n",
    "hyper={'alpha':10.}\n",
    "in_units=X_train.shape[1]\n"
   ]
  },
  {
   "cell_type": "code",
   "execution_count": 90,
   "id": "2d6071a1",
   "metadata": {},
   "outputs": [],
   "source": [
    "import mxnet as mx\n",
    "from hamiltonian.inference.sgld import sgld\n",
    "from hamiltonian.models.logistic import logistic\n",
    "\n",
    "model=embeddings_logistic(hyper,in_units,0,32,maxlen,embedding_dim,ctx=model_ctx)\n",
    "inference=sgld(model,model.par,step_size=0.01,ctx=model_ctx)"
   ]
  },
  {
   "cell_type": "code",
   "execution_count": 91,
   "id": "cfbbb853",
   "metadata": {},
   "outputs": [
    {
     "data": {
      "text/plain": [
       "<module 'hamiltonian.inference.sgld' from '../hamiltonian_mxnet/hamiltonian/inference/sgld.py'>"
      ]
     },
     "execution_count": 91,
     "metadata": {},
     "output_type": "execute_result"
    }
   ],
   "source": [
    "import importlib\n",
    "import hamiltonian\n",
    "importlib.reload(hamiltonian.models.logistic)\n",
    "importlib.reload(hamiltonian.inference.sgld)"
   ]
  },
  {
   "cell_type": "code",
   "execution_count": 92,
   "id": "5acfe255",
   "metadata": {},
   "outputs": [
    {
     "name": "stderr",
     "output_type": "stream",
     "text": [
      "  4%|▍         | 4/100 [00:00<00:06, 15.04it/s]"
     ]
    },
    {
     "name": "stdout",
     "output_type": "stream",
     "text": [
      "loss: 8.5366\n"
     ]
    },
    {
     "name": "stderr",
     "output_type": "stream",
     "text": [
      " 14%|█▍        | 14/100 [00:00<00:04, 17.23it/s]"
     ]
    },
    {
     "name": "stdout",
     "output_type": "stream",
     "text": [
      "loss: 6.0758\n"
     ]
    },
    {
     "name": "stderr",
     "output_type": "stream",
     "text": [
      " 24%|██▍       | 24/100 [00:01<00:04, 17.23it/s]"
     ]
    },
    {
     "name": "stdout",
     "output_type": "stream",
     "text": [
      "loss: 4.9978\n"
     ]
    },
    {
     "name": "stderr",
     "output_type": "stream",
     "text": [
      " 34%|███▍      | 34/100 [00:02<00:03, 17.13it/s]"
     ]
    },
    {
     "name": "stdout",
     "output_type": "stream",
     "text": [
      "loss: 4.9898\n"
     ]
    },
    {
     "name": "stderr",
     "output_type": "stream",
     "text": [
      " 44%|████▍     | 44/100 [00:02<00:03, 16.85it/s]"
     ]
    },
    {
     "name": "stdout",
     "output_type": "stream",
     "text": [
      "loss: 4.5529\n"
     ]
    },
    {
     "name": "stderr",
     "output_type": "stream",
     "text": [
      " 54%|█████▍    | 54/100 [00:03<00:02, 16.80it/s]"
     ]
    },
    {
     "name": "stdout",
     "output_type": "stream",
     "text": [
      "loss: 4.1802\n"
     ]
    },
    {
     "name": "stderr",
     "output_type": "stream",
     "text": [
      " 64%|██████▍   | 64/100 [00:03<00:02, 17.06it/s]"
     ]
    },
    {
     "name": "stdout",
     "output_type": "stream",
     "text": [
      "loss: 3.9183\n"
     ]
    },
    {
     "name": "stderr",
     "output_type": "stream",
     "text": [
      " 74%|███████▍  | 74/100 [00:04<00:01, 17.47it/s]"
     ]
    },
    {
     "name": "stdout",
     "output_type": "stream",
     "text": [
      "loss: 3.4043\n"
     ]
    },
    {
     "name": "stderr",
     "output_type": "stream",
     "text": [
      " 84%|████████▍ | 84/100 [00:04<00:00, 17.30it/s]"
     ]
    },
    {
     "name": "stdout",
     "output_type": "stream",
     "text": [
      "loss: 2.9846\n"
     ]
    },
    {
     "name": "stderr",
     "output_type": "stream",
     "text": [
      " 94%|█████████▍| 94/100 [00:05<00:00, 17.02it/s]"
     ]
    },
    {
     "name": "stdout",
     "output_type": "stream",
     "text": [
      "loss: 2.4993\n"
     ]
    },
    {
     "name": "stderr",
     "output_type": "stream",
     "text": [
      "100%|██████████| 100/100 [00:05<00:00, 16.93it/s]\n",
      "  4%|▍         | 4/100 [00:00<00:05, 18.01it/s]"
     ]
    },
    {
     "name": "stdout",
     "output_type": "stream",
     "text": [
      "loss: 8.5038\n"
     ]
    },
    {
     "name": "stderr",
     "output_type": "stream",
     "text": [
      " 14%|█▍        | 14/100 [00:00<00:04, 17.64it/s]"
     ]
    },
    {
     "name": "stdout",
     "output_type": "stream",
     "text": [
      "loss: 5.5364\n"
     ]
    },
    {
     "name": "stderr",
     "output_type": "stream",
     "text": [
      " 24%|██▍       | 24/100 [00:01<00:04, 17.93it/s]"
     ]
    },
    {
     "name": "stdout",
     "output_type": "stream",
     "text": [
      "loss: 4.8805\n"
     ]
    },
    {
     "name": "stderr",
     "output_type": "stream",
     "text": [
      " 34%|███▍      | 34/100 [00:01<00:03, 18.19it/s]"
     ]
    },
    {
     "name": "stdout",
     "output_type": "stream",
     "text": [
      "loss: 5.0132\n"
     ]
    },
    {
     "name": "stderr",
     "output_type": "stream",
     "text": [
      " 44%|████▍     | 44/100 [00:02<00:03, 18.27it/s]"
     ]
    },
    {
     "name": "stdout",
     "output_type": "stream",
     "text": [
      "loss: 3.8998\n"
     ]
    },
    {
     "name": "stderr",
     "output_type": "stream",
     "text": [
      " 54%|█████▍    | 54/100 [00:03<00:02, 17.96it/s]"
     ]
    },
    {
     "name": "stdout",
     "output_type": "stream",
     "text": [
      "loss: 2.6597\n"
     ]
    },
    {
     "name": "stderr",
     "output_type": "stream",
     "text": [
      " 64%|██████▍   | 64/100 [00:03<00:02, 17.94it/s]"
     ]
    },
    {
     "name": "stdout",
     "output_type": "stream",
     "text": [
      "loss: 3.1148\n"
     ]
    },
    {
     "name": "stderr",
     "output_type": "stream",
     "text": [
      " 74%|███████▍  | 74/100 [00:04<00:01, 18.09it/s]"
     ]
    },
    {
     "name": "stdout",
     "output_type": "stream",
     "text": [
      "loss: 2.9733\n"
     ]
    },
    {
     "name": "stderr",
     "output_type": "stream",
     "text": [
      " 84%|████████▍ | 84/100 [00:04<00:00, 18.14it/s]"
     ]
    },
    {
     "name": "stdout",
     "output_type": "stream",
     "text": [
      "loss: 2.4886\n"
     ]
    },
    {
     "name": "stderr",
     "output_type": "stream",
     "text": [
      " 94%|█████████▍| 94/100 [00:05<00:00, 17.85it/s]"
     ]
    },
    {
     "name": "stdout",
     "output_type": "stream",
     "text": [
      "loss: 2.1092\n"
     ]
    },
    {
     "name": "stderr",
     "output_type": "stream",
     "text": [
      "100%|██████████| 100/100 [00:05<00:00, 17.89it/s]\n"
     ]
    }
   ],
   "source": [
    "loss,posterior_samples=inference.sample(epochs=100,batch_size=batch_size,\n",
    "                                data_loader=data_loader_train,\n",
    "                                verbose=True,chain_name='chain_nonhierarchical')"
   ]
  },
  {
   "cell_type": "markdown",
   "id": "c4c843b3",
   "metadata": {},
   "source": [
    "## SGLD UQ"
   ]
  },
  {
   "cell_type": "code",
   "execution_count": 93,
   "id": "9b352f80",
   "metadata": {},
   "outputs": [
    {
     "data": {
      "image/png": "[encoded data removed]",
      "text/plain": [
       "<Figure size 432x288 with 1 Axes>"
      ]
     },
     "metadata": {
      "needs_background": "light"
     },
     "output_type": "display_data"
    }
   ],
   "source": [
    "import matplotlib.pyplot as plt\n",
    "\n",
    "plt.plot(loss[0],color='blue',lw=3)\n",
    "plt.plot(loss[1],color='red',lw=3)\n",
    "plt.xlabel('Epoch', size=18)\n",
    "plt.ylabel('Loss', size=18)\n",
    "plt.show()"
   ]
  },
  {
   "cell_type": "code",
   "execution_count": 94,
   "id": "8837867c",
   "metadata": {},
   "outputs": [],
   "source": [
    "posterior_samples_flat=[item for sublist in posterior_samples for item in sublist]"
   ]
  },
  {
   "cell_type": "code",
   "execution_count": 95,
   "id": "b1bd835e",
   "metadata": {},
   "outputs": [],
   "source": [
    "total_samples,total_labels,log_like=inference.predict(posterior_samples_flat,5,data_loader=data_loader_test)"
   ]
  },
  {
   "cell_type": "code",
   "execution_count": 96,
   "id": "aef0e1fe",
   "metadata": {},
   "outputs": [
    {
     "name": "stdout",
     "output_type": "stream",
     "text": [
      "              precision    recall  f1-score   support\n",
      "\n",
      "           0       0.83      1.00      0.91       134\n",
      "           1       1.00      0.59      0.74        66\n",
      "\n",
      "    accuracy                           0.86       200\n",
      "   macro avg       0.92      0.80      0.83       200\n",
      "weighted avg       0.89      0.86      0.85       200\n",
      "\n"
     ]
    }
   ],
   "source": [
    "from sklearn.metrics import classification_report\n",
    "posterior_samples\n",
    "\n",
    "y_hat=np.quantile(total_samples,.5,axis=0)\n",
    "\n",
    "print(classification_report(np.int32(total_labels),np.int32(y_hat)))"
   ]
  },
  {
   "cell_type": "code",
   "execution_count": 97,
   "id": "large-brook",
   "metadata": {},
   "outputs": [],
   "source": [
    "from hamiltonian.utils.psis import *\n",
    "\n",
    "loo,loos,ks=psisloo(np.array(log_like[:,:,0]))"
   ]
  },
  {
   "cell_type": "markdown",
   "id": "8cdc861d",
   "metadata": {},
   "source": [
    "# BBB"
   ]
  },
  {
   "cell_type": "code",
   "execution_count": 98,
   "id": "fbcb0188",
   "metadata": {},
   "outputs": [],
   "source": [
    "import mxnet as mx\n",
    "from hamiltonian.inference.bbb import bbb\n",
    "from hamiltonian.models.logistic import logistic\n",
    "\n",
    "model=logistic(hyper,in_units,ctx=model_ctx)\n",
    "inference=bbb(model,model.par,step_size=0.05,ctx=model_ctx)"
   ]
  },
  {
   "cell_type": "code",
   "execution_count": 99,
   "id": "cfda9c66",
   "metadata": {},
   "outputs": [
    {
     "data": {
      "text/plain": [
       "<module 'hamiltonian.inference.bbb' from '../hamiltonian_mxnet/hamiltonian/inference/bbb.py'>"
      ]
     },
     "execution_count": 99,
     "metadata": {},
     "output_type": "execute_result"
    }
   ],
   "source": [
    "import importlib\n",
    "import hamiltonian\n",
    "importlib.reload(hamiltonian.models.logistic)\n",
    "importlib.reload(hamiltonian.inference.bbb)"
   ]
  },
  {
   "cell_type": "code",
   "execution_count": 100,
   "id": "dfbdd412",
   "metadata": {},
   "outputs": [
    {
     "name": "stderr",
     "output_type": "stream",
     "text": [
      "100%|██████████| 50/50 [00:01<00:00, 27.13it/s]\n"
     ]
    }
   ],
   "source": [
    "par,loss,(means,sigmas)=inference.fit(epochs=50,batch_size=32,\n",
    "                             data_loader=data_loader_train,\n",
    "                             verbose=False)"
   ]
  },
  {
   "cell_type": "markdown",
   "id": "c70037f1",
   "metadata": {},
   "source": [
    "## BBB UQ"
   ]
  },
  {
   "cell_type": "code",
   "execution_count": 101,
   "id": "eee3e0f9",
   "metadata": {},
   "outputs": [
    {
     "data": {
      "image/png": "[encoded data removed]",
      "text/plain": [
       "<Figure size 432x288 with 1 Axes>"
      ]
     },
     "metadata": {
      "needs_background": "light"
     },
     "output_type": "display_data"
    }
   ],
   "source": [
    "import matplotlib.pyplot as plt\n",
    "\n",
    "plt.plot(loss)\n",
    "plt.xlabel('epoch')\n",
    "plt.ylabel('loss')\n",
    "plt.show()"
   ]
  },
  {
   "cell_type": "code",
   "execution_count": 102,
   "id": "c7d8f2a2",
   "metadata": {},
   "outputs": [
    {
     "name": "stdout",
     "output_type": "stream",
     "text": [
      "              precision    recall  f1-score   support\n",
      "\n",
      "           0       0.67      1.00      0.80       134\n",
      "           1       0.00      0.00      0.00        66\n",
      "\n",
      "    accuracy                           0.67       200\n",
      "   macro avg       0.34      0.50      0.40       200\n",
      "weighted avg       0.45      0.67      0.54       200\n",
      "\n"
     ]
    }
   ],
   "source": [
    "from sklearn.metrics import classification_report\n",
    "\n",
    "total_samples,total_labels,log_like=inference.predict(means,sigmas,batch_size=batch_size,num_samples=100,data_loader=data_loader_test)\n",
    "y_hat=np.quantile(total_samples,.5,axis=0)\n",
    "print(classification_report(np.int32(y_test),np.int32(y_hat)))"
   ]
  },
  {
   "cell_type": "code",
   "execution_count": null,
   "id": "latter-jumping",
   "metadata": {},
   "outputs": [],
   "source": []
  }
 ],
 "metadata": {
  "kernelspec": {
   "display_name": "Python 3",
   "language": "python",
   "name": "python3"
  },
  "language_info": {
   "codemirror_mode": {
    "name": "ipython",
    "version": 3
   },
   "file_extension": ".py",
   "mimetype": "text/x-python",
   "name": "python",
   "nbconvert_exporter": "python",
   "pygments_lexer": "ipython3",
   "version": "3.8.6"
  }
 },
 "nbformat": 4,
 "nbformat_minor": 5
}
