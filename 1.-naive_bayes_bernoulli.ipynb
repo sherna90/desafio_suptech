{
 "cells": [
  {
   "cell_type": "markdown",
   "metadata": {},
   "source": [
    "# Naive Bayes NLP"
   ]
  },
  {
   "cell_type": "code",
   "execution_count": 1,
   "metadata": {},
   "outputs": [],
   "source": [
    "import pandas as pd\n",
    "import sklearn as sklearn"
   ]
  },
  {
   "cell_type": "markdown",
   "metadata": {},
   "source": [
    "La biblioteca xlrd se usa para acceder a Excel como fuente de datos. Los datos originales contienen macros (xlsx), por lo tanto se requiere una bilbioteca adicional (openpyxl)."
   ]
  },
  {
   "cell_type": "code",
   "execution_count": 2,
   "metadata": {},
   "outputs": [
    {
     "name": "stdout",
     "output_type": "stream",
     "text": [
      "Requirement already satisfied: xlrd in /opt/homebrew/Caskroom/miniforge/base/envs/tf/lib/python3.8/site-packages (2.0.1)\n",
      "Requirement already satisfied: openpyxl in /opt/homebrew/Caskroom/miniforge/base/envs/tf/lib/python3.8/site-packages (3.0.6)\n",
      "Requirement already satisfied: jdcal in /opt/homebrew/Caskroom/miniforge/base/envs/tf/lib/python3.8/site-packages (from openpyxl) (1.4.1)\n",
      "Requirement already satisfied: et-xmlfile in /opt/homebrew/Caskroom/miniforge/base/envs/tf/lib/python3.8/site-packages (from openpyxl) (1.0.1)\n"
     ]
    }
   ],
   "source": [
    "!pip3 install --user xlrd\n",
    "!pip3 install --user openpyxl"
   ]
  },
  {
   "cell_type": "code",
   "execution_count": 2,
   "metadata": {},
   "outputs": [],
   "source": [
    "import os\n",
    "\n",
    "df=pd.read_excel(\n",
    "     os.path.join(\"data\", \"reclamos_20201221_con_clas.xlsx\"),\n",
    "     engine='openpyxl',\n",
    ")"
   ]
  },
  {
   "cell_type": "code",
   "execution_count": 3,
   "metadata": {},
   "outputs": [
    {
     "data": {
      "text/plain": [
       "Index(['CASO_ID', 'MERCADO_ANALISTA', 'DESCRIPCION_CIUDADANO',\n",
       "       'PETICION_CIUDADANO'],\n",
       "      dtype='object')"
      ]
     },
     "execution_count": 3,
     "metadata": {},
     "output_type": "execute_result"
    }
   ],
   "source": [
    "df.columns"
   ]
  },
  {
   "cell_type": "code",
   "execution_count": 5,
   "metadata": {},
   "outputs": [],
   "source": [
    "df['MERCADO_ANALISTA']=df['MERCADO_ANALISTA'].astype('category')"
   ]
  },
  {
   "cell_type": "code",
   "execution_count": 6,
   "metadata": {},
   "outputs": [
    {
     "data": {
      "text/html": [
       "<div>\n",
       "<style scoped>\n",
       "    .dataframe tbody tr th:only-of-type {\n",
       "        vertical-align: middle;\n",
       "    }\n",
       "\n",
       "    .dataframe tbody tr th {\n",
       "        vertical-align: top;\n",
       "    }\n",
       "\n",
       "    .dataframe thead th {\n",
       "        text-align: right;\n",
       "    }\n",
       "</style>\n",
       "<table border=\"1\" class=\"dataframe\">\n",
       "  <thead>\n",
       "    <tr style=\"text-align: right;\">\n",
       "      <th></th>\n",
       "      <th>CASO_ID</th>\n",
       "      <th>MERCADO_ANALISTA</th>\n",
       "      <th>DESCRIPCION_CIUDADANO</th>\n",
       "      <th>PETICION_CIUDADANO</th>\n",
       "    </tr>\n",
       "  </thead>\n",
       "  <tbody>\n",
       "    <tr>\n",
       "      <th>0</th>\n",
       "      <td>638428.0</td>\n",
       "      <td>APIA -Reclamo Seguros</td>\n",
       "      <td>RECIBI UN CORREO ELECTRONICO DONDE SE ME INDIC...</td>\n",
       "      <td>DADO QUE NINGUNA DE LAS CAUSALES ANTERIORES SE...</td>\n",
       "    </tr>\n",
       "    <tr>\n",
       "      <th>1</th>\n",
       "      <td>580194.0</td>\n",
       "      <td>APIA -Reclamo Seguros</td>\n",
       "      <td>Mi nombre es XX y el día 27 de Enero de este a...</td>\n",
       "      <td>Necesito que Metlife me deposite el dinero sol...</td>\n",
       "    </tr>\n",
       "    <tr>\n",
       "      <th>2</th>\n",
       "      <td>447321.0</td>\n",
       "      <td>APIA -Reclamo Seguros</td>\n",
       "      <td>Estimados Señores SVS\\n\\nCon fecha 13 de Octub...</td>\n",
       "      <td>Por esta razón quiero colocar un reclamo forma...</td>\n",
       "    </tr>\n",
       "    <tr>\n",
       "      <th>3</th>\n",
       "      <td>437201.0</td>\n",
       "      <td>APIA -Reclamo Seguros</td>\n",
       "      <td>En primera instancia solicité renvar mi tarjet...</td>\n",
       "      <td>Solicito devolución de lo que me cobraron por ...</td>\n",
       "    </tr>\n",
       "    <tr>\n",
       "      <th>4</th>\n",
       "      <td>385926.0</td>\n",
       "      <td>Reclamo Valores</td>\n",
       "      <td>reclamo en contra Scotiabank por cobros de man...</td>\n",
       "      <td>condonacion de los cobros que hace el Banco.</td>\n",
       "    </tr>\n",
       "  </tbody>\n",
       "</table>\n",
       "</div>"
      ],
      "text/plain": [
       "    CASO_ID        MERCADO_ANALISTA  \\\n",
       "0  638428.0  APIA -Reclamo Seguros    \n",
       "1  580194.0  APIA -Reclamo Seguros    \n",
       "2  447321.0  APIA -Reclamo Seguros    \n",
       "3  437201.0  APIA -Reclamo Seguros    \n",
       "4  385926.0         Reclamo Valores   \n",
       "\n",
       "                               DESCRIPCION_CIUDADANO  \\\n",
       "0  RECIBI UN CORREO ELECTRONICO DONDE SE ME INDIC...   \n",
       "1  Mi nombre es XX y el día 27 de Enero de este a...   \n",
       "2  Estimados Señores SVS\\n\\nCon fecha 13 de Octub...   \n",
       "3  En primera instancia solicité renvar mi tarjet...   \n",
       "4  reclamo en contra Scotiabank por cobros de man...   \n",
       "\n",
       "                                  PETICION_CIUDADANO  \n",
       "0  DADO QUE NINGUNA DE LAS CAUSALES ANTERIORES SE...  \n",
       "1  Necesito que Metlife me deposite el dinero sol...  \n",
       "2  Por esta razón quiero colocar un reclamo forma...  \n",
       "3  Solicito devolución de lo que me cobraron por ...  \n",
       "4       condonacion de los cobros que hace el Banco.  "
      ]
     },
     "execution_count": 6,
     "metadata": {},
     "output_type": "execute_result"
    }
   ],
   "source": [
    "df.head()"
   ]
  },
  {
   "cell_type": "markdown",
   "metadata": {},
   "source": [
    "Al contar los datos pertencientes a cada clase, se observa desbalance de clases."
   ]
  },
  {
   "cell_type": "code",
   "execution_count": 7,
   "metadata": {},
   "outputs": [
    {
     "data": {
      "text/html": [
       "<div>\n",
       "<style scoped>\n",
       "    .dataframe tbody tr th:only-of-type {\n",
       "        vertical-align: middle;\n",
       "    }\n",
       "\n",
       "    .dataframe tbody tr th {\n",
       "        vertical-align: top;\n",
       "    }\n",
       "\n",
       "    .dataframe thead th {\n",
       "        text-align: right;\n",
       "    }\n",
       "</style>\n",
       "<table border=\"1\" class=\"dataframe\">\n",
       "  <thead>\n",
       "    <tr style=\"text-align: right;\">\n",
       "      <th></th>\n",
       "      <th>CASO_ID</th>\n",
       "      <th>DESCRIPCION_CIUDADANO</th>\n",
       "      <th>PETICION_CIUDADANO</th>\n",
       "    </tr>\n",
       "    <tr>\n",
       "      <th>MERCADO_ANALISTA</th>\n",
       "      <th></th>\n",
       "      <th></th>\n",
       "      <th></th>\n",
       "    </tr>\n",
       "  </thead>\n",
       "  <tbody>\n",
       "    <tr>\n",
       "      <th>APIA -Reclamo Seguros</th>\n",
       "      <td>662</td>\n",
       "      <td>662</td>\n",
       "      <td>662</td>\n",
       "    </tr>\n",
       "    <tr>\n",
       "      <th>Reclamo Valores</th>\n",
       "      <td>337</td>\n",
       "      <td>337</td>\n",
       "      <td>337</td>\n",
       "    </tr>\n",
       "  </tbody>\n",
       "</table>\n",
       "</div>"
      ],
      "text/plain": [
       "                        CASO_ID  DESCRIPCION_CIUDADANO  PETICION_CIUDADANO\n",
       "MERCADO_ANALISTA                                                          \n",
       "APIA -Reclamo Seguros       662                    662                 662\n",
       "Reclamo Valores             337                    337                 337"
      ]
     },
     "execution_count": 7,
     "metadata": {},
     "output_type": "execute_result"
    }
   ],
   "source": [
    "df.groupby('MERCADO_ANALISTA').count()"
   ]
  },
  {
   "cell_type": "code",
   "execution_count": 8,
   "metadata": {},
   "outputs": [
    {
     "data": {
      "text/plain": [
       "'RECIBI UN CORREO ELECTRONICO DONDE SE ME INDICA QUE  ZURICH SANTANDER SEGUROS HA DECIDIDO NO RENOVAR LA PÓLIZA Nº XX - SÚPER SEGURO ALIVIO SEGURO FAMILIAR POR UN NUEVO PERÍODO, CONFORME AL ARTÍCULO 5 DE LAS CONDICIONES GENERALES DE SU SEGURO (POL 2 99 003). \\n\\nSEGÚN HE REVISADO, LA POL 299 003 CORRESPONDE A UNA POLIZA DE PRESTACIONES MEDICAS, LA CUAL ESTA PROHIBIDA POR RESOLUCION N°541 DE 15/09/2010.\\n\\nADEMÁS REVISANDO ANTECEDENTES ENTIENDO QUE LA COMPAÑÍA NO PUEDE PONER TERMINO UNILATERAL A DICHO SEGURO A MENOS QUE SE CUMPLA ALGUNA DE LAS CAUSALES COMO “NO PAGO DE LA PRIMA; CAMBIO DE LO QUE SE ASEGURÓ; OMISIÓN O FALSEO DE INFORMACIÓN POR PARTE DEL CLIENTE; PÉRDIDA TOTAL O PARCIAL, DESTRUCCIÓN DE LOS RIESGOS O LO ASEGURADO TRAS FIRMAR EL CONTRATO, AÚN SI EL EVENTO TIENE O NO COBERTURA. CAMBIO EN LA MONEDA DE LA PÓLIZA”.\\n'"
      ]
     },
     "execution_count": 8,
     "metadata": {},
     "output_type": "execute_result"
    }
   ],
   "source": [
    "df.loc[0]['DESCRIPCION_CIUDADANO']"
   ]
  },
  {
   "cell_type": "code",
   "execution_count": 9,
   "metadata": {},
   "outputs": [
    {
     "data": {
      "text/plain": [
       "'DADO QUE NINGUNA DE LAS CAUSALES ANTERIORES SE CUMPLE ES QUE VENGO A SOLICITAR A UDS INTERVENGAN EN ESTA DECISION UNILATERAL DE LA COMPAÑÍA Y SE RECHAZE LA NO RENOVACION DE MI POLIZA TOMADA HACE10 AÑOS (13/09/2006) '"
      ]
     },
     "execution_count": 9,
     "metadata": {},
     "output_type": "execute_result"
    }
   ],
   "source": [
    "df.loc[0]['PETICION_CIUDADANO']"
   ]
  },
  {
   "cell_type": "code",
   "execution_count": 10,
   "metadata": {},
   "outputs": [
    {
     "data": {
      "text/plain": [
       "'APIA -Reclamo Seguros '"
      ]
     },
     "execution_count": 10,
     "metadata": {},
     "output_type": "execute_result"
    }
   ],
   "source": [
    "df.loc[0]['MERCADO_ANALISTA']"
   ]
  },
  {
   "cell_type": "code",
   "execution_count": 11,
   "metadata": {},
   "outputs": [
    {
     "data": {
      "text/plain": [
       "'Necesito,\\nSaber cual es la forma de obtener información sobre la constructora Curauma quien se dio a quiebra y no ha dado ninguna información a los acciones pequeños como yo, he tratado de comunicarme vía teléfono sin respuesta de esta entidad.'"
      ]
     },
     "execution_count": 11,
     "metadata": {},
     "output_type": "execute_result"
    }
   ],
   "source": [
    "df.loc[500]['DESCRIPCION_CIUDADANO']"
   ]
  },
  {
   "cell_type": "code",
   "execution_count": 12,
   "metadata": {},
   "outputs": [
    {
     "data": {
      "text/plain": [
       "'saber si puedo recuperar algo de mi inversion'"
      ]
     },
     "execution_count": 12,
     "metadata": {},
     "output_type": "execute_result"
    }
   ],
   "source": [
    "df.loc[500]['PETICION_CIUDADANO']"
   ]
  },
  {
   "cell_type": "code",
   "execution_count": 13,
   "metadata": {},
   "outputs": [
    {
     "data": {
      "text/plain": [
       "'Reclamo Valores'"
      ]
     },
     "execution_count": 13,
     "metadata": {},
     "output_type": "execute_result"
    }
   ],
   "source": [
    "df.loc[500]['MERCADO_ANALISTA']"
   ]
  },
  {
   "cell_type": "markdown",
   "metadata": {},
   "source": [
    "Borramos los datos nulos"
   ]
  },
  {
   "cell_type": "code",
   "execution_count": 14,
   "metadata": {},
   "outputs": [],
   "source": [
    "df=df[['MERCADO_ANALISTA','PETICION_CIUDADANO','DESCRIPCION_CIUDADANO']].dropna()"
   ]
  },
  {
   "cell_type": "code",
   "execution_count": 15,
   "metadata": {},
   "outputs": [],
   "source": [
    "df['DESCRIPCION_CIUDADANO']=df['DESCRIPCION_CIUDADANO'].map(str).str.lower()\n",
    "df['PETICION_CIUDADANO']=df['PETICION_CIUDADANO'].map(str).str.lower() "
   ]
  },
  {
   "cell_type": "markdown",
   "metadata": {},
   "source": [
    "Juntamos los dos campos de texto 'PETICION_CIUDADANO' y 'DESCRIPCION_CIUDADANO'"
   ]
  },
  {
   "cell_type": "code",
   "execution_count": 16,
   "metadata": {},
   "outputs": [],
   "source": [
    "df['data'] = df['DESCRIPCION_CIUDADANO'] + df['PETICION_CIUDADANO']"
   ]
  },
  {
   "cell_type": "code",
   "execution_count": 17,
   "metadata": {},
   "outputs": [],
   "source": [
    "import string, re\n",
    "\n",
    "def remove_punct(x):\n",
    "    comp = re.compile(\"[%s\\d]\" % re.escape(string.punctuation))\n",
    "    return \" \".join(comp.sub(\" \", str(x)).split()).lower()\n",
    "\n",
    "df['data']=df['data'].apply(remove_punct)"
   ]
  },
  {
   "cell_type": "code",
   "execution_count": 18,
   "metadata": {},
   "outputs": [
    {
     "data": {
      "text/plain": [
       "979    desde hace años mantengo inversiones en fondos...\n",
       "980    metlife compañía de seguros de vida rechaza el...\n",
       "981    el problema es que depsoite dinero a esta iden...\n",
       "982    con fecha octubre de contrate un credito de co...\n",
       "983    en noviembre del mes pasado presente los antec...\n",
       "984    estimados buenos días estoy interesado en comp...\n",
       "985    muy buenos días a continuación les envío la pr...\n",
       "986    buenas tardes se ejecuto la venta de mis accio...\n",
       "987    no estoy de acuerdo su carta n° del que ustede...\n",
       "988    xx es una entidad informante por estar afecta ...\n",
       "989    junto con saludar envió reclamo por la no devo...\n",
       "990    hace un par de años fui cliente del banco en c...\n",
       "991    buenas tardes tratare de ser breve y preciso h...\n",
       "992    estimados el de febrero durante mis vacaciones...\n",
       "993    hace un año me entere que tenia acciones de mi...\n",
       "994    estimados por favor revisar el proceso de fusi...\n",
       "995    con fecha de febrero del me fueron protestados...\n",
       "996    mal calculo de valor póliza de ahorro por erro...\n",
       "997    estimados svs con fecha se me ha anulado una o...\n",
       "998    tengo un traspaso de dos mil quinientas accion...\n",
       "Name: data, dtype: object"
      ]
     },
     "execution_count": 18,
     "metadata": {},
     "output_type": "execute_result"
    }
   ],
   "source": [
    "df['data'][-20:]"
   ]
  },
  {
   "cell_type": "code",
   "execution_count": 18,
   "metadata": {},
   "outputs": [],
   "source": [
    "from sklearn.feature_extraction.text import CountVectorizer\n",
    "from sklearn.metrics import f1_score\n",
    "\n",
    "n_documents = df.shape[0]\n",
    "count_vectorizer = CountVectorizer(input='content', binary=True,max_df=0.25, min_df=1.01/n_documents) \n",
    "train_binary_bag_of_words = count_vectorizer.fit_transform(df['data']).todense() \n"
   ]
  },
  {
   "cell_type": "code",
   "execution_count": 19,
   "metadata": {},
   "outputs": [
    {
     "data": {
      "text/plain": [
       "(999, 5973)"
      ]
     },
     "execution_count": 19,
     "metadata": {},
     "output_type": "execute_result"
    }
   ],
   "source": [
    "train_binary_bag_of_words.shape"
   ]
  },
  {
   "cell_type": "code",
   "execution_count": 20,
   "metadata": {},
   "outputs": [],
   "source": [
    "labels=(df['MERCADO_ANALISTA']=='Reclamo Valores').astype(int)"
   ]
  },
  {
   "cell_type": "code",
   "execution_count": 21,
   "metadata": {},
   "outputs": [
    {
     "data": {
      "text/plain": [
       "(999,)"
      ]
     },
     "execution_count": 21,
     "metadata": {},
     "output_type": "execute_result"
    }
   ],
   "source": [
    "labels.shape"
   ]
  },
  {
   "cell_type": "markdown",
   "metadata": {},
   "source": [
    "# Bernoulli Naive Bayes\n",
    "\n",
    "C.D. Manning, P. Raghavan and H. Schuetze (2008). Introduction to Information Retrieval. Cambridge University Press, pp. 234-265. https://nlp.stanford.edu/IR-book/html/htmledition/the-bernoulli-model-1.html\n",
    "\n",
    "A. McCallum and K. Nigam (1998). A comparison of event models for naive Bayes text classification. Proc. AAAI/ICML-98 Workshop on Learning for Text Categorization, pp. 41-48."
   ]
  },
  {
   "cell_type": "code",
   "execution_count": 22,
   "metadata": {},
   "outputs": [],
   "source": [
    "from sklearn.model_selection import train_test_split\n",
    "\n",
    "X_train, X_test, y_train, y_test = train_test_split(train_binary_bag_of_words, labels, test_size=0.2)"
   ]
  },
  {
   "cell_type": "code",
   "execution_count": 23,
   "metadata": {},
   "outputs": [
    {
     "name": "stdout",
     "output_type": "stream",
     "text": [
      "alpha : 0.00, accuracy: 0.82\n",
      "alpha : 0.11, accuracy: 0.94\n",
      "alpha : 0.22, accuracy: 0.94\n",
      "alpha : 0.33, accuracy: 0.94\n",
      "alpha : 0.44, accuracy: 0.95\n",
      "alpha : 0.56, accuracy: 0.95\n",
      "alpha : 0.67, accuracy: 0.94\n",
      "alpha : 0.78, accuracy: 0.94\n",
      "alpha : 0.89, accuracy: 0.94\n",
      "alpha : 1.00, accuracy: 0.94\n"
     ]
    }
   ],
   "source": [
    "from sklearn.naive_bayes import BernoulliNB\n",
    "from sklearn import metrics\n",
    "import numpy as np\n",
    "\n",
    "\n",
    "for a in np.linspace(1.0e-10,1,10):\n",
    "    clf = BernoulliNB(alpha=a)\n",
    "    clf.fit(X_train, y_train)\n",
    "    y_pred = clf.predict(X_test)\n",
    "    score = metrics.accuracy_score(y_test, y_pred)\n",
    "    print('alpha : {0:0.2f}, accuracy: {1:0.2f}'.format(a,score))"
   ]
  },
  {
   "cell_type": "code",
   "execution_count": 24,
   "metadata": {},
   "outputs": [
    {
     "name": "stdout",
     "output_type": "stream",
     "text": [
      "              precision    recall  f1-score   support\n",
      "\n",
      "           0       0.94      0.98      0.96       130\n",
      "           1       0.97      0.89      0.93        70\n",
      "\n",
      "    accuracy                           0.95       200\n",
      "   macro avg       0.95      0.94      0.94       200\n",
      "weighted avg       0.95      0.95      0.95       200\n",
      "\n"
     ]
    }
   ],
   "source": [
    "from sklearn.metrics import classification_report\n",
    "\n",
    "clf = BernoulliNB(alpha=0.5)\n",
    "clf.fit(X_train, y_train)\n",
    "y_pred = clf.predict(X_test)\n",
    "\n",
    "print(classification_report(y_test, y_pred))"
   ]
  },
  {
   "cell_type": "markdown",
   "metadata": {},
   "source": [
    "# Bayesian Naive Bayes\n",
    "\n",
    "Ahora, en vez de considerar distribuciones de Bernoulli, utilizamos distribuciones conjugadas (Beta)"
   ]
  },
  {
   "cell_type": "code",
   "execution_count": 25,
   "metadata": {},
   "outputs": [],
   "source": [
    "import tensorflow as tf\n",
    "import tensorflow_probability as tfp\n",
    "import tensorflow.keras as keras\n",
    "tfd = tfp.distributions\n",
    "\n",
    "def get_prior(y):\n",
    "    probs=[np.sum(y==c_k)/len(y) for c_k in np.unique(y)]\n",
    "    print('The class priors are {}'.format(np.sum(probs)))\n",
    "    priors=tfd.Categorical(probs=probs)\n",
    "    return priors"
   ]
  },
  {
   "cell_type": "code",
   "execution_count": 26,
   "metadata": {},
   "outputs": [
    {
     "name": "stdout",
     "output_type": "stream",
     "text": [
      "The class priors are 1.0\n"
     ]
    }
   ],
   "source": [
    "prior=get_prior(labels)"
   ]
  },
  {
   "cell_type": "code",
   "execution_count": 27,
   "metadata": {},
   "outputs": [
    {
     "data": {
      "image/png": "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\n",
      "text/plain": [
       "<Figure size 432x288 with 1 Axes>"
      ]
     },
     "metadata": {
      "needs_background": "light"
     },
     "output_type": "display_data"
    }
   ],
   "source": [
    "import matplotlib.pyplot as plt\n",
    "\n",
    "str_labels=df['MERCADO_ANALISTA'].unique()\n",
    "\n",
    "unique_labels=np.unique(labels)\n",
    "plt.bar(range(2), prior.probs.numpy())\n",
    "plt.xlabel(\"Clase\")\n",
    "plt.ylabel(\"Probabilidad apriori\")\n",
    "plt.title(\"Distribucion de clases\")\n",
    "plt.xticks(range(2), str_labels)\n",
    "plt.show()"
   ]
  },
  {
   "cell_type": "markdown",
   "metadata": {},
   "source": [
    "Los datos originales de las imagenes contienen regiones donde siempre los valores son cero. Una forma de suavizar la estimacion de probabilidades condicionales es usar suavizado de Laplace (https://en.wikipedia.org/wiki/Additive_smoothing)"
   ]
  },
  {
   "cell_type": "code",
   "execution_count": 28,
   "metadata": {},
   "outputs": [],
   "source": [
    "def laplace_smoothing(binary_data,labels,alpha=1):\n",
    "    n_words=binary_data.shape[1]\n",
    "    n_classes=len(np.unique(labels))\n",
    "    theta = np.zeros([n_classes, n_words])\n",
    "    for c_k in range(n_classes):\n",
    "        class_mask = (labels == c_k)\n",
    "        N = class_mask.sum() # number of pixels in class\n",
    "        theta[c_k, :] = (binary_data[class_mask, :].sum(axis=0) + alpha)/(N + alpha*2)\n",
    "    return theta"
   ]
  },
  {
   "cell_type": "markdown",
   "metadata": {},
   "source": [
    "$p(\\theta | D) \\propto p(\\theta)p(D | \\theta)$\n",
    "\n",
    "$p(\\theta | a, b) = \\frac{\\theta^{a - 1}(1 - \\theta)^{\\beta - 1}}{\\beta(a,b)}$\n",
    "\n",
    "El estimador de maxima verosimilitud para la distrbucion Beta es:\n",
    "\n",
    "$\\hat{\\theta}_{\\text{map}} = \\frac{\\alpha + n_1 - 1}{\\alpha + \\beta + n_1 + n_2 - 2}$"
   ]
  },
  {
   "cell_type": "code",
   "execution_count": 29,
   "metadata": {},
   "outputs": [],
   "source": [
    "def get_class_conditionals(probs):\n",
    "    class_conditionals=tfd.Bernoulli(probs=probs)\n",
    "    return class_conditionals\n",
    "\n",
    "def predict_sample(prior, class_conditionals, sample):\n",
    "    cond_probs = class_conditionals.log_prob(sample)\n",
    "    prior_probs=prior.logits_parameter()\n",
    "    cond_probs=tf.cast(cond_probs,prior_probs.dtype)\n",
    "    joint_likelihood = tf.add(prior_probs, tf.reduce_sum(cond_probs,axis=1))\n",
    "    norm_factor = tf.math.reduce_logsumexp(joint_likelihood, axis=-1, keepdims=True)\n",
    "    log_prob = joint_likelihood - norm_factor\n",
    "    return tf.math.exp(log_prob).numpy()\n",
    "\n",
    "def predict_class(prior, class_conditionals, x):\n",
    "    pred=[]\n",
    "    for sample in x:\n",
    "        prob=predict_sample(prior, class_conditionals,sample)\n",
    "        pred.append(prob.argmax())\n",
    "    return pred\n"
   ]
  },
  {
   "cell_type": "code",
   "execution_count": 30,
   "metadata": {},
   "outputs": [
    {
     "data": {
      "text/plain": [
       "tf.int32"
      ]
     },
     "execution_count": 30,
     "metadata": {},
     "output_type": "execute_result"
    }
   ],
   "source": [
    "prior.dtype"
   ]
  },
  {
   "cell_type": "code",
   "execution_count": 31,
   "metadata": {},
   "outputs": [
    {
     "name": "stdout",
     "output_type": "stream",
     "text": [
      "alpha : 0.00, accuracy: 0.70\n",
      "alpha : 0.11, accuracy: 0.94\n",
      "alpha : 0.22, accuracy: 0.94\n",
      "alpha : 0.33, accuracy: 0.94\n",
      "alpha : 0.44, accuracy: 0.95\n",
      "alpha : 0.56, accuracy: 0.95\n",
      "alpha : 0.67, accuracy: 0.94\n",
      "alpha : 0.78, accuracy: 0.94\n",
      "alpha : 0.89, accuracy: 0.94\n",
      "alpha : 1.00, accuracy: 0.94\n"
     ]
    }
   ],
   "source": [
    "for a in np.linspace(0,1,10):\n",
    "    theta=laplace_smoothing(X_train,y_train,alpha=a)\n",
    "    class_conditionals=get_class_conditionals(theta)\n",
    "    y_pred_tfp=predict_class(prior, class_conditionals, X_test)\n",
    "    score = metrics.accuracy_score(y_test, y_pred_tfp)\n",
    "    print('alpha : {0:0.2f}, accuracy: {1:0.2f}'.format(a,score))"
   ]
  },
  {
   "cell_type": "code",
   "execution_count": 32,
   "metadata": {},
   "outputs": [
    {
     "name": "stdout",
     "output_type": "stream",
     "text": [
      "              precision    recall  f1-score   support\n",
      "\n",
      "           0       0.93      0.98      0.96       130\n",
      "           1       0.97      0.87      0.92        70\n",
      "\n",
      "    accuracy                           0.94       200\n",
      "   macro avg       0.95      0.93      0.94       200\n",
      "weighted avg       0.95      0.94      0.94       200\n",
      "\n"
     ]
    }
   ],
   "source": [
    "from sklearn.metrics import classification_report\n",
    "\n",
    "theta=laplace_smoothing(X_train,y_train,alpha=0.33)\n",
    "class_conditionals=get_class_conditionals(theta)\n",
    "y_pred_tfp=predict_class(prior, class_conditionals, X_test)\n",
    "print(classification_report(y_test, y_pred_tfp))"
   ]
  },
  {
   "cell_type": "code",
   "execution_count": 68,
   "metadata": {},
   "outputs": [
    {
     "data": {
      "image/png": "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\n",
      "text/plain": [
       "<Figure size 720x144 with 2 Axes>"
      ]
     },
     "metadata": {
      "needs_background": "light"
     },
     "output_type": "display_data"
    },
    {
     "data": {
      "image/png": "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\n",
      "text/plain": [
       "<Figure size 720x144 with 2 Axes>"
      ]
     },
     "metadata": {
      "needs_background": "light"
     },
     "output_type": "display_data"
    },
    {
     "data": {
      "image/png": "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\n",
      "text/plain": [
       "<Figure size 720x144 with 2 Axes>"
      ]
     },
     "metadata": {
      "needs_background": "light"
     },
     "output_type": "display_data"
    },
    {
     "data": {
      "image/png": "iVBORw0KGgoAAAANSUhEUgAAAmEAAACcCAYAAAA3ZnylAAAAOXRFWHRTb2Z0d2FyZQBNYXRwbG90bGliIHZlcnNpb24zLjMuNCwgaHR0cHM6Ly9tYXRwbG90bGliLm9yZy8QVMy6AAAACXBIWXMAAAsTAAALEwEAmpwYAAAgSElEQVR4nO3defxVVb3/8ddbnHICETIFHFLUqNQEh8qS1BQtQ29mooWaRna1NCv13lumV+vatbJBjcgBZ7OfY+aQP8dMTcFA0DRRUXCeBXMI/dw/1vrK4XDG7/fs7zlfeD8fj++DPay99udMH9Zee+29FRGYmZmZWe9apt0BmJmZmS2N3AgzMzMzawM3wszMzMzawI0wMzMzszZwI8zMzMysDdwIMzMzM2sDN8Ks10maLWnHdsdhZks3SaMlzW13HD0habKkE9odh3WPG2EdStLNkl6StELZ8smS3pI0X9KLkq6XtEled6yk88rKS9Ijku7vRgzHSvpX3tfLkm6X9NGevbLOIelASQ9ImifpGUl/lLRqu+Mys8Xlg7fXcz56OufCVdodV09JGpdfm8qWLyvpWUmfbVdsVjw3wjqQpPWATwABfK5Ckf+NiFWAocCzwOQa1X0SeC/wfklbdiOc3+V9DQJuAn7fjTo6jqTtgB8B4yJiVeADwMVtiGPZ3t6nWR+2W85HmwMfAf6jveG0xGXAAGC7suVjSP8HXFvETp17OoMbYZ1pPHAnqXG1X7VCEfFP4ALgQzXq2g+4Ari6Vl31RMQC4HxgiKTBAJL6SzpD0lOSnpB0gqR+XdtI+qqkv+eepvslbVFer6StJN2Re9qeknSKpOVL1oekf5f0UK7neEkb5G1elXRxWfmvSpqVewmvlLR2lZe0JXBHRPwtv74XI+LsiJiX61lB0k8kPZ57ySZKek/Jfo7M8T4p6aAc54Z53c2SDiopu7+k28pe0yGSHgIeqhV37sk8OR8RvyLpXkm1Pm+zJV5EPA1cR2qMASBpm9xb/7Kk6ZJGl6wbKOms/Ht9SdLlleqVdLSkh0ty1h4l6/aX9Jf8e3w5n2H4WF4+J/9G9ysp31/SOZKek/SYpO9JWuz/3Ih4g3QAOL5s1Xjg/IhYIOn3uffvFUm3SvpgtfemVg6skns+K2maFp7t2LSk/FE5t8+T9KCkHart17rHjbDONJ7U4Dkf2FnSmpUKKXXF7wv8rcr6lYA9S+rau7TB0oy83XjgBeClvPhsYAGwIemodCfgoFz+C8CxeZvVSD16L1So+m3gW6Seto8COwD/XlZmDDAS2AY4EphEet3DSA3QcXmf2wP/A+wFrAU8BlxU5SX9lfTeHifp4yo77Qv8GNiIlOQ3BIYAx+T9jAGOAHbM68qPYBuxO7A1MKJO3DuRejM3Ih0tf5HK76PZUkPSUGAXYFaeHwL8ETgBGAh8B7hE+YAROBdYCfgg6czAyVWqfph0FqI/cBxwnqS1StZvDdwLrEE6AL6IdEC3IfAl4BQtPEX6q1zP+0k5YjxwQJX9ng3s2XWgJ6k/sBtwTl5/DTA8x34PKZ9Xel8ayYG7szD3bAGcCXwtv6bfAFfmg9CNgUOBLfPZgp2B2VXit+6KCP910B+wLfAvYFCefwD4Vsn6ycAbwMvA08CVwAZ53bHAeSVlvwQ8BywLrJC32aOJWI4F3srbvU36z390Xrcm8CbwnpLy44Cb8vR1wGFV6p0N7Fhl3eHAZSXzAXy8ZH4qcFTJ/E+Bn+fpM0inarvWrZLfy/Wq7GsX4A/59c0Hfgb0AwS81vW+5rIfBR7N02cC/1OybsMc54Z5/mbgoJL1+wO3lb2m7Uvmq8YNbA/8g9QAXabd30//+a9dfzlvzAfm5d/QDcCAvO4o4Nyy8teRev/XAt4BVq9Q52hgbo19TgPG5un9gYdK1n04x7FmybIXSAdu/XJ+HFGy7mvAzTX29RCwT57+KjC9SrkBeb/98/xk4IQ8XTMHVsg9vwaOL6v/QVKjcUPScJcdgeXa/fkvqX/uCes8+wF/iojn8/wFLH4a8ScRMSAi3hcRn4uIh2vUdXFELIiIN4FLK9QFgKR9lQa8zpd0TcmqiyNiAKnRNZPUIwWwLrAc8FTuxn6ZdBT13rx+GOmosiZJG0m6Kne1v0oapzWorNgzJdOvV5jvOvJcm3TkB0BEzCclxSGV9h0R10TEbqQj57GkJHsQMJh01Dy15LVdm5d37WdOSVWl040q3aZq3BFxI3AKcCrwjKRJklbrxv7MlgS7R+qVGQ1swsJcsS7wha7fa/7NbktqgA0DXoyIlyrUtwhJ40tOzb1M6mkvzUfluYeIqJSPBgHLU/K7ztMVc1F2DgtPSX6Z1DuGpH6STsynSV9lYW9UeZ6ExnJgae5ZF/h22fs2DFg7ImaRDoqPBZ6VdJGqD++wbnIjrIPkrui9gO1yo+Rp0qm6zSRt1mRdQ0m9KF8qqWtPYFdJi/14I+L8iFgl/+1SYf3zpCO5Y3P3/BzSkd6g3CAcEBGrRUTXWIU5wAYNhPprUm/f8IhYDfhPUk9UdzxJSioASFqZ1MX+RK2NIuKdiLgBuJGUdJ8nJdMPlry2/pEGBAM8RbooosuwsipfIzXiuryv0m4bjTsifhkRI0mnUjYCvlvr9Zgt6SLiFlIP0E/yojmknrABJX8rR8SJed1ASQNq1SlpXeC3pFNwa+SDz5l0Lx89T+qBWrdk2TrUzkXnADsoXYG+DekAHGAf0kHijqTTm+t1hVyhjkZyYGnumQP8sOx9WykiLgSIiAsiYttcZ5CGaVgLuRHWWXYnnfYbQerS3px01d6fWXzQZj1fJp3G2rikro2AueQxVM2KiAdIXfxHRsRTwJ+An0paTdIySgPmu8ZHnQ58R9JIJRvmJFduVeBVYL7SrTa+3p3YsguAAyRtnsd4/Qj4a0TMLi8oaaykvSWtnuPbitQFf2dEvENKxidLem8uP0TSznnzi/N+PpDH3R1TVv004N8kraQ0WP/A7sYtaUtJW0tajtS4e4P0HTFb2v0c+LSkzYHzgN0k7Zx7jlZUugfY0JyrrgFOy7/35SR9skJ9K5MaGs8BSDqA2hc9VRURb5PyxA8lrZpz3xE5zmrbPAbcBlwIXB/p4gNIOfJNUo/WSqT8UE3DOTD7LXBwzjGStLKkz+SYN5a0fa7nDdKBqXNPi7kR1ln2A86KiMcj4umuP9LpqH3V3CXF+wGnldaT65pID66SBE4CJuTGyXhSl/v9pMH6/4/U/U9E/B74ISkpzAMuJ532K/cd0pHePFJC+F13A8u9Wd8HLiH1Vm0A7F2l+EukcRcPkRqB5wEnRUTXgNejSIN+78ynAP4/qUFLRFwD/JJ0y45ZwB15mzfzvyeTxtI9QzqlUHEQbYNxr0Z6X14inWZ4gYVH/2ZLrYh4jtR79P2ImEPqLfpPUiNqDqnHuOv/uC+TeqYeII1zOrxCffeTxpjeQfrtfhj4Sw9C/AbpwOkRUuPqAtJ40lrOJvU6nVOy7BzSb/8JUq69s9rGTeZAImIKKQ+eQsoxs0jDMiCNIz6R1Kv3NGmoyX/Wid+apIioX8rMqpL0AdJpixUi3crDzMysLveEmXWDpD0kLS9pddI4iT+4AWZmZs0orBEm6Uylm9fNrLJekn6pdFO5e1XhRp5mHexrpNMeD5PGSfRkLJt1IOcwMytakT1hk0k32axmF9LN54YDE0hXyZn1CRExJl8xOTAi9siDf23JMhnnMDMrUGGNsIi4FXixRpGxwDmR3AkM0KJ3JjYzaxvnMDMrWjvHhA1h0ZvGzaX2jezMzDqJc5iZ9Ug7n6Je6UZzFS/VlDSB1N3PyiuvPHKTTTYpMi5bkkyd2u4IrJKRI+uXKTF16tTnI2Jw/ZK9qvAcNv2Z6Sx429d7dKJl+y3LZms2dQ9tW0rVyl/tbITNZdE7jQ8l3e13MRExifTQZkaNGhVTpkwpPjpbMqi7N9+3QjX5G5b0WP1Sva7wHKbj/P3tVAtYwJQf+P8iq69W/mrn6cgrgfH5CqNtgFc8uNnM+hDnMDPrkcJ6wiRdSHrI6iBJc4EfkB74TERMBK4GdiXdofefwAFFxWJm1iznMDMrWmGNsIio+XzCSLfqP6So/ZuZ9YRzmJkVzXfMNzMzM2sDN8LMzMzM2sCNMDMzM7M2cCPMzMzMrA3cCDMzMzNrAzfCzMzMzNrAjTAzMzOzNnAjzMzMzKwN3AgzMzMzawM3wszMzMzawI0wMzMzszZwI8zMzMysDdwIMzMzM2uDQhthksZIelDSLElHV1jfX9IfJE2XdJ+kA4qMx8ysUc5fZla0whphkvoBpwK7ACOAcZJGlBU7BLg/IjYDRgM/lbR8UTGZmTXC+cvMekORPWFbAbMi4pGIeAu4CBhbViaAVSUJWAV4EVhQYExmZo1w/jKzwhXZCBsCzCmZn5uXlToF+ADwJDADOCwi3ikwJjOzRjh/mVnhimyEqcKyKJvfGZgGrA1sDpwiabXFKpImSJoiacpzzz3X6jjNzMq1LH+Bc5iZVVZkI2wuMKxkfijpiLHUAcClkcwCHgU2Ka8oIiZFxKiIGDV48ODCAjYzy1qWv8A5zMwqK7IRdjcwXNL6ebDq3sCVZWUeB3YAkLQmsDHwSIExmZk1wvnLzAq3bFEVR8QCSYcC1wH9gDMj4j5JB+f1E4HjgcmSZpC6/4+KiOeLisnMrBHOX2bWG2o2wiTNY/FxEO+KiIrjH0rWXw1cXbZsYsn0k8BODUVqZtaknuQw5y8zK1rNRlhErAog6b+Bp4FzSUd8+wKrFh6dmVkPOIeZWSdrdEzYzhFxWkTMi4hXI+LXwOeLDMzMrIWcw8ys4zTaCHtb0r6S+klaRtK+wNtFBmZm1kLOYWbWcRpthO0D7AU8k/++kJeZmfUFzmFm1nEaujoyImaz+CM7zMz6BOcwM+tEDTXCJK0IHAh8EFixa3lEfKWguMzMWsY5zMw6UaOnI88F3kd6TMctpLtHzysqKDOzFnMOM7OO02gjbMOI+D7wWkScDXwG+HBxYZmZtZRzmJl1nEYbYf/K/74s6UNAf2C9QiIyM2s95zAz6ziNPrZokqTVge+Tnp+2CnBMYVGZmbWWc5iZdZxGr448PU/eAry/uHDMzFrPOczMOlG9Z0ceUWt9RPysteGYmbWOc5iZdbJ6PWFdz1bbGNiS1I0PsBtwa1FBmZm1iHOYmXWsmgPzI+K4iDgOGARsERHfjohvAyNJl3jXJGmMpAclzZJ0dJUyoyVNk3SfpFu68yLMzCrpSQ5z/jKzojU6MH8d4K2S+beoc2WRpH7AqcCngbnA3ZKujIj7S8oMAE4DxkTE45Le23joZmYNayqHOX+ZWW9otBF2LnCXpMuAAPYAzqmzzVbArIh4BEDSRaTHhtxfUmYf4NKIeBwgIp5tInYzs0Y1m8Ocv8yscA3dJywifggcALwEvAwcEBE/qrPZEGBOyfzcvKzURsDqkm6WNFXS+IaiNjNrQjdymPOXmRWu3tWRq0XEq5IGArPzX9e6gRHxYq3NKyyLCvsfCewAvAe4Q9KdEfGPsjgmABMA1llnnVohm5m9qwc5rGX5K+/LOczMFlPvdOQFwGeBqSyagJTna91vZy4wrGR+KPBkhTLPR8RrwGuSbgU2AxZJYhExCZgEMGrUqPJEaGZWTXdzWMvyFziHmVllNRthEfHZ/O/63aj7bmC4pPWBJ4C9SWMoSl0BnCJpWWB5YGvg5G7sy8xsMT3IYc5fZla4eqcjt6i1PiLuqbFugaRDgeuAfsCZEXGfpIPz+okR8XdJ1wL3Au8Ap0fEzGZfhJlZJd3NYc5fZtYb6p2O/GmNdQFsX2vjiLgauLps2cSy+ZOAk+rEYWbWHd3OYc5fZla0eqcjP9VbgZiZtZpzmJl1snqnI7ePiBsl/Vul9RFxaTFhmZn1nHOYmXWyeqcjtwNuJD1nrVwATmBm1smcw8ysY9U7HfmD/O8BvROOmVnrOIeZWSdr6I75ktaQ9EtJ9+Q7Q/9C0hpFB2dm1grOYWbWiRpqhAEXAc8Bnwf2zNO/KyooM7MWcw4zs47T6AO8B0bE8SXzJ0javYB4zMyK4BxmZh2n0Z6wmyTtLWmZ/LcX8MciAzMzayHnMDPrOPVuUTGPdAWRgCOA8/KqZYD5wA8Kjc7MrAecw8ysk9W7OnLV3grEzKzVnMPMrJM1OiYMSasDw4EVu5ZFxK1FBGVm1mrOYWbWaRpqhEk6CDgMGApMA7YB7qDOsyPNzDqBc5iZdaJGB+YfBmwJPJafxfYR0iXeNUkaI+lBSbMkHV2j3JaS3pa0Z4PxmJk1o+kc5vxlZkVrtBH2RkS8ASBphYh4ANi41gaS+gGnArsAI4BxkkZUKfdj4LpmAjcza0JTOcz5y8x6Q6ONsLmSBgCXA9dLugJ4ss42WwGzIuKRiHiLdLPEsRXKfQO4BHi2wVjMzJrVbA5z/jKzwjU0Jiwi9siTx0q6CegPXFtnsyHAnJL5ucDWpQUkDQH2II3L2LKRWMzMmtWNHOb8ZWaFa+bqyC2AbUn33PlLPjqsuUmFZVE2/3PgqIh4W6pU/N19TwAmAKyzzjqNhmxm9q4mc1jL8lfet3OYmS2m0Qd4HwOcDawBDALOkvS9OpvNBYaVzA9l8e7/UcBFkmaTnud2WqVHiUTEpIgYFRGjBg8e3EjIZmbv6kYOa1n+AucwM6us0Z6wccBHSga2ngjcA5xQY5u7geGS1geeAPYG9iktEBHrd01LmgxcFRGXNxq8mVmDms1hzl9mVrhGG2GzSTc4fCPPrwA8XGuDiFgg6VDSVUP9gDMj4j5JB+f1E7sVsZlZ82bTRA5z/jKz3lDv2ZG/Io2DeBO4T9L1ef7TwG31Ko+Iq4Gry5ZVTF4RsX9jIZuZNaYnOcz5y8yKVq8nbEr+dypwWcnymwuJxsystZzDzKxj1XuA99ld05KWBzbKsw9GxL+KDMzMrKecw8yskzX67MjRpCuLZpMu3R4maT8//NbM+gLnMDPrRI0OzP8psFNEPAggaSPgQmBkUYGZmbWQc5iZdZxGH1u0XFfyAoiIfwDLFROSmVnLOYeZWcdptCdsqqQzgHPz/L6kga5mZn2Bc5iZdZxGG2EHA4cA3ySNp7gVOK2ooMzMWsw5zMw6Tt1GmKRlgKkR8SHgZ8WHZGbWOs5hZtap6o4Ji4h3gOmS/NRZM+tznMPMrFM1ejpyLdLdpu8CXutaGBGfKyQqM7PWcg4zs47TaCPsuEKjMDMrlnOYmXWces+OXJE0oHVDYAZwRkQs6I3AzMx6yjnMzDpZvTFhZwOjSMlrF9IND83M+grnMDPrWPUaYSMi4ksR8RtgT+ATzVQuaYykByXNknR0hfX7Sro3/90uabNm6jczq6PbOcz5y8yKVq8R9u4DbpvtwpfUDziVdPQ5AhgnaURZsUeB7SJiU+B4YFIz+zAzq6NbOcz5y8x6Q72B+ZtJejVPC3hPnhcQEbFajW23AmZFxCMAki4CxgL3dxWIiNtLyt8JDG0yfjOzWrqbw5y/zKxwNRthEdGvB3UPAeaUzM8Ftq5R/kDgmh7sz8xsET3IYc5fZla4Rm9R0R2qsCwqFpQ+RUpi21ZZPwGYALDOOr7fopkVrmX5K5dxDjOzxdS9Y34PzAWGlcwPBZ4sLyRpU+B0YGxEvFCpooiYFBGjImLU4MGDCwnWzKxEy/IXOIeZWWVFNsLuBoZLWl/S8sDewJWlBfJjRC4FvhwR/ygwFjOzZjh/mVnhCjsdGRELJB0KXAf0A86MiPskHZzXTwSOAdYATpMEsCAiRhUVk5lZI5y/zKw3FDkmjIi4Gri6bNnEkumDgIOKjMHMrDucv8ysaEWejjQzMzOzKtwIMzMzM2sDN8LMzMzM2sCNMDMzM7M2cCPMzMzMrA3cCDMzMzNrAzfCzMzMzNrAjTAzMzOzNnAjzMzMzKwN3AgzMzMzawM3wszMzMzawI0wMzMzszZwI8zMzMysDQpthEkaI+lBSbMkHV1hvST9Mq+/V9IWRcZjZtYo5y8zK1phjTBJ/YBTgV2AEcA4SSPKiu0CDM9/E4BfFxWPmVmjnL/MrDcU2RO2FTArIh6JiLeAi4CxZWXGAudEcicwQNJaBcZkZtYI5y8zK1yRjbAhwJyS+bl5WbNlzMx6m/OXmRVu2QLrVoVl0Y0ySJpA6u4HmC/pwR7G1lcNAp5vdxDWNkvO569KP/2a1i0ijBpalr/AOSxbcr6/mY5t+nu8NFviPv8mVM1fRTbC5gLDSuaHAk92owwRMQmY1OoA+xpJUyJiVLvjsPbw59+rWpa/wDkM/P1d2vnzr6zI05F3A8MlrS9peWBv4MqyMlcC4/NVRtsAr0TEUwXGZGbWCOcvMytcYT1hEbFA0qHAdUA/4MyIuE/SwXn9ROBqYFdgFvBP4ICi4jEza5Tzl5n1BkVUHMJgHUjShHxaw5ZC/vytL/P3d+nmz78yN8LMzMzM2sCPLTIzMzNrgyWmESZpD0khaZOSZetJel3SNEn3S5ooaZm8fGbZ9r+Q9ISkht4TSZMlPZrrni5ph27GPVnSnt3Ztpv7+4qkGfkxKzMlld+Acqkl6e38ec6U9AdJA7pZz/wWh1ZtPytLekFS/7Lll0vaq8Z2vRKfNc75q+H9OX9V4fzVNy0xjTBgHHAb6SqmUg9HxObApqTHj+xevmFOXHuQbrz4ySb2+d1c9+HAxGYD7m2ShgL/BWwbEZsC2wD3FrzPfkXW32KvR8TmEfEh4EXgkHYHVEtEvAb8iZLvdE5o2wJXtWIffezz68ucv+pw/qrL+atMX/j8lohGmKRVgI8DB7J4EgPS1U7A7cCGFVZ/CphJevbbuG6EcAf5TtmS+kk6SdLd+WjtayVxHpmP4qZLOrHC6zgmbzdT0iQp3dFS0s2STpZ0q6S/S9pS0qWSHpJ0Qsn2R+RtZ0o6vEKc7wXmAfPzezI/Ih7N224g6VpJUyX9ueuIPC+/M8f1311HIZJGS3r3hyLpFEn75+nZ+bXcBnxB0rj8umdK+nHJ+zQ5L5sh6VvdeN+LVPqZVntv1pR0Wf48p0v6WGkFklaRdIOke/JrHJuXryfpAUmn59d/vqQdJf0lf6Zb5XID81Hhvfkz2LRCnBey6Hd+D+BaYJlK+y6LT/m72vUZfDEvHy3pJkkXADOqfaclrZW/k11H35/o4Xu+VHL+end756/Wcf7qK/krIvr8H/Al4Iw8fTuwRZ5eD5iZp1ci3ftnl9Lled3pwJeB1YAngOUa2OdkYM88vTtwQZ6eAHwvT68ATAHWz/u9HVgprxtYoZ6BJfWfC+yWp28GfpynDyPdEHKtXP9cYA1gJDADWBlYBbgP+EhZzP1Il9w/DpzVVX9edwMwPE9vDdyYp68CxuXpg4H5eXo0cFXJ9qcA++fp2cCReXrtvL/BpFui3Jjfr5HA9SXbD+iA71HXa+sH/B4YU+e9+R1weMk2/cvqWRZYLU8PIt3KQPn7twD4MOlAaCpwZl43Frg8b/Mr4Ad5entgWoWYlweeBdbI89cCn6m277L4Pg9cn2NfM39Oa+XP9jVg/Trf6W8D/1Xy+ldt92fYF/9w/nL+as33yPmrD+avIu+Y35vGAT/P0xfl+Xvy/AaSppEeJ3JFRFwjab2uDZVuxLgr8K2ImCfpr8BOwB8b2O9Jkv6XdIS2TV62E7CpFo6T6A8MB3YEzoqIfwJExIsV6vuUpCNJCXcgKRH9Ia/rulHkDOC+yDeFlPQI6a7d2wKXReriRdKlwCeAv3VVHhFvSxoDbAnsAJwsaSTwE+BjwO+18HEyK+R/P8rC7uILctlG/C7/uyVwc0Q8l+M6n3TK5Hjg/ZJ+RXqv/9RgvUV6T/6urEdKLNfnXopq7832wHhI7y3wSll9An4k6ZPAO6Qj0zXzukcjYgaApPuAGyIiJM3I+4f0mX4+13+jpDUk9Y+Id/cTEW9JuhLYU9IlwOak97Lavp8uiW9b4MIc+zOSbiF9Xq8Cd0XuZaD6d/pu4ExJy5ES77Qa761V5/zl/NUKzl99MH/1+UaYpDVIX6YPSQpSizZyMoCFYyqqGUP6UGbkL+lKpBsvLpLEJJ0FfAR4MiJ2zYu/C1wKfBM4m3R0JOAbEXFd2fZjqPJcubx+ReA0YFREzJF0LLBiSZE387/vlEx3zS9L5efYLSZSs/8u4C5J15OOKH8GvFznfSq3gEVPZ69Ytv61/G/FuCLiJUmbATuTxi7sBXylif0X4fWI2FxpXMJVpLgm0/x702Vf0hH0yIj4l6TZLHyfyj/D0s+363fZ6LMJLwS+l8tfkfe1f419d6n1nXmtZLridxogJ8nPAOdKOikizqlRp5Vx/nL+aiHnr4X6TP5aEsaE7QmcExHrRsR6ETEMeJTUSm7EOOCgvO16pG7KnSStVFooIg6INOhx17Ll7wC/IJ3D3pnUXf713LpG0kaSVia17r/SVa+kgWVxdH3Bns9HL81ecXQrsLuklfL+9gD+XFpA0tqStihZtDnwWES8Cjwq6Qu5nHKCAbiTfDTDoufuHwNGSFoh/+irXV31V2A7SYOUBkmOA26RNAhYJiIuAb4PbFFl+16Xj9S+CXwHeJ3q780NwNfz8n6SViurqj/wbE4in6L5h1DfSkqESBoNPJ8/q3I3kY7sDiEltEb3fSvwxRz7YNIR/l0VylX8TktaN+/jt8AZdNBn2Ic4fyXOXy3i/LWYjs5fS0IjbBxwWdmyS4B96m2YE8rOlBw15u7w24DdGg0gH52dABxJGp9xP3CP0mXkvwGWjYhrSV3yU5S6jL9TVsfLwG9J3fWXk7pKGxYR95COeu4iJY7TI+JvZcWWA36iNKhyGvBF0hgNSD+WAyVNJ51GGJuXHw4cIeku0vn2V/L+5gAXk65OOp+S0wZlcT0F/AfphzYduCciriB1L9+c45icy3SM/N5NJyXuau/NYaRTMDNI3f8fLKvmfGCUpCm5jgeaDOPYvP29wInAflVifYf0nV+DlJga3fdlpM9vOmmsy5ER8XSFchW/06SxF9Mk/Y30H90vmnx95vzVtb3zVws5fy2io/OX75hvNeVE/3o+3783aZDr2HrbmZm1m/OXdbo+PybMCjcSOEWSgJdp/7gHM7NGOX9ZR3NPmJmZmVkbLAljwszMzMz6HDfCzMzMzNrAjTAzMzOzNnAjzMzMzKwN3AgzMzMzawM3wszMzMza4P8A+OApklEr0bwAAAAASUVORK5CYII=\n",
      "text/plain": [
       "<Figure size 720x144 with 2 Axes>"
      ]
     },
     "metadata": {
      "needs_background": "light"
     },
     "output_type": "display_data"
    },
    {
     "data": {
      "image/png": "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\n",
      "text/plain": [
       "<Figure size 720x144 with 2 Axes>"
      ]
     },
     "metadata": {
      "needs_background": "light"
     },
     "output_type": "display_data"
    },
    {
     "data": {
      "image/png": "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\n",
      "text/plain": [
       "<Figure size 720x144 with 2 Axes>"
      ]
     },
     "metadata": {
      "needs_background": "light"
     },
     "output_type": "display_data"
    },
    {
     "data": {
      "image/png": "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\n",
      "text/plain": [
       "<Figure size 720x144 with 2 Axes>"
      ]
     },
     "metadata": {
      "needs_background": "light"
     },
     "output_type": "display_data"
    },
    {
     "data": {
      "image/png": "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\n",
      "text/plain": [
       "<Figure size 720x144 with 2 Axes>"
      ]
     },
     "metadata": {
      "needs_background": "light"
     },
     "output_type": "display_data"
    }
   ],
   "source": [
    "class_error=y_pred_tfp!=y_test\n",
    "X_error=X_test[class_error]\n",
    "true_label=y_test[class_error]\n",
    "n_error=len(true_label)\n",
    "str_labels=df['MERCADO_ANALISTA'].unique()\n",
    "\n",
    "for i in range(1,n_error+1,2):\n",
    "    fig, ax = plt.subplots(1,2,figsize=(10, 2))\n",
    "    for j in range(2):\n",
    "        if(i+j<n_error):\n",
    "            err_pred=predict_sample(prior, class_conditionals,X_error[i+j,:])\n",
    "            bar=ax[j].bar(str_labels, err_pred, color='red')\n",
    "            bar[int(true_label.iloc[i])].set_color('green')\n",
    "            ax[j].set_title(str_labels[int(true_label.iloc[i+j])])\n",
    "            ax[j].set_ylim([0, 1])\n",
    "            ax[j].set_ylabel('Probabilidad')\n",
    "plt.show()"
   ]
  },
  {
   "cell_type": "code",
   "execution_count": null,
   "metadata": {},
   "outputs": [],
   "source": []
  }
 ],
 "metadata": {
  "kernelspec": {
   "display_name": "Python 3",
   "language": "python",
   "name": "python3"
  },
  "language_info": {
   "codemirror_mode": {
    "name": "ipython",
    "version": 3
   },
   "file_extension": ".py",
   "mimetype": "text/x-python",
   "name": "python",
   "nbconvert_exporter": "python",
   "pygments_lexer": "ipython3",
<<<<<<< HEAD
   "version": "3.8.6"
=======
   "version": "3.6.9"
>>>>>>> a306c120811b14f9d7d7d79a00fde4f574006cbc
  }
 },
 "nbformat": 4,
 "nbformat_minor": 4
}
