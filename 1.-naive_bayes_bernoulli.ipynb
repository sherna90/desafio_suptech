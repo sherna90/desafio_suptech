{
 "cells": [
  {
   "cell_type": "code",
   "execution_count": 1,
   "metadata": {},
   "outputs": [],
   "source": [
    "import pandas as pd\n",
    "import sklearn as sklearn"
   ]
  },
  {
   "cell_type": "markdown",
   "metadata": {},
   "source": [
    "La biblioteca xlrd se usa para acceder a Excel como fuente de datos. Los datos originales contienen macros (xlsx), por lo tanto se requiere una bilbioteca adicional (openpyxl)."
   ]
  },
  {
   "cell_type": "code",
   "execution_count": null,
   "metadata": {},
   "outputs": [],
   "source": [
    "!pip3 install --user xlrd\n",
    "!pip3 install --user openpyxl"
   ]
  },
  {
   "cell_type": "code",
   "execution_count": 41,
   "metadata": {},
   "outputs": [],
   "source": [
    "import os\n",
    "\n",
    "df=pd.read_excel(\n",
    "     os.path.join(\"data\", \"reclamos_20201221_con_clas.xlsx\"),\n",
    "     engine='openpyxl',\n",
    ")"
   ]
  },
  {
   "cell_type": "code",
   "execution_count": 42,
   "metadata": {},
   "outputs": [
    {
     "data": {
      "text/plain": [
       "Index(['CASO_ID', 'MERCADO_ANALISTA', 'DESCRIPCION_CIUDADANO',\n",
       "       'PETICION_CIUDADANO'],\n",
       "      dtype='object')"
      ]
     },
     "execution_count": 42,
     "metadata": {},
     "output_type": "execute_result"
    }
   ],
   "source": [
    "df.columns"
   ]
  },
  {
   "cell_type": "code",
   "execution_count": 43,
   "metadata": {},
   "outputs": [],
   "source": [
    "df['MERCADO_ANALISTA']=df['MERCADO_ANALISTA'].astype('category')"
   ]
  },
  {
   "cell_type": "code",
   "execution_count": 44,
   "metadata": {},
   "outputs": [
    {
     "data": {
      "text/html": [
       "<div>\n",
       "<style scoped>\n",
       "    .dataframe tbody tr th:only-of-type {\n",
       "        vertical-align: middle;\n",
       "    }\n",
       "\n",
       "    .dataframe tbody tr th {\n",
       "        vertical-align: top;\n",
       "    }\n",
       "\n",
       "    .dataframe thead th {\n",
       "        text-align: right;\n",
       "    }\n",
       "</style>\n",
       "<table border=\"1\" class=\"dataframe\">\n",
       "  <thead>\n",
       "    <tr style=\"text-align: right;\">\n",
       "      <th></th>\n",
       "      <th>CASO_ID</th>\n",
       "      <th>MERCADO_ANALISTA</th>\n",
       "      <th>DESCRIPCION_CIUDADANO</th>\n",
       "      <th>PETICION_CIUDADANO</th>\n",
       "    </tr>\n",
       "  </thead>\n",
       "  <tbody>\n",
       "    <tr>\n",
       "      <th>0</th>\n",
       "      <td>638428.0</td>\n",
       "      <td>APIA -Reclamo Seguros</td>\n",
       "      <td>RECIBI UN CORREO ELECTRONICO DONDE SE ME INDIC...</td>\n",
       "      <td>DADO QUE NINGUNA DE LAS CAUSALES ANTERIORES SE...</td>\n",
       "    </tr>\n",
       "    <tr>\n",
       "      <th>1</th>\n",
       "      <td>580194.0</td>\n",
       "      <td>APIA -Reclamo Seguros</td>\n",
       "      <td>Mi nombre es XX y el día 27 de Enero de este a...</td>\n",
       "      <td>Necesito que Metlife me deposite el dinero sol...</td>\n",
       "    </tr>\n",
       "    <tr>\n",
       "      <th>2</th>\n",
       "      <td>447321.0</td>\n",
       "      <td>APIA -Reclamo Seguros</td>\n",
       "      <td>Estimados Señores SVS\\n\\nCon fecha 13 de Octub...</td>\n",
       "      <td>Por esta razón quiero colocar un reclamo forma...</td>\n",
       "    </tr>\n",
       "    <tr>\n",
       "      <th>3</th>\n",
       "      <td>437201.0</td>\n",
       "      <td>APIA -Reclamo Seguros</td>\n",
       "      <td>En primera instancia solicité renvar mi tarjet...</td>\n",
       "      <td>Solicito devolución de lo que me cobraron por ...</td>\n",
       "    </tr>\n",
       "    <tr>\n",
       "      <th>4</th>\n",
       "      <td>385926.0</td>\n",
       "      <td>Reclamo Valores</td>\n",
       "      <td>reclamo en contra Scotiabank por cobros de man...</td>\n",
       "      <td>condonacion de los cobros que hace el Banco.</td>\n",
       "    </tr>\n",
       "  </tbody>\n",
       "</table>\n",
       "</div>"
      ],
      "text/plain": [
       "    CASO_ID        MERCADO_ANALISTA  \\\n",
       "0  638428.0  APIA -Reclamo Seguros    \n",
       "1  580194.0  APIA -Reclamo Seguros    \n",
       "2  447321.0  APIA -Reclamo Seguros    \n",
       "3  437201.0  APIA -Reclamo Seguros    \n",
       "4  385926.0         Reclamo Valores   \n",
       "\n",
       "                               DESCRIPCION_CIUDADANO  \\\n",
       "0  RECIBI UN CORREO ELECTRONICO DONDE SE ME INDIC...   \n",
       "1  Mi nombre es XX y el día 27 de Enero de este a...   \n",
       "2  Estimados Señores SVS\\n\\nCon fecha 13 de Octub...   \n",
       "3  En primera instancia solicité renvar mi tarjet...   \n",
       "4  reclamo en contra Scotiabank por cobros de man...   \n",
       "\n",
       "                                  PETICION_CIUDADANO  \n",
       "0  DADO QUE NINGUNA DE LAS CAUSALES ANTERIORES SE...  \n",
       "1  Necesito que Metlife me deposite el dinero sol...  \n",
       "2  Por esta razón quiero colocar un reclamo forma...  \n",
       "3  Solicito devolución de lo que me cobraron por ...  \n",
       "4       condonacion de los cobros que hace el Banco.  "
      ]
     },
     "execution_count": 44,
     "metadata": {},
     "output_type": "execute_result"
    }
   ],
   "source": [
    "df.head()"
   ]
  },
  {
   "cell_type": "markdown",
   "metadata": {},
   "source": [
    "Al contar los datos pertencientes a cada clase, se observa desbalance de clases."
   ]
  },
  {
   "cell_type": "code",
   "execution_count": 45,
   "metadata": {},
   "outputs": [
    {
     "data": {
      "text/html": [
       "<div>\n",
       "<style scoped>\n",
       "    .dataframe tbody tr th:only-of-type {\n",
       "        vertical-align: middle;\n",
       "    }\n",
       "\n",
       "    .dataframe tbody tr th {\n",
       "        vertical-align: top;\n",
       "    }\n",
       "\n",
       "    .dataframe thead th {\n",
       "        text-align: right;\n",
       "    }\n",
       "</style>\n",
       "<table border=\"1\" class=\"dataframe\">\n",
       "  <thead>\n",
       "    <tr style=\"text-align: right;\">\n",
       "      <th></th>\n",
       "      <th>CASO_ID</th>\n",
       "      <th>DESCRIPCION_CIUDADANO</th>\n",
       "      <th>PETICION_CIUDADANO</th>\n",
       "    </tr>\n",
       "    <tr>\n",
       "      <th>MERCADO_ANALISTA</th>\n",
       "      <th></th>\n",
       "      <th></th>\n",
       "      <th></th>\n",
       "    </tr>\n",
       "  </thead>\n",
       "  <tbody>\n",
       "    <tr>\n",
       "      <th>APIA -Reclamo Seguros</th>\n",
       "      <td>662</td>\n",
       "      <td>662</td>\n",
       "      <td>662</td>\n",
       "    </tr>\n",
       "    <tr>\n",
       "      <th>Reclamo Valores</th>\n",
       "      <td>337</td>\n",
       "      <td>337</td>\n",
       "      <td>337</td>\n",
       "    </tr>\n",
       "  </tbody>\n",
       "</table>\n",
       "</div>"
      ],
      "text/plain": [
       "                        CASO_ID  DESCRIPCION_CIUDADANO  PETICION_CIUDADANO\n",
       "MERCADO_ANALISTA                                                          \n",
       "APIA -Reclamo Seguros       662                    662                 662\n",
       "Reclamo Valores             337                    337                 337"
      ]
     },
     "execution_count": 45,
     "metadata": {},
     "output_type": "execute_result"
    }
   ],
   "source": [
    "df.groupby('MERCADO_ANALISTA').count()"
   ]
  },
  {
   "cell_type": "code",
   "execution_count": 46,
   "metadata": {},
   "outputs": [
    {
     "data": {
      "text/plain": [
       "'RECIBI UN CORREO ELECTRONICO DONDE SE ME INDICA QUE  ZURICH SANTANDER SEGUROS HA DECIDIDO NO RENOVAR LA PÓLIZA Nº XX - SÚPER SEGURO ALIVIO SEGURO FAMILIAR POR UN NUEVO PERÍODO, CONFORME AL ARTÍCULO 5 DE LAS CONDICIONES GENERALES DE SU SEGURO (POL 2 99 003). \\n\\nSEGÚN HE REVISADO, LA POL 299 003 CORRESPONDE A UNA POLIZA DE PRESTACIONES MEDICAS, LA CUAL ESTA PROHIBIDA POR RESOLUCION N°541 DE 15/09/2010.\\n\\nADEMÁS REVISANDO ANTECEDENTES ENTIENDO QUE LA COMPAÑÍA NO PUEDE PONER TERMINO UNILATERAL A DICHO SEGURO A MENOS QUE SE CUMPLA ALGUNA DE LAS CAUSALES COMO “NO PAGO DE LA PRIMA; CAMBIO DE LO QUE SE ASEGURÓ; OMISIÓN O FALSEO DE INFORMACIÓN POR PARTE DEL CLIENTE; PÉRDIDA TOTAL O PARCIAL, DESTRUCCIÓN DE LOS RIESGOS O LO ASEGURADO TRAS FIRMAR EL CONTRATO, AÚN SI EL EVENTO TIENE O NO COBERTURA. CAMBIO EN LA MONEDA DE LA PÓLIZA”.\\n'"
      ]
     },
     "execution_count": 46,
     "metadata": {},
     "output_type": "execute_result"
    }
   ],
   "source": [
    "df.loc[0]['DESCRIPCION_CIUDADANO']"
   ]
  },
  {
   "cell_type": "code",
   "execution_count": 47,
   "metadata": {},
   "outputs": [
    {
     "data": {
      "text/plain": [
       "'DADO QUE NINGUNA DE LAS CAUSALES ANTERIORES SE CUMPLE ES QUE VENGO A SOLICITAR A UDS INTERVENGAN EN ESTA DECISION UNILATERAL DE LA COMPAÑÍA Y SE RECHAZE LA NO RENOVACION DE MI POLIZA TOMADA HACE10 AÑOS (13/09/2006) '"
      ]
     },
     "execution_count": 47,
     "metadata": {},
     "output_type": "execute_result"
    }
   ],
   "source": [
    "df.loc[0]['PETICION_CIUDADANO']"
   ]
  },
  {
   "cell_type": "code",
   "execution_count": 48,
   "metadata": {},
   "outputs": [
    {
     "data": {
      "text/plain": [
       "'APIA -Reclamo Seguros '"
      ]
     },
     "execution_count": 48,
     "metadata": {},
     "output_type": "execute_result"
    }
   ],
   "source": [
    "df.loc[0]['MERCADO_ANALISTA']"
   ]
  },
  {
   "cell_type": "code",
   "execution_count": 49,
   "metadata": {},
   "outputs": [
    {
     "data": {
      "text/plain": [
       "'Necesito,\\nSaber cual es la forma de obtener información sobre la constructora Curauma quien se dio a quiebra y no ha dado ninguna información a los acciones pequeños como yo, he tratado de comunicarme vía teléfono sin respuesta de esta entidad.'"
      ]
     },
     "execution_count": 49,
     "metadata": {},
     "output_type": "execute_result"
    }
   ],
   "source": [
    "df.loc[500]['DESCRIPCION_CIUDADANO']"
   ]
  },
  {
   "cell_type": "code",
   "execution_count": 50,
   "metadata": {},
   "outputs": [
    {
     "data": {
      "text/plain": [
       "'saber si puedo recuperar algo de mi inversion'"
      ]
     },
     "execution_count": 50,
     "metadata": {},
     "output_type": "execute_result"
    }
   ],
   "source": [
    "df.loc[500]['PETICION_CIUDADANO']"
   ]
  },
  {
   "cell_type": "code",
   "execution_count": 51,
   "metadata": {},
   "outputs": [
    {
     "data": {
      "text/plain": [
       "'Reclamo Valores'"
      ]
     },
     "execution_count": 51,
     "metadata": {},
     "output_type": "execute_result"
    }
   ],
   "source": [
    "df.loc[500]['MERCADO_ANALISTA']"
   ]
  },
  {
   "cell_type": "markdown",
   "metadata": {},
   "source": [
    "Borramos los datos nulos"
   ]
  },
  {
   "cell_type": "code",
   "execution_count": 52,
   "metadata": {},
   "outputs": [],
   "source": [
    "df=df[['MERCADO_ANALISTA','PETICION_CIUDADANO','DESCRIPCION_CIUDADANO']].dropna()"
   ]
  },
  {
   "cell_type": "markdown",
   "metadata": {},
   "source": [
    "Juntamos los dos campos de texto 'PETICION_CIUDADANO' y 'DESCRIPCION_CIUDADANO'"
   ]
  },
  {
   "cell_type": "code",
   "execution_count": 53,
   "metadata": {},
   "outputs": [],
   "source": [
    "df['data'] = df['DESCRIPCION_CIUDADANO'].map(str) + df['PETICION_CIUDADANO'].map(str)"
   ]
  },
  {
   "cell_type": "code",
   "execution_count": 54,
   "metadata": {},
   "outputs": [
    {
     "data": {
      "text/plain": [
       "979    Desde hace años mantengo inversiones en fondos...\n",
       "980    Metlife Compañía de Seguros de Vida Rechaza el...\n",
       "981    el problema es que depsoite dinero a esta iden...\n",
       "982    CON FECHA OCTUBRE DE 2013 CONTRATE UN CREDITO ...\n",
       "983    En noviembre del mes pasado, presente los ante...\n",
       "984    Estimados buenos días, estoy interesado en com...\n",
       "985    Muy buenos días:\\n\\nA continuación les envío l...\n",
       "986    Buenas tardes, se ejecuto la venta de mis acci...\n",
       "987    No estoy de acuerdo su carta N°  14789  del 10...\n",
       "988    XX es una entidad informante por estar afecta ...\n",
       "989    Junto con saludar, envió reclamo por la no dev...\n",
       "990    Hace un par de años fui cliente del banco en c...\n",
       "991    BUENAS TARDES ,TRATARE DE SER BREVE Y PRECISO,...\n",
       "992    Estimados\\nEl 26 de febrero, durante mis vacac...\n",
       "993    Hace un año me entere que tenia acciones de mi...\n",
       "994    Estimados por favor revisar el proceso de fusi...\n",
       "995    Con fecha de febrero del 2013 me fueron protes...\n",
       "996    1. Mal calculo de valor póliza de ahorro, por ...\n",
       "997    Estimados SVS;\\n\\nCon fecha 08/01/15 se me ha ...\n",
       "998    Tengo un traspaso de dos mil quinientas (2500)...\n",
       "Name: data, dtype: object"
      ]
     },
     "execution_count": 54,
     "metadata": {},
     "output_type": "execute_result"
    }
   ],
   "source": [
    "df['data'][-20:]"
   ]
  },
  {
   "cell_type": "code",
   "execution_count": 55,
   "metadata": {},
   "outputs": [],
   "source": [
    "from sklearn.feature_extraction.text import CountVectorizer\n",
    "from sklearn.metrics import f1_score\n",
    "\n",
    "n_documents = df.shape[0]\n",
    "count_vectorizer = CountVectorizer(input='content', binary=True,max_df=0.25, min_df=1.01/n_documents) \n",
    "train_binary_bag_of_words = count_vectorizer.fit_transform(df['data']).todense() \n"
   ]
  },
  {
   "cell_type": "code",
   "execution_count": 56,
   "metadata": {},
   "outputs": [
    {
     "data": {
      "text/plain": [
       "(999, 6188)"
      ]
     },
     "execution_count": 56,
     "metadata": {},
     "output_type": "execute_result"
    }
   ],
   "source": [
    "train_binary_bag_of_words.shape"
   ]
  },
  {
   "cell_type": "code",
   "execution_count": 57,
   "metadata": {},
   "outputs": [],
   "source": [
    "labels=(df['MERCADO_ANALISTA']=='Reclamo Valores').astype(int)"
   ]
  },
  {
   "cell_type": "code",
   "execution_count": 58,
   "metadata": {},
   "outputs": [
    {
     "data": {
      "text/plain": [
       "(999,)"
      ]
     },
     "execution_count": 58,
     "metadata": {},
     "output_type": "execute_result"
    }
   ],
   "source": [
    "labels.shape"
   ]
  },
  {
   "cell_type": "markdown",
   "metadata": {},
   "source": [
    "# Bernoulli Naive Bayes\n",
    "\n",
    "C.D. Manning, P. Raghavan and H. Schuetze (2008). Introduction to Information Retrieval. Cambridge University Press, pp. 234-265. https://nlp.stanford.edu/IR-book/html/htmledition/the-bernoulli-model-1.html\n",
    "\n",
    "A. McCallum and K. Nigam (1998). A comparison of event models for naive Bayes text classification. Proc. AAAI/ICML-98 Workshop on Learning for Text Categorization, pp. 41-48."
   ]
  },
  {
   "cell_type": "code",
   "execution_count": 66,
   "metadata": {},
   "outputs": [],
   "source": [
    "from sklearn.model_selection import train_test_split\n",
    "\n",
    "X_train, X_test, y_train, y_test = train_test_split(train_binary_bag_of_words, labels, test_size=0.2)"
   ]
  },
  {
   "cell_type": "code",
   "execution_count": 67,
   "metadata": {},
   "outputs": [
    {
     "name": "stdout",
     "output_type": "stream",
     "text": [
      "alpha : 0.00, accuracy: 0.83\n",
      "alpha : 0.11, accuracy: 0.94\n",
      "alpha : 0.22, accuracy: 0.95\n",
      "alpha : 0.33, accuracy: 0.95\n",
      "alpha : 0.44, accuracy: 0.95\n",
      "alpha : 0.56, accuracy: 0.95\n",
      "alpha : 0.67, accuracy: 0.95\n",
      "alpha : 0.78, accuracy: 0.95\n",
      "alpha : 0.89, accuracy: 0.95\n",
      "alpha : 1.00, accuracy: 0.95\n"
     ]
    }
   ],
   "source": [
    "from sklearn.naive_bayes import BernoulliNB\n",
    "from sklearn import metrics\n",
    "import numpy as np\n",
    "\n",
    "\n",
    "for a in np.linspace(1.0e-10,1,10):\n",
    "    clf = BernoulliNB(alpha=a)\n",
    "    clf.fit(X_train, y_train)\n",
    "    y_pred = clf.predict(X_test)\n",
    "    score = metrics.accuracy_score(y_test, y_pred)\n",
    "    print('alpha : {0:0.2f}, accuracy: {1:0.2f}'.format(a,score))"
   ]
  },
  {
   "cell_type": "code",
   "execution_count": 68,
   "metadata": {},
   "outputs": [
    {
     "name": "stdout",
     "output_type": "stream",
     "text": [
      "              precision    recall  f1-score   support\n",
      "\n",
      "           0       0.95      0.98      0.96       124\n",
      "           1       0.96      0.92      0.94        76\n",
      "\n",
      "    accuracy                           0.95       200\n",
      "   macro avg       0.96      0.95      0.95       200\n",
      "weighted avg       0.96      0.95      0.95       200\n",
      "\n"
     ]
    }
   ],
   "source": [
    "from sklearn.metrics import classification_report\n",
    "\n",
    "clf = BernoulliNB(alpha=0.5)\n",
    "clf.fit(X_train, y_train)\n",
    "y_pred = clf.predict(X_test)\n",
    "\n",
    "print(classification_report(y_test, y_pred))"
   ]
  },
  {
   "cell_type": "markdown",
   "metadata": {},
   "source": [
    "# Bayesian Naive Bayes\n",
    "\n",
    "Ahora, en vez de considerar distribuciones de Bernoulli, utilizamos distribuciones conjugadas (Beta)"
   ]
  },
  {
   "cell_type": "code",
   "execution_count": 69,
   "metadata": {},
   "outputs": [],
   "source": [
    "import tensorflow as tf\n",
    "import tensorflow_probability as tfp\n",
    "import tensorflow.keras as keras\n",
    "tfd = tfp.distributions\n",
    "\n",
    "def get_prior(y):\n",
    "    probs=[np.sum(y==c_k)/len(y) for c_k in np.unique(y)]\n",
    "    print('The class priors are {}'.format(np.sum(probs)))\n",
    "    priors=tfd.Categorical(probs=probs)\n",
    "    return priors"
   ]
  },
  {
   "cell_type": "code",
   "execution_count": 70,
   "metadata": {},
   "outputs": [
    {
     "name": "stdout",
     "output_type": "stream",
     "text": [
      "The class priors are 1.0\n"
     ]
    }
   ],
   "source": [
    "prior=get_prior(labels)"
   ]
  },
  {
   "cell_type": "code",
   "execution_count": 100,
   "metadata": {},
   "outputs": [
    {
     "data": {
      "text/plain": [
       "<tf.Tensor: shape=(2,), dtype=float32, numpy=array([0.6626627 , 0.33733734], dtype=float32)>"
      ]
     },
     "execution_count": 100,
     "metadata": {},
     "output_type": "execute_result"
    }
   ],
   "source": [
    "priorprior.probs"
   ]
  },
  {
   "cell_type": "code",
   "execution_count": 217,
   "metadata": {},
   "outputs": [
    {
     "data": {
      "image/png": "[encoded data removed]",
      "text/plain": [
       "<Figure size 432x288 with 1 Axes>"
      ]
     },
     "metadata": {
      "needs_background": "light"
     },
     "output_type": "display_data"
    }
   ],
   "source": [
    "import matplotlib.pyplot as plt\n",
    "\n",
    "str_labels=df['MERCADO_ANALISTA'].unique()\n",
    "\n",
    "unique_labels=np.unique(labels)\n",
    "plt.bar(range(2), prior.probs.numpy())\n",
    "plt.xlabel(\"Clase\")\n",
    "plt.ylabel(\"Probabilidad apriori\")\n",
    "plt.title(\"Distribucion de clases\")\n",
    "plt.xticks(range(2), str_labels)\n",
    "plt.show()"
   ]
  },
  {
   "cell_type": "markdown",
   "metadata": {},
   "source": [
    "Los datos originales de las imagenes contienen regiones donde siempre los valores son cero. Una forma de suavizar la estimacion de probabilidades condicionales es usar suavizado de Laplace (https://en.wikipedia.org/wiki/Additive_smoothing)"
   ]
  },
  {
   "cell_type": "code",
   "execution_count": 188,
   "metadata": {},
   "outputs": [],
   "source": [
    "def laplace_smoothing(binary_data,labels,alpha=1):\n",
    "    n_words=binary_data.shape[1]\n",
    "    n_classes=len(np.unique(labels))\n",
    "    theta = np.zeros([n_classes, n_words])\n",
    "    for c_k in range(n_classes):\n",
    "        class_mask = (labels == c_k)\n",
    "        N = class_mask.sum() # number of pixels in class\n",
    "        theta[c_k, :] = (binary_data[class_mask, :].sum(axis=0) + alpha)/(N + alpha*2)\n",
    "    return theta"
   ]
  },
  {
   "cell_type": "markdown",
   "metadata": {},
   "source": [
    "$p(\\theta | D) \\propto p(\\theta)p(D | \\theta)$\n",
    "\n",
    "$p(\\theta | a, b) = \\frac{\\theta^{a - 1}(1 - \\theta)^{\\beta - 1}}{\\beta(a,b)}$\n",
    "\n",
    "El estimador de maxima verosimilitud para la distrbucion Beta es:\n",
    "\n",
    "$\\hat{\\theta}_{\\text{map}} = \\frac{\\alpha + n_1 - 1}{\\alpha + \\beta + n_1 + n_2 - 2}$"
   ]
  },
  {
   "cell_type": "code",
   "execution_count": 189,
   "metadata": {},
   "outputs": [],
   "source": [
    "def get_class_conditionals(probs):\n",
    "    class_conditionals=tfd.Bernoulli(probs=probs)\n",
    "    return class_conditionals\n",
    "\n",
    "def predict_sample(prior, class_conditionals, sample):\n",
    "    cond_probs = class_conditionals.log_prob(sample)\n",
    "    prior_probs=prior.logits_parameter()\n",
    "    joint_likelihood = tf.add(prior_probs, tf.reduce_sum(cond_probs,axis=1))\n",
    "    norm_factor = tf.math.reduce_logsumexp(joint_likelihood, axis=-1, keepdims=True)\n",
    "    log_prob = joint_likelihood - norm_factor\n",
    "    return tf.math.exp(log_prob).numpy()\n",
    "\n",
    "def predict_class(prior, class_conditionals, x):\n",
    "    pred=[]\n",
    "    for sample in x:\n",
    "        prob=predict_sample(prior, class_conditionals,sample)\n",
    "        pred.append(prob.argmax())\n",
    "    return pred\n"
   ]
  },
  {
   "cell_type": "code",
   "execution_count": 190,
   "metadata": {},
   "outputs": [
    {
     "name": "stdout",
     "output_type": "stream",
     "text": [
      "alpha : 0.00, accuracy: 0.67\n",
      "alpha : 0.11, accuracy: 0.94\n",
      "alpha : 0.22, accuracy: 0.95\n",
      "alpha : 0.33, accuracy: 0.95\n",
      "alpha : 0.44, accuracy: 0.95\n",
      "alpha : 0.56, accuracy: 0.95\n",
      "alpha : 0.67, accuracy: 0.95\n",
      "alpha : 0.78, accuracy: 0.95\n",
      "alpha : 0.89, accuracy: 0.95\n",
      "alpha : 1.00, accuracy: 0.95\n"
     ]
    }
   ],
   "source": [
    "for a in np.linspace(0,1,10):\n",
    "    theta=laplace_smoothing(X_train,y_train,alpha=a)\n",
    "    class_conditionals=get_class_conditionals(theta)\n",
    "    y_pred_tfp=predict_class(prior, class_conditionals, X_test)\n",
    "    score = metrics.accuracy_score(y_test, y_pred_tfp)\n",
    "    print('alpha : {0:0.2f}, accuracy: {1:0.2f}'.format(a,score))"
   ]
  },
  {
   "cell_type": "code",
   "execution_count": 191,
   "metadata": {},
   "outputs": [
    {
     "name": "stdout",
     "output_type": "stream",
     "text": [
      "              precision    recall  f1-score   support\n",
      "\n",
      "           0       0.94      0.98      0.96       124\n",
      "           1       0.97      0.89      0.93        76\n",
      "\n",
      "    accuracy                           0.95       200\n",
      "   macro avg       0.95      0.94      0.95       200\n",
      "weighted avg       0.95      0.95      0.95       200\n",
      "\n"
     ]
    }
   ],
   "source": [
    "from sklearn.metrics import classification_report\n",
    "\n",
    "theta=laplace_smoothing(X_train,y_train,alpha=0.22)\n",
    "class_conditionals=get_class_conditionals(theta)\n",
    "y_pred_tfp=predict_class(prior, class_conditionals, X_test)\n",
    "print(classification_report(y_test, y_pred_tfp))"
   ]
  },
  {
   "cell_type": "code",
   "execution_count": 214,
   "metadata": {},
   "outputs": [
    {
     "data": {
      "image/png": "[encoded data removed]",
      "text/plain": [
       "<Figure size 720x144 with 2 Axes>"
      ]
     },
     "metadata": {
      "needs_background": "light"
     },
     "output_type": "display_data"
    },
    {
     "data": {
      "image/png": "[encoded data removed]",
      "text/plain": [
       "<Figure size 720x144 with 2 Axes>"
      ]
     },
     "metadata": {
      "needs_background": "light"
     },
     "output_type": "display_data"
    },
    {
     "data": {
      "image/png": "[encoded data removed]",
      "text/plain": [
       "<Figure size 720x144 with 2 Axes>"
      ]
     },
     "metadata": {
      "needs_background": "light"
     },
     "output_type": "display_data"
    },
    {
     "data": {
      "image/png": "[encoded data removed]",
      "text/plain": [
       "<Figure size 720x144 with 2 Axes>"
      ]
     },
     "metadata": {
      "needs_background": "light"
     },
     "output_type": "display_data"
    },
    {
     "data": {
      "image/png": "[encoded data removed]",
      "text/plain": [
       "<Figure size 720x144 with 2 Axes>"
      ]
     },
     "metadata": {
      "needs_background": "light"
     },
     "output_type": "display_data"
    }
   ],
   "source": [
    "class_error=y_pred_tfp!=y_test\n",
    "X_error=X_test[class_error]\n",
    "true_label=y_test[class_error]\n",
    "n_error=len(true_label)\n",
    "str_labels=df['MERCADO_ANALISTA'].unique()\n",
    "\n",
    "for i in range(1,n_error+1,2):\n",
    "    fig, ax = plt.subplots(1,2,figsize=(10, 2))\n",
    "    for j in range(2):\n",
    "        if(i+j<n_error):\n",
    "            err_pred=predict_sample(prior, class_conditionals,X_error[i+j,:])\n",
    "            bar=ax[j].bar(str_labels, err_pred, color='red')\n",
    "            bar[int(true_label.iloc[i])].set_color('green')\n",
    "            ax[j].set_title(str_labels[int(true_label.iloc[i+j])])\n",
    "            ax[j].set_ylim([0, 1])\n",
    "            ax[j].set_ylabel('Probabilidad')\n",
    "plt.show()"
   ]
  },
  {
   "cell_type": "code",
   "execution_count": null,
   "metadata": {},
   "outputs": [],
   "source": []
  }
 ],
 "metadata": {
  "kernelspec": {
   "display_name": "Python 3",
   "language": "python",
   "name": "python3"
  },
  "language_info": {
   "codemirror_mode": {
    "name": "ipython",
    "version": 3
   },
   "file_extension": ".py",
   "mimetype": "text/x-python",
   "name": "python",
   "nbconvert_exporter": "python",
   "pygments_lexer": "ipython3",
   "version": "3.8.5"
  }
 },
 "nbformat": 4,
 "nbformat_minor": 4
}
