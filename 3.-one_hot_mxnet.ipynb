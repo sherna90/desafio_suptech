{
 "cells": [
  {
   "cell_type": "markdown",
   "id": "1d798ac2",
   "metadata": {},
   "source": [
    "# Lectura de reclamos"
   ]
  },
  {
   "cell_type": "code",
   "execution_count": 1,
   "id": "ddaf7f1f",
   "metadata": {},
   "outputs": [],
   "source": [
    "import sys\n",
    "sys.path.append(\"../\") "
   ]
  },
  {
   "cell_type": "code",
   "execution_count": 2,
   "id": "ae00f778",
   "metadata": {},
   "outputs": [],
   "source": [
    "import pandas as pd\n",
    "import sklearn as sklearn"
   ]
  },
  {
   "cell_type": "code",
   "execution_count": 3,
   "id": "e96cb427",
   "metadata": {},
   "outputs": [],
   "source": [
    "import os\n",
    "\n",
    "df=pd.read_excel(\n",
    "     os.path.join(\"data\", \"reclamos_20201221_con_clas.xlsx\"),\n",
    "     engine='openpyxl',\n",
    ")\n"
   ]
  },
  {
   "cell_type": "code",
   "execution_count": 4,
   "id": "5874d2d9",
   "metadata": {},
   "outputs": [
    {
     "data": {
      "text/plain": [
       "Index(['CASO_ID', 'MERCADO_ANALISTA', 'DESCRIPCION_CIUDADANO',\n",
       "       'PETICION_CIUDADANO'],\n",
       "      dtype='object')"
      ]
     },
     "execution_count": 4,
     "metadata": {},
     "output_type": "execute_result"
    }
   ],
   "source": [
    "df.columns"
   ]
  },
  {
   "cell_type": "code",
   "execution_count": 5,
   "id": "bbbf3a9e",
   "metadata": {},
   "outputs": [
    {
     "data": {
      "text/html": [
       "<div>\n",
       "<style scoped>\n",
       "    .dataframe tbody tr th:only-of-type {\n",
       "        vertical-align: middle;\n",
       "    }\n",
       "\n",
       "    .dataframe tbody tr th {\n",
       "        vertical-align: top;\n",
       "    }\n",
       "\n",
       "    .dataframe thead th {\n",
       "        text-align: right;\n",
       "    }\n",
       "</style>\n",
       "<table border=\"1\" class=\"dataframe\">\n",
       "  <thead>\n",
       "    <tr style=\"text-align: right;\">\n",
       "      <th></th>\n",
       "      <th>CASO_ID</th>\n",
       "      <th>MERCADO_ANALISTA</th>\n",
       "      <th>DESCRIPCION_CIUDADANO</th>\n",
       "      <th>PETICION_CIUDADANO</th>\n",
       "    </tr>\n",
       "  </thead>\n",
       "  <tbody>\n",
       "    <tr>\n",
       "      <th>0</th>\n",
       "      <td>638428.0</td>\n",
       "      <td>APIA -Reclamo Seguros</td>\n",
       "      <td>RECIBI UN CORREO ELECTRONICO DONDE SE ME INDIC...</td>\n",
       "      <td>DADO QUE NINGUNA DE LAS CAUSALES ANTERIORES SE...</td>\n",
       "    </tr>\n",
       "    <tr>\n",
       "      <th>1</th>\n",
       "      <td>580194.0</td>\n",
       "      <td>APIA -Reclamo Seguros</td>\n",
       "      <td>Mi nombre es XX y el día 27 de Enero de este a...</td>\n",
       "      <td>Necesito que Metlife me deposite el dinero sol...</td>\n",
       "    </tr>\n",
       "    <tr>\n",
       "      <th>2</th>\n",
       "      <td>447321.0</td>\n",
       "      <td>APIA -Reclamo Seguros</td>\n",
       "      <td>Estimados Señores SVS\\n\\nCon fecha 13 de Octub...</td>\n",
       "      <td>Por esta razón quiero colocar un reclamo forma...</td>\n",
       "    </tr>\n",
       "    <tr>\n",
       "      <th>3</th>\n",
       "      <td>437201.0</td>\n",
       "      <td>APIA -Reclamo Seguros</td>\n",
       "      <td>En primera instancia solicité renvar mi tarjet...</td>\n",
       "      <td>Solicito devolución de lo que me cobraron por ...</td>\n",
       "    </tr>\n",
       "    <tr>\n",
       "      <th>4</th>\n",
       "      <td>385926.0</td>\n",
       "      <td>Reclamo Valores</td>\n",
       "      <td>reclamo en contra Scotiabank por cobros de man...</td>\n",
       "      <td>condonacion de los cobros que hace el Banco.</td>\n",
       "    </tr>\n",
       "    <tr>\n",
       "      <th>...</th>\n",
       "      <td>...</td>\n",
       "      <td>...</td>\n",
       "      <td>...</td>\n",
       "      <td>...</td>\n",
       "    </tr>\n",
       "    <tr>\n",
       "      <th>1000</th>\n",
       "      <td>NaN</td>\n",
       "      <td>NaN</td>\n",
       "      <td>NaN</td>\n",
       "      <td>NaN</td>\n",
       "    </tr>\n",
       "    <tr>\n",
       "      <th>1001</th>\n",
       "      <td>NaN</td>\n",
       "      <td>NaN</td>\n",
       "      <td>NaN</td>\n",
       "      <td>NaN</td>\n",
       "    </tr>\n",
       "    <tr>\n",
       "      <th>1002</th>\n",
       "      <td>NaN</td>\n",
       "      <td>NaN</td>\n",
       "      <td>NaN</td>\n",
       "      <td>NaN</td>\n",
       "    </tr>\n",
       "    <tr>\n",
       "      <th>1003</th>\n",
       "      <td>NaN</td>\n",
       "      <td>NaN</td>\n",
       "      <td>NaN</td>\n",
       "      <td>NaN</td>\n",
       "    </tr>\n",
       "    <tr>\n",
       "      <th>1004</th>\n",
       "      <td>NaN</td>\n",
       "      <td>NaN</td>\n",
       "      <td>NaN</td>\n",
       "      <td>NaN</td>\n",
       "    </tr>\n",
       "  </tbody>\n",
       "</table>\n",
       "<p>1005 rows × 4 columns</p>\n",
       "</div>"
      ],
      "text/plain": [
       "       CASO_ID        MERCADO_ANALISTA  \\\n",
       "0     638428.0  APIA -Reclamo Seguros    \n",
       "1     580194.0  APIA -Reclamo Seguros    \n",
       "2     447321.0  APIA -Reclamo Seguros    \n",
       "3     437201.0  APIA -Reclamo Seguros    \n",
       "4     385926.0         Reclamo Valores   \n",
       "...        ...                     ...   \n",
       "1000       NaN                     NaN   \n",
       "1001       NaN                     NaN   \n",
       "1002       NaN                     NaN   \n",
       "1003       NaN                     NaN   \n",
       "1004       NaN                     NaN   \n",
       "\n",
       "                                  DESCRIPCION_CIUDADANO  \\\n",
       "0     RECIBI UN CORREO ELECTRONICO DONDE SE ME INDIC...   \n",
       "1     Mi nombre es XX y el día 27 de Enero de este a...   \n",
       "2     Estimados Señores SVS\\n\\nCon fecha 13 de Octub...   \n",
       "3     En primera instancia solicité renvar mi tarjet...   \n",
       "4     reclamo en contra Scotiabank por cobros de man...   \n",
       "...                                                 ...   \n",
       "1000                                                NaN   \n",
       "1001                                                NaN   \n",
       "1002                                                NaN   \n",
       "1003                                                NaN   \n",
       "1004                                                NaN   \n",
       "\n",
       "                                     PETICION_CIUDADANO  \n",
       "0     DADO QUE NINGUNA DE LAS CAUSALES ANTERIORES SE...  \n",
       "1     Necesito que Metlife me deposite el dinero sol...  \n",
       "2     Por esta razón quiero colocar un reclamo forma...  \n",
       "3     Solicito devolución de lo que me cobraron por ...  \n",
       "4          condonacion de los cobros que hace el Banco.  \n",
       "...                                                 ...  \n",
       "1000                                                NaN  \n",
       "1001                                                NaN  \n",
       "1002                                                NaN  \n",
       "1003                                                NaN  \n",
       "1004                                                NaN  \n",
       "\n",
       "[1005 rows x 4 columns]"
      ]
     },
     "execution_count": 5,
     "metadata": {},
     "output_type": "execute_result"
    }
   ],
   "source": [
    "df"
   ]
  },
  {
   "cell_type": "code",
   "execution_count": 6,
   "id": "89525019",
   "metadata": {},
   "outputs": [],
   "source": [
    "df['MERCADO_ANALISTA']=df['MERCADO_ANALISTA'].astype('category')"
   ]
  },
  {
   "cell_type": "code",
   "execution_count": 7,
   "id": "9bf56d57",
   "metadata": {},
   "outputs": [],
   "source": [
    "df=df[['MERCADO_ANALISTA','PETICION_CIUDADANO','DESCRIPCION_CIUDADANO']].dropna()"
   ]
  },
  {
   "cell_type": "code",
   "execution_count": 8,
   "id": "d8925221",
   "metadata": {},
   "outputs": [],
   "source": [
    "df['DESCRIPCION_CIUDADANO']=df['DESCRIPCION_CIUDADANO'].map(str).str.lower()\n",
    "df['PETICION_CIUDADANO']=df['PETICION_CIUDADANO'].map(str).str.lower()"
   ]
  },
  {
   "cell_type": "code",
   "execution_count": 9,
   "id": "09cfbd07",
   "metadata": {},
   "outputs": [],
   "source": [
    "df['data'] = df['DESCRIPCION_CIUDADANO'] + df['PETICION_CIUDADANO']"
   ]
  },
  {
   "cell_type": "code",
   "execution_count": 10,
   "id": "a70c7810",
   "metadata": {},
   "outputs": [],
   "source": [
    "import string, re\n",
    "\n",
    "def remove_punct(x):\n",
    "    comp = re.compile(\"[%s\\d]\" % re.escape(string.punctuation))\n",
    "    return \" \".join(comp.sub(\" \", str(x)).split()).lower()\n",
    "\n",
    "df['data']=df['data'].apply(remove_punct)"
   ]
  },
  {
   "cell_type": "code",
   "execution_count": 11,
   "id": "ebb94fe1",
   "metadata": {},
   "outputs": [
    {
     "name": "stdout",
     "output_type": "stream",
     "text": [
      "0      recibi un correo electronico donde se me indic...\n",
      "1      mi nombre es xx y el dia de enero de este ano ...\n",
      "2      estimados senores svs con fecha de octubre de ...\n",
      "3      en primera instancia solicite renvar mi tarjet...\n",
      "4      reclamo en contra scotiabank por cobros de man...\n",
      "                             ...                        \n",
      "994    estimados por favor revisar el proceso de fusi...\n",
      "995    con fecha de febrero del me fueron protestados...\n",
      "996    mal calculo de valor poliza de ahorro por erro...\n",
      "997    estimados svs con fecha se me ha anulado una o...\n",
      "998    tengo un traspaso de dos mil quinientas accion...\n",
      "Name: data, Length: 999, dtype: object\n"
     ]
    }
   ],
   "source": [
    "import unicodedata\n",
    "\n",
    "def strip_accents(string, accents=('COMBINING ACUTE ACCENT', 'COMBINING GRAVE ACCENT', 'COMBINING TILDE')):\n",
    "    accents = set(map(unicodedata.lookup, accents))\n",
    "    chars = [c for c in unicodedata.normalize('NFD', string) if c not in accents]\n",
    "    return unicodedata.normalize('NFC', ''.join(chars))\n",
    "\n",
    "df['data'] = df['data'].apply(strip_accents)\n",
    "print(df['data'] )\n"
   ]
  },
  {
   "cell_type": "code",
   "execution_count": 12,
   "id": "unique-reward",
   "metadata": {},
   "outputs": [
    {
     "data": {
      "text/plain": [
       "'recibi un correo electronico donde se me indica que zurich santander seguros ha decidido no renovar la poliza nº xx super seguro alivio seguro familiar por un nuevo periodo conforme al articulo de las condiciones generales de su seguro pol segun he revisado la pol corresponde a una poliza de prestaciones medicas la cual esta prohibida por resolucion n° de ademas revisando antecedentes entiendo que la compania no puede poner termino unilateral a dicho seguro a menos que se cumpla alguna de las causales como “no pago de la prima cambio de lo que se aseguro omision o falseo de informacion por parte del cliente perdida total o parcial destruccion de los riesgos o lo asegurado tras firmar el contrato aun si el evento tiene o no cobertura cambio en la moneda de la poliza” dado que ninguna de las causales anteriores se cumple es que vengo a solicitar a uds intervengan en esta decision unilateral de la compania y se rechaze la no renovacion de mi poliza tomada hace anos'"
      ]
     },
     "execution_count": 12,
     "metadata": {},
     "output_type": "execute_result"
    }
   ],
   "source": [
    "df['data'][0]"
   ]
  },
  {
   "cell_type": "code",
   "execution_count": 13,
   "id": "manual-trout",
   "metadata": {},
   "outputs": [],
   "source": [
    "stop_words = [line.strip() for line in  open(\"stopwords-filter-es.txt\", \"r\")]"
   ]
  },
  {
   "cell_type": "code",
   "execution_count": 14,
   "id": "naughty-guess",
   "metadata": {},
   "outputs": [],
   "source": [
    "df['data']=df['data'].apply(lambda x: ' '.join([word for word in x.split() if word not in (stop_words)]))"
   ]
  },
  {
   "cell_type": "code",
   "execution_count": 15,
   "id": "cleared-avenue",
   "metadata": {},
   "outputs": [
    {
     "data": {
      "text/plain": [
       "'recibi correo electronico indica zurich santander seguros decidido renovar poliza nº xx super seguro alivio seguro familiar nuevo periodo conforme articulo condiciones generales seguro pol segun revisado pol corresponde poliza prestaciones medicas prohibida resolucion n° ademas revisando antecedentes entiendo compania puede poner termino unilateral dicho seguro menos cumpla alguna causales “no pago prima cambio aseguro omision falseo informacion parte cliente perdida total parcial destruccion riesgos asegurado tras firmar contrato aun si evento cobertura cambio moneda poliza” dado ninguna causales anteriores cumple vengo solicitar uds intervengan decision unilateral compania rechaze renovacion poliza tomada hace anos'"
      ]
     },
     "execution_count": 15,
     "metadata": {},
     "output_type": "execute_result"
    }
   ],
   "source": [
    "df['data'][0]"
   ]
  },
  {
   "cell_type": "code",
   "execution_count": 16,
   "id": "72073e72",
   "metadata": {},
   "outputs": [],
   "source": [
    "labels=(df['MERCADO_ANALISTA']=='Reclamo Valores').astype(int)"
   ]
  },
  {
   "cell_type": "code",
   "execution_count": 17,
   "id": "floating-beads",
   "metadata": {},
   "outputs": [
    {
     "data": {
      "text/plain": [
       "'recibi correo electronico indica zurich santander seguros decidido renovar poliza nº xx super seguro alivio seguro familiar nuevo periodo conforme articulo condiciones generales seguro pol segun revisado pol corresponde poliza prestaciones medicas prohibida resolucion n° ademas revisando antecedentes entiendo compania puede poner termino unilateral dicho seguro menos cumpla alguna causales “no pago prima cambio aseguro omision falseo informacion parte cliente perdida total parcial destruccion riesgos asegurado tras firmar contrato aun si evento cobertura cambio moneda poliza” dado ninguna causales anteriores cumple vengo solicitar uds intervengan decision unilateral compania rechaze renovacion poliza tomada hace anos'"
      ]
     },
     "execution_count": 17,
     "metadata": {},
     "output_type": "execute_result"
    }
   ],
   "source": [
    "df['data'].values[0]"
   ]
  },
  {
   "cell_type": "code",
   "execution_count": 18,
   "id": "0828ba90",
   "metadata": {},
   "outputs": [],
   "source": [
    "from sklearn.feature_extraction.text import CountVectorizer\n",
    "\n",
    "n_documents = df.shape[0]\n",
    "count_vectorizer = CountVectorizer(input='content', binary=True,max_df=0.25, min_df=1.01/n_documents) \n",
    "train_binary_bag_of_words = count_vectorizer.fit_transform(df['data']).todense() \n"
   ]
  },
  {
   "cell_type": "code",
   "execution_count": 19,
   "id": "north-liabilities",
   "metadata": {},
   "outputs": [
    {
     "data": {
      "text/plain": [
       "(999, 5563)"
      ]
     },
     "execution_count": 19,
     "metadata": {},
     "output_type": "execute_result"
    }
   ],
   "source": [
    "train_binary_bag_of_words.shape"
   ]
  },
  {
   "cell_type": "code",
   "execution_count": 20,
   "id": "936aad62",
   "metadata": {},
   "outputs": [],
   "source": [
    "from sklearn.model_selection import train_test_split\n",
    "\n",
    "X_train, X_test, y_train, y_test = train_test_split(train_binary_bag_of_words, labels, test_size=0.2)"
   ]
  },
  {
   "cell_type": "code",
   "execution_count": 21,
   "id": "pursuant-cosmetic",
   "metadata": {},
   "outputs": [
    {
     "data": {
      "text/plain": [
       "numpy.matrix"
      ]
     },
     "execution_count": 21,
     "metadata": {},
     "output_type": "execute_result"
    }
   ],
   "source": [
    "type(X_train)"
   ]
  },
  {
   "cell_type": "code",
   "execution_count": 22,
   "id": "hourly-image",
   "metadata": {},
   "outputs": [],
   "source": [
    "import numpy as np\n",
    "from mxnet import npx \n",
    "\n",
    "y_train=np.expand_dims(y_train,axis=1).astype(np.int32)\n",
    "y_test=np.expand_dims(y_test,axis=1).astype(np.int32)\n"
   ]
  },
  {
   "cell_type": "code",
   "execution_count": 23,
   "id": "designing-record",
   "metadata": {},
   "outputs": [
    {
     "data": {
      "text/plain": [
       "numpy.matrix"
      ]
     },
     "execution_count": 23,
     "metadata": {},
     "output_type": "execute_result"
    }
   ],
   "source": [
    "type(X_test)"
   ]
  },
  {
   "cell_type": "code",
   "execution_count": 24,
   "id": "planned-think",
   "metadata": {},
   "outputs": [
    {
     "data": {
      "text/plain": [
       "(799, 1)"
      ]
     },
     "execution_count": 24,
     "metadata": {},
     "output_type": "execute_result"
    }
   ],
   "source": [
    "y_train.shape"
   ]
  },
  {
   "cell_type": "markdown",
   "id": "73e30895",
   "metadata": {},
   "source": [
    "# MXNET"
   ]
  },
  {
   "cell_type": "code",
   "execution_count": 25,
   "id": "a827aef6",
   "metadata": {},
   "outputs": [],
   "source": [
    "import argparse, time, logging, random, math\n",
    "import mxnet as mx\n",
    "\n",
    "from mxnet import gluon, nd\n",
    "from mxnet import autograd as ag\n",
    "from mxnet.gluon import nn\n",
    "from mxnet.gluon.data.vision import transforms"
   ]
  },
  {
   "cell_type": "code",
   "execution_count": 26,
   "id": "57d0fa23",
   "metadata": {},
   "outputs": [],
   "source": [
    "num_gpus = 1\n",
    "model_ctx = mx.cpu()\n",
    "\n",
    "num_workers = 0\n",
    "batch_size = 64 \n",
    "\n",
    "def transform(data, label):\n",
    "    data = data.reshape(-1,1).astype('float32')\n",
    "    return data, label\n",
    "\n",
    "dataset_train = gluon.data.dataset.ArrayDataset(X_train, y_train)\n",
    "data_loader_train = gluon.data.DataLoader(dataset_train.transform(transform),batch_size = 64,num_workers = 0)\n",
    "dataset_test = gluon.data.dataset.ArrayDataset(X_test, y_test)\n",
    "data_loader_test = gluon.data.DataLoader(dataset_test.transform(transform),batch_size = 64,num_workers = 0)"
   ]
  },
  {
   "cell_type": "code",
   "execution_count": 27,
   "id": "appreciated-taste",
   "metadata": {},
   "outputs": [
    {
     "data": {
      "text/plain": [
       "(799, 5563)"
      ]
     },
     "execution_count": 27,
     "metadata": {},
     "output_type": "execute_result"
    }
   ],
   "source": [
    "X_train.shape"
   ]
  },
  {
   "cell_type": "code",
   "execution_count": 80,
   "id": "47f099c8",
   "metadata": {},
   "outputs": [
    {
     "name": "stdout",
     "output_type": "stream",
     "text": [
      "<class 'mxnet.ndarray.ndarray.NDArray'>\n",
      "(64, 5563, 1)\n",
      "(64, 1)\n"
     ]
    }
   ],
   "source": [
    "for X,y in data_loader_train:\n",
    "    print(type(X))\n",
    "    print(X.shape)\n",
    "    print(y.shape)\n",
    "    break"
   ]
  },
  {
   "cell_type": "code",
   "execution_count": 53,
   "id": "persistent-typing",
   "metadata": {},
   "outputs": [
    {
     "data": {
      "text/plain": [
       "numpy.float32"
      ]
     },
     "execution_count": 53,
     "metadata": {},
     "output_type": "execute_result"
    }
   ],
   "source": [
    "X.dtype"
   ]
  },
  {
   "cell_type": "code",
   "execution_count": 54,
   "id": "fed9d139",
   "metadata": {},
   "outputs": [],
   "source": [
    "import mxnet as mx\n",
    "from mxnet import nd, autograd, gluon\n",
    "hyper={'alpha':10.}\n",
    "in_units=X_train.shape[1]\n",
    "out_units=1\n",
    "embedding_dim=100"
   ]
  },
  {
   "cell_type": "markdown",
   "id": "2e451b4e",
   "metadata": {},
   "source": [
    "# SGD"
   ]
  },
  {
   "cell_type": "code",
   "execution_count": 55,
   "id": "9ef50827",
   "metadata": {},
   "outputs": [],
   "source": [
    "import sys\n",
    "sys.path.append(\"../hamiltonian_mxnet/\") \n",
    "import mxnet as mx\n",
    "from hamiltonian.inference.sgd import sgd\n",
    "from hamiltonian.models.logistic import logistic\n",
    "\n",
    "\n",
    "#model=embeddings_logistic(hyper,in_units,out_units,0,32,maxlen,embedding_dim,ctx=model_ctx)\n",
    "model=logistic(hyper,in_units,ctx=model_ctx)\n",
    "inference=sgd(model,model.par,step_size=0.001,ctx=model_ctx)\n"
   ]
  },
  {
   "cell_type": "code",
   "execution_count": 56,
   "id": "5b8e7eef",
   "metadata": {},
   "outputs": [
    {
     "name": "stdout",
     "output_type": "stream",
     "text": [
      "modules re-loaded\n"
     ]
    }
   ],
   "source": [
    "import hamiltonian\n",
    "import importlib\n",
    "\n",
    "try:\n",
    "    importlib.reload(hamiltonian.models.logistic)\n",
    "    importlib.reload(hamiltonian.inference.sgd)\n",
    "    print('modules re-loaded')\n",
    "except:\n",
    "    print('no modules loaded yet')\n"
   ]
  },
  {
   "cell_type": "code",
   "execution_count": 62,
   "id": "70052932",
   "metadata": {},
   "outputs": [
    {
     "name": "stderr",
     "output_type": "stream",
     "text": [
      "  7%|▋         | 7/100 [00:00<00:03, 28.71it/s]"
     ]
    },
    {
     "name": "stdout",
     "output_type": "stream",
     "text": [
      "loss: 0.6839\n"
     ]
    },
    {
     "name": "stderr",
     "output_type": "stream",
     "text": [
      " 15%|█▌        | 15/100 [00:00<00:02, 31.12it/s]"
     ]
    },
    {
     "name": "stdout",
     "output_type": "stream",
     "text": [
      "loss: 0.5084\n"
     ]
    },
    {
     "name": "stderr",
     "output_type": "stream",
     "text": [
      " 27%|██▋       | 27/100 [00:00<00:02, 32.14it/s]"
     ]
    },
    {
     "name": "stdout",
     "output_type": "stream",
     "text": [
      "loss: 0.4455\n"
     ]
    },
    {
     "name": "stderr",
     "output_type": "stream",
     "text": [
      " 35%|███▌      | 35/100 [00:01<00:02, 31.44it/s]"
     ]
    },
    {
     "name": "stdout",
     "output_type": "stream",
     "text": [
      "loss: 0.3995\n"
     ]
    },
    {
     "name": "stderr",
     "output_type": "stream",
     "text": [
      " 47%|████▋     | 47/100 [00:01<00:01, 32.16it/s]"
     ]
    },
    {
     "name": "stdout",
     "output_type": "stream",
     "text": [
      "loss: 0.3631\n"
     ]
    },
    {
     "name": "stderr",
     "output_type": "stream",
     "text": [
      " 55%|█████▌    | 55/100 [00:01<00:01, 32.08it/s]"
     ]
    },
    {
     "name": "stdout",
     "output_type": "stream",
     "text": [
      "loss: 0.3334\n"
     ]
    },
    {
     "name": "stderr",
     "output_type": "stream",
     "text": [
      " 67%|██████▋   | 67/100 [00:02<00:01, 31.85it/s]"
     ]
    },
    {
     "name": "stdout",
     "output_type": "stream",
     "text": [
      "loss: 0.3089\n"
     ]
    },
    {
     "name": "stderr",
     "output_type": "stream",
     "text": [
      " 75%|███████▌  | 75/100 [00:02<00:00, 31.79it/s]"
     ]
    },
    {
     "name": "stdout",
     "output_type": "stream",
     "text": [
      "loss: 0.2883\n"
     ]
    },
    {
     "name": "stderr",
     "output_type": "stream",
     "text": [
      " 87%|████████▋ | 87/100 [00:02<00:00, 31.88it/s]"
     ]
    },
    {
     "name": "stdout",
     "output_type": "stream",
     "text": [
      "loss: 0.2706\n"
     ]
    },
    {
     "name": "stderr",
     "output_type": "stream",
     "text": [
      " 95%|█████████▌| 95/100 [00:03<00:00, 31.57it/s]"
     ]
    },
    {
     "name": "stdout",
     "output_type": "stream",
     "text": [
      "loss: 0.2553\n"
     ]
    },
    {
     "name": "stderr",
     "output_type": "stream",
     "text": [
      "100%|██████████| 100/100 [00:03<00:00, 31.54it/s]\n"
     ]
    }
   ],
   "source": [
    "par,loss=inference.fit(epochs=100,batch_size=batch_size,data_loader=data_loader_train,verbose=True)"
   ]
  },
  {
   "cell_type": "markdown",
   "id": "cfeb78e3",
   "metadata": {},
   "source": [
    "## SGD UQ"
   ]
  },
  {
   "cell_type": "code",
   "execution_count": 63,
   "id": "c40c5137",
   "metadata": {},
   "outputs": [
    {
     "data": {
      "image/png": "[encoded data removed]",
      "text/plain": [
       "<Figure size 432x288 with 1 Axes>"
      ]
     },
     "metadata": {
      "needs_background": "light"
     },
     "output_type": "display_data"
    }
   ],
   "source": [
    "import matplotlib.pyplot as plt\n",
    "\n",
    "plt.plot(loss)\n",
    "plt.xlabel('epoch')\n",
    "plt.ylabel('loss')\n",
    "plt.show()"
   ]
  },
  {
   "cell_type": "code",
   "execution_count": 64,
   "id": "ab962036",
   "metadata": {},
   "outputs": [
    {
     "name": "stdout",
     "output_type": "stream",
     "text": [
      "              precision    recall  f1-score   support\n",
      "\n",
      "           0       0.85      0.99      0.92       125\n",
      "           1       0.98      0.67      0.80        67\n",
      "\n",
      "    accuracy                           0.88       192\n",
      "   macro avg       0.91      0.83      0.86       192\n",
      "weighted avg       0.89      0.88      0.87       192\n",
      "\n"
     ]
    }
   ],
   "source": [
    "from sklearn.metrics import classification_report\n",
    "\n",
    "total_samples,total_labels,log_like=inference.predict(par,batch_size=batch_size,num_samples=10,data_loader=data_loader_test)\n",
    "y_hat=np.quantile(total_samples,0.5,axis=0)\n",
    "print(classification_report(np.int32(total_labels),np.int32(y_hat)))"
   ]
  },
  {
   "cell_type": "markdown",
   "id": "fbd5809d",
   "metadata": {},
   "source": [
    "# SGLD"
   ]
  },
  {
   "cell_type": "code",
   "execution_count": 66,
   "id": "0de73cac",
   "metadata": {},
   "outputs": [],
   "source": [
    "import mxnet as mx\n",
    "from mxnet import nd, autograd, gluon\n",
    "model_ctx=mx.cpu()\n",
    "hyper={'alpha':10.}\n",
    "in_units=X_train.shape[1]\n"
   ]
  },
  {
   "cell_type": "code",
   "execution_count": 71,
   "id": "2d6071a1",
   "metadata": {},
   "outputs": [],
   "source": [
    "import mxnet as mx\n",
    "from hamiltonian.inference.sgld import sgld\n",
    "from hamiltonian.models.logistic import logistic\n",
    "\n",
    "model=logistic(hyper,in_units,ctx=model_ctx)\n",
    "inference=sgld(model,model.par,step_size=0.1,ctx=model_ctx)"
   ]
  },
  {
   "cell_type": "code",
   "execution_count": 72,
   "id": "cfbbb853",
   "metadata": {},
   "outputs": [
    {
     "data": {
      "text/plain": [
       "<module 'hamiltonian.inference.sgld' from '../hamiltonian_mxnet/hamiltonian/inference/sgld.py'>"
      ]
     },
     "execution_count": 72,
     "metadata": {},
     "output_type": "execute_result"
    }
   ],
   "source": [
    "import importlib\n",
    "import hamiltonian\n",
    "importlib.reload(hamiltonian.models.logistic)\n",
    "importlib.reload(hamiltonian.inference.sgld)"
   ]
  },
  {
   "cell_type": "code",
   "execution_count": 73,
   "id": "5acfe255",
   "metadata": {},
   "outputs": [
    {
     "name": "stderr",
     "output_type": "stream",
     "text": [
      "  5%|▌         | 5/100 [00:00<00:03, 23.86it/s]"
     ]
    },
    {
     "name": "stdout",
     "output_type": "stream",
     "text": [
      "loss: 6.7171\n"
     ]
    },
    {
     "name": "stderr",
     "output_type": "stream",
     "text": [
      " 14%|█▍        | 14/100 [00:00<00:03, 27.57it/s]"
     ]
    },
    {
     "name": "stdout",
     "output_type": "stream",
     "text": [
      "loss: 0.3348\n"
     ]
    },
    {
     "name": "stderr",
     "output_type": "stream",
     "text": [
      " 26%|██▌       | 26/100 [00:00<00:02, 28.72it/s]"
     ]
    },
    {
     "name": "stdout",
     "output_type": "stream",
     "text": [
      "loss: 0.1637\n"
     ]
    },
    {
     "name": "stderr",
     "output_type": "stream",
     "text": [
      " 35%|███▌      | 35/100 [00:01<00:02, 28.06it/s]"
     ]
    },
    {
     "name": "stdout",
     "output_type": "stream",
     "text": [
      "loss: 0.1687\n"
     ]
    },
    {
     "name": "stderr",
     "output_type": "stream",
     "text": [
      " 44%|████▍     | 44/100 [00:01<00:02, 27.65it/s]"
     ]
    },
    {
     "name": "stdout",
     "output_type": "stream",
     "text": [
      "loss: 0.1470\n"
     ]
    },
    {
     "name": "stderr",
     "output_type": "stream",
     "text": [
      " 56%|█████▌    | 56/100 [00:02<00:01, 27.24it/s]"
     ]
    },
    {
     "name": "stdout",
     "output_type": "stream",
     "text": [
      "loss: 0.1313\n"
     ]
    },
    {
     "name": "stderr",
     "output_type": "stream",
     "text": [
      " 65%|██████▌   | 65/100 [00:02<00:01, 27.44it/s]"
     ]
    },
    {
     "name": "stdout",
     "output_type": "stream",
     "text": [
      "loss: 0.1469\n"
     ]
    },
    {
     "name": "stderr",
     "output_type": "stream",
     "text": [
      " 74%|███████▍  | 74/100 [00:02<00:00, 27.37it/s]"
     ]
    },
    {
     "name": "stdout",
     "output_type": "stream",
     "text": [
      "loss: 0.1434\n"
     ]
    },
    {
     "name": "stderr",
     "output_type": "stream",
     "text": [
      " 86%|████████▌ | 86/100 [00:03<00:00, 27.08it/s]"
     ]
    },
    {
     "name": "stdout",
     "output_type": "stream",
     "text": [
      "loss: 0.1332\n"
     ]
    },
    {
     "name": "stderr",
     "output_type": "stream",
     "text": [
      " 95%|█████████▌| 95/100 [00:03<00:00, 27.15it/s]"
     ]
    },
    {
     "name": "stdout",
     "output_type": "stream",
     "text": [
      "loss: 0.1343\n"
     ]
    },
    {
     "name": "stderr",
     "output_type": "stream",
     "text": [
      "100%|██████████| 100/100 [00:03<00:00, 27.16it/s]\n",
      "  6%|▌         | 6/100 [00:00<00:03, 29.30it/s]"
     ]
    },
    {
     "name": "stdout",
     "output_type": "stream",
     "text": [
      "loss: 6.4735\n"
     ]
    },
    {
     "name": "stderr",
     "output_type": "stream",
     "text": [
      " 15%|█▌        | 15/100 [00:00<00:02, 29.69it/s]"
     ]
    },
    {
     "name": "stdout",
     "output_type": "stream",
     "text": [
      "loss: 0.2205\n"
     ]
    },
    {
     "name": "stderr",
     "output_type": "stream",
     "text": [
      " 25%|██▌       | 25/100 [00:00<00:02, 29.57it/s]"
     ]
    },
    {
     "name": "stdout",
     "output_type": "stream",
     "text": [
      "loss: 0.1774\n"
     ]
    },
    {
     "name": "stderr",
     "output_type": "stream",
     "text": [
      " 35%|███▌      | 35/100 [00:01<00:02, 29.51it/s]"
     ]
    },
    {
     "name": "stdout",
     "output_type": "stream",
     "text": [
      "loss: 0.1563\n"
     ]
    },
    {
     "name": "stderr",
     "output_type": "stream",
     "text": [
      " 44%|████▍     | 44/100 [00:01<00:01, 28.99it/s]"
     ]
    },
    {
     "name": "stdout",
     "output_type": "stream",
     "text": [
      "loss: 0.1511\n"
     ]
    },
    {
     "name": "stderr",
     "output_type": "stream",
     "text": [
      " 54%|█████▍    | 54/100 [00:01<00:01, 29.70it/s]"
     ]
    },
    {
     "name": "stdout",
     "output_type": "stream",
     "text": [
      "loss: 0.1486\n"
     ]
    },
    {
     "name": "stderr",
     "output_type": "stream",
     "text": [
      " 64%|██████▍   | 64/100 [00:02<00:01, 29.56it/s]"
     ]
    },
    {
     "name": "stdout",
     "output_type": "stream",
     "text": [
      "loss: 0.1346\n"
     ]
    },
    {
     "name": "stderr",
     "output_type": "stream",
     "text": [
      " 76%|███████▌  | 76/100 [00:02<00:00, 29.33it/s]"
     ]
    },
    {
     "name": "stdout",
     "output_type": "stream",
     "text": [
      "loss: 0.0366\n"
     ]
    },
    {
     "name": "stderr",
     "output_type": "stream",
     "text": [
      " 85%|████████▌ | 85/100 [00:02<00:00, 28.88it/s]"
     ]
    },
    {
     "name": "stdout",
     "output_type": "stream",
     "text": [
      "loss: 0.0234\n"
     ]
    },
    {
     "name": "stderr",
     "output_type": "stream",
     "text": [
      " 95%|█████████▌| 95/100 [00:03<00:00, 29.57it/s]"
     ]
    },
    {
     "name": "stdout",
     "output_type": "stream",
     "text": [
      "loss: 0.0231\n"
     ]
    },
    {
     "name": "stderr",
     "output_type": "stream",
     "text": [
      "100%|██████████| 100/100 [00:03<00:00, 29.35it/s]\n"
     ]
    }
   ],
   "source": [
    "loss,posterior_samples=inference.sample(epochs=100,batch_size=batch_size,\n",
    "                                data_loader=data_loader_train,\n",
    "                                verbose=True,chain_name='chain_nonhierarchical')"
   ]
  },
  {
   "cell_type": "markdown",
   "id": "c4c843b3",
   "metadata": {},
   "source": [
    "## SGLD UQ"
   ]
  },
  {
   "cell_type": "code",
   "execution_count": 74,
   "id": "9b352f80",
   "metadata": {},
   "outputs": [
    {
     "data": {
      "image/png": "[encoded data removed]",
      "text/plain": [
       "<Figure size 432x288 with 1 Axes>"
      ]
     },
     "metadata": {
      "needs_background": "light"
     },
     "output_type": "display_data"
    }
   ],
   "source": [
    "import matplotlib.pyplot as plt\n",
    "\n",
    "plt.plot(loss[0],color='blue',lw=3)\n",
    "plt.plot(loss[1],color='red',lw=3)\n",
    "plt.xlabel('Epoch', size=18)\n",
    "plt.ylabel('Loss', size=18)\n",
    "plt.show()"
   ]
  },
  {
   "cell_type": "code",
   "execution_count": 75,
   "id": "8837867c",
   "metadata": {},
   "outputs": [],
   "source": [
    "posterior_samples_flat=[item for sublist in posterior_samples for item in sublist]"
   ]
  },
  {
   "cell_type": "code",
   "execution_count": 76,
   "id": "b1bd835e",
   "metadata": {},
   "outputs": [],
   "source": [
    "total_samples,total_labels,log_like=inference.predict(posterior_samples_flat,5,data_loader=data_loader_test)"
   ]
  },
  {
   "cell_type": "code",
   "execution_count": 77,
   "id": "aef0e1fe",
   "metadata": {},
   "outputs": [
    {
     "name": "stdout",
     "output_type": "stream",
     "text": [
      "              precision    recall  f1-score   support\n",
      "\n",
      "           0       0.89      0.95      0.92       132\n",
      "           1       0.90      0.76      0.83        68\n",
      "\n",
      "    accuracy                           0.89       200\n",
      "   macro avg       0.89      0.86      0.87       200\n",
      "weighted avg       0.89      0.89      0.89       200\n",
      "\n"
     ]
    }
   ],
   "source": [
    "from sklearn.metrics import classification_report\n",
    "posterior_samples\n",
    "\n",
    "y_hat=np.quantile(total_samples,.5,axis=0)\n",
    "\n",
    "print(classification_report(np.int32(total_labels),np.int32(y_hat)))"
   ]
  },
  {
   "cell_type": "code",
   "execution_count": 78,
   "id": "large-brook",
   "metadata": {},
   "outputs": [],
   "source": [
    "from hamiltonian.utils.psis import *\n",
    "\n",
    "loo,loos,ks=psisloo(np.array(log_like[:,:,0]))"
   ]
  },
  {
   "cell_type": "markdown",
   "id": "8cdc861d",
   "metadata": {},
   "source": [
    "# BBB"
   ]
  },
  {
   "cell_type": "code",
   "execution_count": 171,
   "id": "fbcb0188",
   "metadata": {},
   "outputs": [],
   "source": [
    "import mxnet as mx\n",
    "from hamiltonian.inference.bbb import bbb\n",
    "from hamiltonian.models.logistic import logistic\n",
    "\n",
    "model=logistic(hyper,in_units,ctx=model_ctx)\n",
    "inference=bbb(model,model.par,step_size=0.05,ctx=model_ctx)"
   ]
  },
  {
   "cell_type": "code",
   "execution_count": 172,
   "id": "cfda9c66",
   "metadata": {},
   "outputs": [
    {
     "data": {
      "text/plain": [
       "<module 'hamiltonian.inference.bbb' from '../hamiltonian_mxnet/hamiltonian/inference/bbb.py'>"
      ]
     },
     "execution_count": 172,
     "metadata": {},
     "output_type": "execute_result"
    }
   ],
   "source": [
    "import importlib\n",
    "import hamiltonian\n",
    "importlib.reload(hamiltonian.models.logistic)\n",
    "importlib.reload(hamiltonian.inference.bbb)"
   ]
  },
  {
   "cell_type": "code",
   "execution_count": 175,
   "id": "dfbdd412",
   "metadata": {},
   "outputs": [
    {
     "name": "stderr",
     "output_type": "stream",
     "text": [
      "100%|██████████| 50/50 [00:02<00:00, 24.09it/s]\n"
     ]
    }
   ],
   "source": [
    "par,loss,(means,sigmas)=inference.fit(epochs=50,batch_size=32,\n",
    "                             data_loader=data_loader_train,\n",
    "                             verbose=False)"
   ]
  },
  {
   "cell_type": "markdown",
   "id": "c70037f1",
   "metadata": {},
   "source": [
    "## BBB UQ"
   ]
  },
  {
   "cell_type": "code",
   "execution_count": 176,
   "id": "eee3e0f9",
   "metadata": {},
   "outputs": [
    {
     "data": {
      "image/png": "[encoded data removed]",
      "text/plain": [
       "<Figure size 432x288 with 1 Axes>"
      ]
     },
     "metadata": {
      "needs_background": "light"
     },
     "output_type": "display_data"
    }
   ],
   "source": [
    "import matplotlib.pyplot as plt\n",
    "\n",
    "plt.plot(loss)\n",
    "plt.xlabel('epoch')\n",
    "plt.ylabel('loss')\n",
    "plt.show()"
   ]
  },
  {
   "cell_type": "code",
   "execution_count": 205,
   "id": "c7d8f2a2",
   "metadata": {},
   "outputs": [
    {
     "name": "stdout",
     "output_type": "stream",
     "text": [
      "              precision    recall  f1-score   support\n",
      "\n",
      "           0       0.91      0.96      0.93       132\n",
      "           1       0.92      0.81      0.86        68\n",
      "\n",
      "    accuracy                           0.91       200\n",
      "   macro avg       0.91      0.89      0.90       200\n",
      "weighted avg       0.91      0.91      0.91       200\n",
      "\n"
     ]
    }
   ],
   "source": [
    "from sklearn.metrics import classification_report\n",
    "\n",
    "total_samples,total_labels,log_like=inference.predict(means,sigmas,batch_size=batch_size,num_samples=100,data_loader=data_loader_test)\n",
    "y_hat=np.quantile(total_samples,.5,axis=0)\n",
    "print(classification_report(np.int32(y_test),np.int32(y_hat)))"
   ]
  },
  {
   "cell_type": "code",
   "execution_count": null,
   "id": "empirical-beads",
   "metadata": {},
   "outputs": [],
   "source": []
  }
 ],
 "metadata": {
  "kernelspec": {
   "display_name": "Python 3",
   "language": "python",
   "name": "python3"
  },
  "language_info": {
   "codemirror_mode": {
    "name": "ipython",
    "version": 3
   },
   "file_extension": ".py",
   "mimetype": "text/x-python",
   "name": "python",
   "nbconvert_exporter": "python",
   "pygments_lexer": "ipython3",
   "version": "3.8.6"
  }
 },
 "nbformat": 4,
 "nbformat_minor": 5
}
