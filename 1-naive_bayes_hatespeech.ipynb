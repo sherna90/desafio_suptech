{
 "cells": [
  {
   "cell_type": "markdown",
   "metadata": {},
   "source": [
    "# Naive Bayes NLP"
   ]
  },
  {
   "cell_type": "code",
   "execution_count": 2,
   "metadata": {},
   "outputs": [],
   "source": [
    "import pandas as pd\n",
    "import sklearn as sklearn"
   ]
  },
  {
   "cell_type": "code",
   "execution_count": 3,
   "metadata": {},
   "outputs": [
    {
     "data": {
      "text/plain": [
       "'hatespeech_data/tweets_train.csv'"
      ]
     },
     "execution_count": 3,
     "metadata": {},
     "output_type": "execute_result"
    }
   ],
   "source": [
    " os.path.join(\"hatespeech_data\", \"tweets_train.csv\")"
   ]
  },
  {
   "cell_type": "code",
   "execution_count": 5,
   "metadata": {},
   "outputs": [],
   "source": [
    "import os\n",
    "\n",
    "df=pd.read_csv(\n",
    "     os.path.join('hatespeech_data', 'tweets_train.csv'),index_col=0\n",
    ")"
   ]
  },
  {
   "cell_type": "code",
   "execution_count": 6,
   "metadata": {},
   "outputs": [
    {
     "data": {
      "text/plain": [
       "Index(['tweet_id', 'author_id', 'conversation_id', 'text', 'Odio', 'Mujeres',\n",
       "       'Comunidad LGBTQ+', 'Comunidades Migrantes', 'Pueblos Originarios'],\n",
       "      dtype='object')"
      ]
     },
     "execution_count": 6,
     "metadata": {},
     "output_type": "execute_result"
    }
   ],
   "source": [
    "df.columns"
   ]
  },
  {
   "cell_type": "code",
   "execution_count": 7,
   "metadata": {},
   "outputs": [
    {
     "data": {
      "text/plain": [
       "0    954\n",
       "3    622\n",
       "2    377\n",
       "1    303\n",
       "Name: Odio, dtype: int64"
      ]
     },
     "execution_count": 7,
     "metadata": {},
     "output_type": "execute_result"
    }
   ],
   "source": [
    "df['Odio'].value_counts()"
   ]
  },
  {
   "cell_type": "code",
   "execution_count": 8,
   "metadata": {},
   "outputs": [],
   "source": [
    "df['Odio']=df['Odio'].astype('category')\n",
    "df['Mujeres']=df['Mujeres'].astype('category')\n",
    "df['Comunidad LGBTQ+']=df['Comunidad LGBTQ+'].astype('category')\n",
    "df['Comunidades Migrantes']=df['Comunidades Migrantes'].astype('category')\n",
    "df['Pueblos Originarios']=df['Pueblos Originarios'].astype('category')"
   ]
  },
  {
   "cell_type": "code",
   "execution_count": 9,
   "metadata": {},
   "outputs": [],
   "source": [
    "df['tweet_id']=df['tweet_id'].astype('category')\n",
    "df['author_id']=df['author_id'].astype('category')"
   ]
  },
  {
   "cell_type": "markdown",
   "metadata": {},
   "source": [
    "Al contar los datos pertencientes a cada clase, se observa desbalance de clases."
   ]
  },
  {
   "cell_type": "code",
   "execution_count": 17,
   "metadata": {},
   "outputs": [
    {
     "data": {
      "text/plain": [
       "6"
      ]
     },
     "execution_count": 17,
     "metadata": {},
     "output_type": "execute_result"
    }
   ],
   "source": [
    "df.groupby('author_id').count()['tweet_id'].max()"
   ]
  },
  {
   "cell_type": "code",
   "execution_count": 18,
   "metadata": {},
   "outputs": [
    {
     "data": {
      "text/plain": [
       "1"
      ]
     },
     "execution_count": 18,
     "metadata": {},
     "output_type": "execute_result"
    }
   ],
   "source": [
    "df.groupby('author_id').count()['tweet_id'].min()"
   ]
  },
  {
   "cell_type": "code",
   "execution_count": 19,
   "metadata": {},
   "outputs": [
    {
     "data": {
      "text/plain": [
       "'En una amistad o soy tipo: \\r\\nLo peor es que siempre es así lskdkdnff https://t.co/813bPNQZqR'"
      ]
     },
     "execution_count": 19,
     "metadata": {},
     "output_type": "execute_result"
    }
   ],
   "source": [
    "df.loc[0]['text']"
   ]
  },
  {
   "cell_type": "code",
   "execution_count": 20,
   "metadata": {},
   "outputs": [
    {
     "data": {
      "text/plain": [
       "0"
      ]
     },
     "execution_count": 20,
     "metadata": {},
     "output_type": "execute_result"
    }
   ],
   "source": [
    "df.loc[0]['Odio']"
   ]
  },
  {
   "cell_type": "code",
   "execution_count": 21,
   "metadata": {},
   "outputs": [
    {
     "data": {
      "text/plain": [
       "'Enamorado de esta mujer https://t.co/wDv23bbcWG'"
      ]
     },
     "execution_count": 21,
     "metadata": {},
     "output_type": "execute_result"
    }
   ],
   "source": [
    "df.loc[500]['text']"
   ]
  },
  {
   "cell_type": "code",
   "execution_count": 22,
   "metadata": {},
   "outputs": [
    {
     "data": {
      "text/plain": [
       "2"
      ]
     },
     "execution_count": 22,
     "metadata": {},
     "output_type": "execute_result"
    }
   ],
   "source": [
    "df.loc[500]['Mujeres']"
   ]
  },
  {
   "cell_type": "code",
   "execution_count": 24,
   "metadata": {},
   "outputs": [],
   "source": [
    "df_tweets=pd.read_csv(\n",
    "     os.path.join('hatespeech_data', 'referenced_tweets_data.csv'),index_col=0\n",
    ")"
   ]
  },
  {
   "cell_type": "code",
   "execution_count": 25,
   "metadata": {},
   "outputs": [],
   "source": [
    "df_tweets['tweet_id']=df_tweets['tweet_id'].astype('category')"
   ]
  },
  {
   "cell_type": "code",
   "execution_count": 27,
   "metadata": {},
   "outputs": [],
   "source": [
    "df_new=df.merge(df_tweets, how='right', on='tweet_id')"
   ]
  },
  {
   "cell_type": "code",
   "execution_count": 48,
   "metadata": {},
   "outputs": [],
   "source": [
    "t_id=df.tweet_id.iloc[2]"
   ]
  },
  {
   "cell_type": "code",
   "execution_count": 49,
   "metadata": {},
   "outputs": [
    {
     "data": {
      "text/html": [
       "<div>\n",
       "<style scoped>\n",
       "    .dataframe tbody tr th:only-of-type {\n",
       "        vertical-align: middle;\n",
       "    }\n",
       "\n",
       "    .dataframe tbody tr th {\n",
       "        vertical-align: top;\n",
       "    }\n",
       "\n",
       "    .dataframe thead th {\n",
       "        text-align: right;\n",
       "    }\n",
       "</style>\n",
       "<table border=\"1\" class=\"dataframe\">\n",
       "  <thead>\n",
       "    <tr style=\"text-align: right;\">\n",
       "      <th></th>\n",
       "      <th>tweet_id</th>\n",
       "      <th>author_id</th>\n",
       "      <th>conversation_id</th>\n",
       "      <th>text</th>\n",
       "    </tr>\n",
       "  </thead>\n",
       "  <tbody>\n",
       "  </tbody>\n",
       "</table>\n",
       "</div>"
      ],
      "text/plain": [
       "Empty DataFrame\n",
       "Columns: [tweet_id, author_id, conversation_id, text]\n",
       "Index: []"
      ]
     },
     "execution_count": 49,
     "metadata": {},
     "output_type": "execute_result"
    }
   ],
   "source": [
    "df_tweets[df_tweets.tweet_id==t_id]"
   ]
  },
  {
   "cell_type": "code",
   "execution_count": 50,
   "metadata": {},
   "outputs": [
    {
     "data": {
      "text/html": [
       "<div>\n",
       "<style scoped>\n",
       "    .dataframe tbody tr th:only-of-type {\n",
       "        vertical-align: middle;\n",
       "    }\n",
       "\n",
       "    .dataframe tbody tr th {\n",
       "        vertical-align: top;\n",
       "    }\n",
       "\n",
       "    .dataframe thead th {\n",
       "        text-align: right;\n",
       "    }\n",
       "</style>\n",
       "<table border=\"1\" class=\"dataframe\">\n",
       "  <thead>\n",
       "    <tr style=\"text-align: right;\">\n",
       "      <th></th>\n",
       "      <th>tweet_id</th>\n",
       "      <th>author_id</th>\n",
       "      <th>conversation_id</th>\n",
       "      <th>text</th>\n",
       "      <th>Odio</th>\n",
       "      <th>Mujeres</th>\n",
       "      <th>Comunidad LGBTQ+</th>\n",
       "      <th>Comunidades Migrantes</th>\n",
       "      <th>Pueblos Originarios</th>\n",
       "    </tr>\n",
       "  </thead>\n",
       "  <tbody>\n",
       "    <tr>\n",
       "      <th>2</th>\n",
       "      <td>1079889645280944129</td>\n",
       "      <td>2328230546</td>\n",
       "      <td>()</td>\n",
       "      <td>menos mal q se recibe el año con ropa blanca j...</td>\n",
       "      <td>0</td>\n",
       "      <td>0</td>\n",
       "      <td>0</td>\n",
       "      <td>0</td>\n",
       "      <td>0</td>\n",
       "    </tr>\n",
       "  </tbody>\n",
       "</table>\n",
       "</div>"
      ],
      "text/plain": [
       "              tweet_id   author_id conversation_id  \\\n",
       "2  1079889645280944129  2328230546              ()   \n",
       "\n",
       "                                                text Odio Mujeres  \\\n",
       "2  menos mal q se recibe el año con ropa blanca j...    0       0   \n",
       "\n",
       "  Comunidad LGBTQ+ Comunidades Migrantes Pueblos Originarios  \n",
       "2                0                     0                   0  "
      ]
     },
     "execution_count": 50,
     "metadata": {},
     "output_type": "execute_result"
    }
   ],
   "source": [
    "df[df.tweet_id==t_id]"
   ]
  },
  {
   "cell_type": "markdown",
   "metadata": {},
   "source": [
    "Juntamos los dos campos de texto 'PETICION_CIUDADANO' y 'DESCRIPCION_CIUDADANO'"
   ]
  },
  {
   "cell_type": "code",
   "execution_count": 55,
   "metadata": {},
   "outputs": [
    {
     "data": {
      "text/plain": [
       "0       En una amistad o soy tipo: \\r\\nLo peor es que ...\n",
       "1       QUIEN FUE LA MARACA CULIA TE VOY A MATAR PERRA...\n",
       "2       menos mal q se recibe el año con ropa blanca j...\n",
       "3       Cuantos INFILTRADOS extranjeros hay ahi😡 https...\n",
       "4       #ENCONTRADO #GUAYAQUIL\\r\\nFecha: 06/06/22\\r\\nS...\n",
       "                              ...                        \n",
       "2251    Todo me queda para el orto la puta madre que l...\n",
       "2252    @DnAkd2947 @AmarasLaPatria Miserable e hijo de...\n",
       "2253           @Misael25603414 @sanbenito Cállate mejor 🥰\n",
       "2254    @ServicioTelcel 12 msj hoy y 12 mentadas de ma...\n",
       "2255    @CNNChile @tv_monica MIRE señor; yo soy un sim...\n",
       "Name: text, Length: 2256, dtype: object"
      ]
     },
     "execution_count": 55,
     "metadata": {},
     "output_type": "execute_result"
    }
   ],
   "source": [
    "df['text']"
   ]
  },
  {
   "cell_type": "code",
   "execution_count": 56,
   "metadata": {},
   "outputs": [],
   "source": [
    "import string, re\n",
    "\n",
    "def remove_punct(x):\n",
    "    comp = re.compile(\"[%s\\d]\" % re.escape(string.punctuation))\n",
    "    return \" \".join(comp.sub(\" \", str(x)).split()).lower()\n",
    "\n",
    "df['data']=df['text'].apply(remove_punct)"
   ]
  },
  {
   "cell_type": "code",
   "execution_count": 58,
   "metadata": {},
   "outputs": [],
   "source": [
    "df['data']=df['data'].str.normalize('NFKD').str.encode('ascii', errors='ignore').str.decode('utf-8')"
   ]
  },
  {
   "cell_type": "code",
   "execution_count": 59,
   "metadata": {},
   "outputs": [
    {
     "data": {
      "text/plain": [
       "2236    daritapi tigosportspy paraguayo que juega en e...\n",
       "2237                     capitanbitcoin malditos salvajes\n",
       "2238    ingrodolfohdez petrogustavo no pago el rescate...\n",
       "2239    solo un viejo verde te puede gritar linda a vo...\n",
       "2240    lorraine frj alittlestormm ustedes me dan pena...\n",
       "2241    pablosoooo ni tanto ni tan calvo una especie d...\n",
       "2242    sol yluna vickydavilah ahi tiene a su corrupto...\n",
       "2243    crystalbbabe eri terrible wna pendeja kl webea...\n",
       "2244    maka de chile pandachileno carabdechile difund...\n",
       "2245    los extranjeros en chile reclamando porque no ...\n",
       "2246     nuevo articulolgbt  llaveros del orgullo lgbt...\n",
       "2247        dantepiang y sale arrancando el amariconao ql\n",
       "2248    unoticias si la onu ama a los extranjeros que ...\n",
       "2249    nolohagasfiliz te lo mereces filiz por pensar ...\n",
       "2250    profmarcoavila isabelamor iracihassler que nec...\n",
       "2251    todo me queda para el orto la puta madre que l...\n",
       "2252        dnakd amaraslapatria miserable e hijo de puta\n",
       "2253                      misael sanbenito callate mejor \n",
       "2254    serviciotelcel msj hoy y mentadas de madre cad...\n",
       "2255    cnnchile tv monica mire senor yo soy un simple...\n",
       "Name: data, dtype: object"
      ]
     },
     "execution_count": 59,
     "metadata": {},
     "output_type": "execute_result"
    }
   ],
   "source": [
    "df['data'][-20:]"
   ]
  },
  {
   "cell_type": "code",
   "execution_count": 68,
   "metadata": {},
   "outputs": [],
   "source": [
    "from sklearn.feature_extraction.text import CountVectorizer\n",
    "from sklearn.metrics import f1_score\n",
    "\n",
    "n_documents = df.shape[0]\n",
    "count_vectorizer = CountVectorizer(input='content', binary=True,max_df=0.25, min_df=1.01/n_documents) \n",
    "train_binary_bag_of_words = count_vectorizer.fit_transform(df['data']).todense() \n"
   ]
  },
  {
   "cell_type": "code",
   "execution_count": 94,
   "metadata": {},
   "outputs": [],
   "source": [
    "df_test=pd.read_csv(\n",
    "     os.path.join('hatespeech_data', 'public_test_data.csv'),index_col=0\n",
    ")"
   ]
  },
  {
   "cell_type": "code",
   "execution_count": 97,
   "metadata": {},
   "outputs": [],
   "source": [
    "df_test['data']=df_test['text'].apply(remove_punct)\n",
    "df_test['data']=df_test['data'].str.normalize('NFKD').str.encode('ascii', errors='ignore').str.decode('utf-8')"
   ]
  },
  {
   "cell_type": "code",
   "execution_count": 98,
   "metadata": {},
   "outputs": [],
   "source": [
    "X_sub=count_vectorizer.transform(df_test['data'])"
   ]
  },
  {
   "cell_type": "code",
   "execution_count": 69,
   "metadata": {},
   "outputs": [
    {
     "data": {
      "text/plain": [
       "(2256, 3486)"
      ]
     },
     "execution_count": 69,
     "metadata": {},
     "output_type": "execute_result"
    }
   ],
   "source": [
    "train_binary_bag_of_words.shape"
   ]
  },
  {
   "cell_type": "code",
   "execution_count": 70,
   "metadata": {},
   "outputs": [
    {
     "data": {
      "text/plain": [
       "'en una amistad o soy tipo lo peor es que siempre es asi lskdkdnff https t co bpnqzqr'"
      ]
     },
     "execution_count": 70,
     "metadata": {},
     "output_type": "execute_result"
    }
   ],
   "source": [
    "df['data'][0]"
   ]
  },
  {
   "cell_type": "code",
   "execution_count": 71,
   "metadata": {},
   "outputs": [
    {
     "data": {
      "text/plain": [
       "0"
      ]
     },
     "execution_count": 71,
     "metadata": {},
     "output_type": "execute_result"
    }
   ],
   "source": [
    "df['Odio'][0]"
   ]
  },
  {
   "cell_type": "code",
   "execution_count": 72,
   "metadata": {},
   "outputs": [],
   "source": [
    "labels=(df['Odio']!=0).astype(int)"
   ]
  },
  {
   "cell_type": "code",
   "execution_count": 73,
   "metadata": {},
   "outputs": [
    {
     "data": {
      "text/plain": [
       "(2256,)"
      ]
     },
     "execution_count": 73,
     "metadata": {},
     "output_type": "execute_result"
    }
   ],
   "source": [
    "labels.shape"
   ]
  },
  {
   "cell_type": "markdown",
   "metadata": {},
   "source": [
    "# Bernoulli Naive Bayes\n",
    "\n",
    "C.D. Manning, P. Raghavan and H. Schuetze (2008). Introduction to Information Retrieval. Cambridge University Press, pp. 234-265. https://nlp.stanford.edu/IR-book/html/htmledition/the-bernoulli-model-1.html\n",
    "\n",
    "A. McCallum and K. Nigam (1998). A comparison of event models for naive Bayes text classification. Proc. AAAI/ICML-98 Workshop on Learning for Text Categorization, pp. 41-48."
   ]
  },
  {
   "cell_type": "code",
   "execution_count": 74,
   "metadata": {},
   "outputs": [],
   "source": [
    "from sklearn.model_selection import train_test_split\n",
    "\n",
    "X_train, X_test, y_train, y_test = train_test_split(train_binary_bag_of_words, labels,test_size=0.2)"
   ]
  },
  {
   "cell_type": "code",
   "execution_count": 75,
   "metadata": {},
   "outputs": [
    {
     "name": "stdout",
     "output_type": "stream",
     "text": [
      "alpha : 0.00, accuracy: 0.74\n",
      "alpha : 0.11, accuracy: 0.75\n",
      "alpha : 0.22, accuracy: 0.75\n",
      "alpha : 0.33, accuracy: 0.75\n",
      "alpha : 0.45, accuracy: 0.76\n",
      "alpha : 0.56, accuracy: 0.76\n",
      "alpha : 0.67, accuracy: 0.76\n",
      "alpha : 0.78, accuracy: 0.77\n",
      "alpha : 0.89, accuracy: 0.76\n",
      "alpha : 1.00, accuracy: 0.76\n"
     ]
    }
   ],
   "source": [
    "from sklearn.naive_bayes import BernoulliNB\n",
    "from sklearn import metrics\n",
    "import numpy as np\n",
    "\n",
    "\n",
    "for a in np.linspace(1.0e-3,1,10):\n",
    "    clf = BernoulliNB(alpha=a)\n",
    "    clf.fit(np.asarray(X_train), np.asarray(y_train))\n",
    "    y_pred = clf.predict(np.asarray(X_test))\n",
    "    score = metrics.accuracy_score(y_test.values, y_pred)\n",
    "    print('alpha : {0:0.2f}, accuracy: {1:0.2f}'.format(a,score))"
   ]
  },
  {
   "cell_type": "code",
   "execution_count": 76,
   "metadata": {},
   "outputs": [
    {
     "data": {
      "text/plain": [
       "numpy.ndarray"
      ]
     },
     "execution_count": 76,
     "metadata": {},
     "output_type": "execute_result"
    }
   ],
   "source": [
    "type(np.asarray(X_train))"
   ]
  },
  {
   "cell_type": "code",
   "execution_count": 92,
   "metadata": {},
   "outputs": [
    {
     "name": "stdout",
     "output_type": "stream",
     "text": [
      "              precision    recall  f1-score   support\n",
      "\n",
      "           0       0.68      0.83      0.75       190\n",
      "           1       0.85      0.72      0.78       262\n",
      "\n",
      "    accuracy                           0.77       452\n",
      "   macro avg       0.77      0.77      0.76       452\n",
      "weighted avg       0.78      0.77      0.77       452\n",
      "\n"
     ]
    }
   ],
   "source": [
    "from sklearn.metrics import classification_report\n",
    "\n",
    "clf = BernoulliNB(alpha=0.78)\n",
    "clf.fit(X_train, y_train)\n",
    "y_pred = clf.predict(X_test)\n",
    "\n",
    "print(classification_report(y_test, y_pred))"
   ]
  },
  {
   "cell_type": "code",
   "execution_count": 101,
   "metadata": {},
   "outputs": [],
   "source": [
    "y_sub=clf.predict(X_sub)"
   ]
  },
  {
   "cell_type": "code",
   "execution_count": 104,
   "metadata": {},
   "outputs": [
    {
     "data": {
      "text/plain": [
       "('Estoy de acuerdo que corrijas a tus hijos pero no tratarlos como “Par de hijos de puta”',\n",
       " 0)"
      ]
     },
     "execution_count": 104,
     "metadata": {},
     "output_type": "execute_result"
    }
   ],
   "source": [
    "df_test['text'][0],y_sub[0]"
   ]
  },
  {
   "cell_type": "code",
   "execution_count": 105,
   "metadata": {},
   "outputs": [
    {
     "data": {
      "text/plain": [
       "('@danieljadue @ArquitectsPC1 Te regalo un pico pa que lleguis de poto, wn hueco.',\n",
       " 1)"
      ]
     },
     "execution_count": 105,
     "metadata": {},
     "output_type": "execute_result"
    }
   ],
   "source": [
    "df_test['text'][1],y_sub[1]"
   ]
  },
  {
   "cell_type": "markdown",
   "metadata": {},
   "source": [
    "# Bayesian Naive Bayes\n",
    "\n",
    "Ahora, en vez de considerar distribuciones de Bernoulli, utilizamos distribuciones conjugadas (Beta)"
   ]
  },
  {
   "cell_type": "code",
   "execution_count": 78,
   "metadata": {},
   "outputs": [],
   "source": [
    "import tensorflow as tf\n",
    "import tensorflow_probability as tfp\n",
    "import tensorflow.keras as keras\n",
    "tfd = tfp.distributions\n",
    "\n",
    "def get_prior(y):\n",
    "    probs=[np.sum(y==c_k)/len(y) for c_k in np.unique(y)]\n",
    "    print('The class priors are {}'.format(np.sum(probs)))\n",
    "    priors=tfd.Categorical(probs=probs)\n",
    "    return priors"
   ]
  },
  {
   "cell_type": "code",
   "execution_count": 79,
   "metadata": {},
   "outputs": [
    {
     "name": "stdout",
     "output_type": "stream",
     "text": [
      "The class priors are 1.0\n"
     ]
    }
   ],
   "source": [
    "prior=get_prior(labels)"
   ]
  },
  {
   "cell_type": "code",
   "execution_count": 85,
   "metadata": {},
   "outputs": [
    {
     "data": {
      "image/png": "[encoded data removed]",
      "text/plain": [
       "<Figure size 432x288 with 1 Axes>"
      ]
     },
     "metadata": {
      "needs_background": "light"
     },
     "output_type": "display_data"
    }
   ],
   "source": [
    "import matplotlib.pyplot as plt\n",
    "\n",
    "str_labels=labels.unique()\n",
    "\n",
    "unique_labels=np.unique(labels)\n",
    "plt.bar(range(2), prior.probs.numpy())\n",
    "plt.xlabel(\"Clase\")\n",
    "plt.ylabel(\"Probabilidad apriori\")\n",
    "plt.title(\"Distribucion de clases\")\n",
    "plt.xticks(range(2), str_labels)\n",
    "plt.show()"
   ]
  },
  {
   "cell_type": "markdown",
   "metadata": {},
   "source": [
    "Los datos originales de las imagenes contienen regiones donde siempre los valores son cero. Una forma de suavizar la estimacion de probabilidades condicionales es usar suavizado de Laplace (https://en.wikipedia.org/wiki/Additive_smoothing)"
   ]
  },
  {
   "cell_type": "code",
   "execution_count": 86,
   "metadata": {},
   "outputs": [],
   "source": [
    "def laplace_smoothing(binary_data,labels,alpha=1):\n",
    "    n_words=binary_data.shape[1]\n",
    "    n_classes=len(np.unique(labels))\n",
    "    theta = np.zeros([n_classes, n_words])\n",
    "    for c_k in range(n_classes):\n",
    "        class_mask = (labels == c_k)\n",
    "        N = class_mask.sum() # number of pixels in class\n",
    "        theta[c_k, :] = (binary_data[class_mask, :].sum(axis=0) + alpha)/(N + alpha*2)\n",
    "    return theta"
   ]
  },
  {
   "cell_type": "markdown",
   "metadata": {},
   "source": [
    "$p(\\theta | D) \\propto p(\\theta)p(D | \\theta)$\n",
    "\n",
    "$p(\\theta | a, b) = \\frac{\\theta^{a - 1}(1 - \\theta)^{\\beta - 1}}{\\beta(a,b)}$\n",
    "\n",
    "El estimador de maxima verosimilitud para la distrbucion Beta es:\n",
    "\n",
    "$\\hat{\\theta}_{\\text{map}} = \\frac{\\alpha + n_1 - 1}{\\alpha + \\beta + n_1 + n_2 - 2}$"
   ]
  },
  {
   "cell_type": "code",
   "execution_count": 88,
   "metadata": {},
   "outputs": [],
   "source": [
    "def get_class_conditionals(probs):\n",
    "    class_conditionals=tfd.Bernoulli(probs=probs)\n",
    "    return class_conditionals\n",
    "\n",
    "def predict_sample(prior, class_conditionals, sample):\n",
    "    cond_probs = class_conditionals.log_prob(sample)\n",
    "    prior_probs=prior.logits_parameter()\n",
    "    cond_probs=tf.cast(cond_probs,prior_probs.dtype)\n",
    "    joint_likelihood = tf.add(prior_probs, tf.reduce_sum(cond_probs,axis=1))\n",
    "    norm_factor = tf.math.reduce_logsumexp(joint_likelihood, axis=-1, keepdims=True)\n",
    "    log_prob = joint_likelihood - norm_factor\n",
    "    return tf.math.exp(log_prob).numpy()\n",
    "\n",
    "def predict_class(prior, class_conditionals, x):\n",
    "    pred=[]\n",
    "    for sample in x:\n",
    "        prob=predict_sample(prior, class_conditionals,sample)\n",
    "        pred.append(prob.argmax())\n",
    "    return pred\n"
   ]
  },
  {
   "cell_type": "code",
   "execution_count": 89,
   "metadata": {},
   "outputs": [
    {
     "data": {
      "text/plain": [
       "tf.int32"
      ]
     },
     "execution_count": 89,
     "metadata": {},
     "output_type": "execute_result"
    }
   ],
   "source": [
    "prior.dtype"
   ]
  },
  {
   "cell_type": "code",
   "execution_count": 90,
   "metadata": {},
   "outputs": [
    {
     "name": "stdout",
     "output_type": "stream",
     "text": [
      "alpha : 0.00, accuracy: 0.62\n",
      "alpha : 0.11, accuracy: 0.75\n",
      "alpha : 0.22, accuracy: 0.75\n",
      "alpha : 0.33, accuracy: 0.75\n",
      "alpha : 0.44, accuracy: 0.76\n",
      "alpha : 0.56, accuracy: 0.76\n",
      "alpha : 0.67, accuracy: 0.76\n",
      "alpha : 0.78, accuracy: 0.77\n",
      "alpha : 0.89, accuracy: 0.76\n",
      "alpha : 1.00, accuracy: 0.76\n"
     ]
    }
   ],
   "source": [
    "for a in np.linspace(0,1,10):\n",
    "    theta=laplace_smoothing(X_train,y_train,alpha=a)\n",
    "    class_conditionals=get_class_conditionals(theta)\n",
    "    y_pred_tfp=predict_class(prior, class_conditionals, X_test)\n",
    "    score = metrics.accuracy_score(y_test, y_pred_tfp)\n",
    "    print('alpha : {0:0.2f}, accuracy: {1:0.2f}'.format(a,score))"
   ]
  },
  {
   "cell_type": "code",
   "execution_count": 91,
   "metadata": {},
   "outputs": [
    {
     "name": "stdout",
     "output_type": "stream",
     "text": [
      "              precision    recall  f1-score   support\n",
      "\n",
      "           0       0.67      0.80      0.73       190\n",
      "           1       0.83      0.72      0.77       262\n",
      "\n",
      "    accuracy                           0.75       452\n",
      "   macro avg       0.75      0.76      0.75       452\n",
      "weighted avg       0.76      0.75      0.75       452\n",
      "\n"
     ]
    }
   ],
   "source": [
    "from sklearn.metrics import classification_report\n",
    "\n",
    "theta=laplace_smoothing(X_train,y_train,alpha=0.33)\n",
    "class_conditionals=get_class_conditionals(theta)\n",
    "y_pred_tfp=predict_class(prior, class_conditionals, X_test)\n",
    "print(classification_report(y_test, y_pred_tfp))"
   ]
  }
 ],
 "metadata": {
  "kernelspec": {
   "display_name": "Python 3.8.6 ('tf')",
   "language": "python",
   "name": "python3"
  },
  "language_info": {
   "codemirror_mode": {
    "name": "ipython",
    "version": 3
   },
   "file_extension": ".py",
   "mimetype": "text/x-python",
   "name": "python",
   "nbconvert_exporter": "python",
   "pygments_lexer": "ipython3",
   "version": "3.8.6"
  },
  "vscode": {
   "interpreter": {
    "hash": "52ee2977380704a66854748a73250e0671a9318bd5b3fd45a3df9f851ae61629"
   }
  }
 },
 "nbformat": 4,
 "nbformat_minor": 4
}
