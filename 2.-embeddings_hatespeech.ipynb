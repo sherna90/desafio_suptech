{
 "cells": [
  {
   "cell_type": "markdown",
   "metadata": {},
   "source": [
    "# Redes Neuronales NLP"
   ]
  },
  {
   "cell_type": "code",
   "execution_count": 1,
   "metadata": {},
   "outputs": [],
   "source": [
    "import pandas as pd\n",
    "import sklearn as sklearn"
   ]
  },
  {
   "cell_type": "code",
   "execution_count": 3,
   "metadata": {},
   "outputs": [],
   "source": [
    "import tensorflow as tf\n",
    "config = tf.compat.v1.ConfigProto(gpu_options = \n",
    "                         tf.compat.v1.GPUOptions(per_process_gpu_memory_fraction=0.8)\n",
    "# device_count = {'GPU': 1}\n",
    ")\n",
    "config.gpu_options.allow_growth = True\n",
    "session = tf.compat.v1.Session(config=config)\n",
    "tf.compat.v1.keras.backend.set_session(session)"
   ]
  },
  {
   "cell_type": "code",
   "execution_count": 4,
   "metadata": {},
   "outputs": [],
   "source": [
    "import os\n",
    "\n",
    "df=pd.read_csv(\n",
    "     os.path.join('hatespeech_data', 'tweets_train.csv'),index_col=0\n",
    ")"
   ]
  },
  {
   "cell_type": "code",
   "execution_count": 5,
   "metadata": {},
   "outputs": [
    {
     "data": {
      "text/plain": [
       "Index(['tweet_id', 'author_id', 'conversation_id', 'text', 'Odio', 'Mujeres',\n",
       "       'Comunidad LGBTQ+', 'Comunidades Migrantes', 'Pueblos Originarios'],\n",
       "      dtype='object')"
      ]
     },
     "execution_count": 5,
     "metadata": {},
     "output_type": "execute_result"
    }
   ],
   "source": [
    "df.columns"
   ]
  },
  {
   "cell_type": "code",
   "execution_count": 6,
   "metadata": {},
   "outputs": [],
   "source": [
    "df['Odio']=df['Odio'].astype('category')\n",
    "df['Mujeres']=df['Mujeres'].astype('category')\n",
    "df['Comunidad LGBTQ+']=df['Comunidad LGBTQ+'].astype('category')\n",
    "df['Comunidades Migrantes']=df['Comunidades Migrantes'].astype('category')\n",
    "df['Pueblos Originarios']=df['Pueblos Originarios'].astype('category')"
   ]
  },
  {
   "cell_type": "code",
   "execution_count": 7,
   "metadata": {},
   "outputs": [],
   "source": [
    "df['tweet_id']=df['tweet_id'].astype('category')\n",
    "df['author_id']=df['author_id'].astype('category')"
   ]
  },
  {
   "cell_type": "code",
   "execution_count": 8,
   "metadata": {},
   "outputs": [],
   "source": [
    "df['text']=df['text'].map(str).str.lower()"
   ]
  },
  {
   "cell_type": "code",
   "execution_count": 9,
   "metadata": {},
   "outputs": [],
   "source": [
    "import string, re\n",
    "\n",
    "def remove_punct(x):\n",
    "    comp = re.compile(\"[%s\\d]\" % re.escape(string.punctuation))\n",
    "    return \" \".join(comp.sub(\" \", str(x)).split()).lower()\n",
    "\n",
    "df['data']=df['text'].apply(remove_punct)"
   ]
  },
  {
   "cell_type": "code",
   "execution_count": 10,
   "metadata": {},
   "outputs": [],
   "source": [
    "stop_words = [line.strip() for line in  open(\"stopwords-filter-es.txt\", \"r\")]"
   ]
  },
  {
   "cell_type": "code",
   "execution_count": 11,
   "metadata": {},
   "outputs": [],
   "source": [
    "df['data']=df['data'].apply(lambda x: ' '.join([word for word in x.split() if word not in (stop_words)]))"
   ]
  },
  {
   "cell_type": "code",
   "execution_count": 13,
   "metadata": {},
   "outputs": [
    {
     "name": "stdout",
     "output_type": "stream",
     "text": [
      "0       amistad tipo peor siempre asi lskdkdnff https ...\n",
      "1                    maraca culia voy matar perra mierdva\n",
      "2       menos mal q recibe ano ropa blanca jajajajjaja...\n",
      "3       cuantos infiltrados extranjeros ahi😡 https t c...\n",
      "4       encontrado guayaquil fecha sector norte autopi...\n",
      "                              ...                        \n",
      "2251                          queda orto puta madre pario\n",
      "2252             dnakd amaraslapatria miserable hijo puta\n",
      "2253                     misael sanbenito callate mejor 🥰\n",
      "2254    serviciotelcel msj hoy mentadas madre cada ees...\n",
      "2255    cnnchile tv monica mire senor simple ciudadano...\n",
      "Name: data, Length: 2256, dtype: object\n"
     ]
    }
   ],
   "source": [
    "import unicodedata\n",
    "\n",
    "def strip_accents(string, accents=('COMBINING ACUTE ACCENT', 'COMBINING GRAVE ACCENT', 'COMBINING TILDE')):\n",
    "    accents = set(map(unicodedata.lookup, accents))\n",
    "    chars = [c for c in unicodedata.normalize('NFD', string) if c not in accents]\n",
    "    return unicodedata.normalize('NFC', ''.join(chars))\n",
    "\n",
    "df['data'] = df['data'].apply(strip_accents)\n",
    "print(df['data'] )"
   ]
  },
  {
   "cell_type": "code",
   "execution_count": 14,
   "metadata": {},
   "outputs": [],
   "source": [
    "labels=(df['Odio']!=0).astype(int)"
   ]
  },
  {
   "cell_type": "code",
   "execution_count": 15,
   "metadata": {},
   "outputs": [],
   "source": [
    "import tensorflow.keras as keras\n",
    "from tensorflow.keras.preprocessing.text import Tokenizer\n",
    "\n",
    "oov_tok='<OOV>'\n",
    "tokenizer = Tokenizer(num_words=2000, oov_token=oov_tok)\n",
    "tokenizer.fit_on_texts(df['data'].values)\n",
    "\n",
    "input_array = tokenizer.texts_to_sequences(df['data'].values)\n",
    "\n",
    "vocab_size = len(tokenizer.word_index) + 1  "
   ]
  },
  {
   "cell_type": "code",
   "execution_count": 16,
   "metadata": {},
   "outputs": [
    {
     "name": "stdout",
     "output_type": "stream",
     "text": [
      "tamano vocabulario :  12761\n"
     ]
    }
   ],
   "source": [
    "print('tamano vocabulario : ',vocab_size)"
   ]
  },
  {
   "cell_type": "code",
   "execution_count": 17,
   "metadata": {},
   "outputs": [
    {
     "name": "stdout",
     "output_type": "stream",
     "text": [
      "|<OOV>          |1    |\n",
      "|t              |2    |\n",
      "|co             |3    |\n",
      "|https          |4    |\n",
      "|mujer          |5    |\n",
      "|puta           |6    |\n",
      "|si             |7    |\n",
      "|q              |8    |\n",
      "|mierda         |9    |\n",
      "|chile          |10   |\n",
      "|ser            |11   |\n",
      "|mapuche        |12   |\n",
      "|pais           |13   |\n",
      "|inmigrantes    |14   |\n",
      "|solo           |15   |\n",
      "|asi            |16   |\n",
      "|extranjeros    |17   |\n",
      "|mapuches       |18   |\n",
      "|hijo           |19   |\n",
      "|negro          |20   |\n"
     ]
    }
   ],
   "source": [
    "j=0\n",
    "for id,word in zip(tokenizer.word_index.keys(),tokenizer.word_index.values()):\n",
    "    print(\"|{0:15s}|{1:5s}|\".format(id,str(word)))\n",
    "    j+=1\n",
    "    if j==20:\n",
    "        break"
   ]
  },
  {
   "cell_type": "code",
   "execution_count": 18,
   "metadata": {},
   "outputs": [],
   "source": [
    "reverse_word_index = dict(\n",
    "[(value, key) for (key, value) in tokenizer.word_index.items()])\n"
   ]
  },
  {
   "cell_type": "code",
   "execution_count": 19,
   "metadata": {},
   "outputs": [
    {
     "data": {
      "text/plain": [
       "'amistad tipo peor siempre asi lskdkdnff https t co bpnqzqr'"
      ]
     },
     "execution_count": 19,
     "metadata": {},
     "output_type": "execute_result"
    }
   ],
   "source": [
    "df['data'][0]"
   ]
  },
  {
   "cell_type": "code",
   "execution_count": 20,
   "metadata": {},
   "outputs": [
    {
     "data": {
      "text/plain": [
       "[820, 176, 82, 67, 16, 1, 4, 2, 3, 1]"
      ]
     },
     "execution_count": 20,
     "metadata": {},
     "output_type": "execute_result"
    }
   ],
   "source": [
    "input_array[0]"
   ]
  },
  {
   "cell_type": "code",
   "execution_count": 21,
   "metadata": {},
   "outputs": [
    {
     "data": {
      "text/plain": [
       "'amistad'"
      ]
     },
     "execution_count": 21,
     "metadata": {},
     "output_type": "execute_result"
    }
   ],
   "source": [
    "reverse_word_index[820]"
   ]
  },
  {
   "cell_type": "code",
   "execution_count": 22,
   "metadata": {},
   "outputs": [],
   "source": [
    "import numpy as np\n",
    "\n",
    "max_len=np.max([len(array) for array in input_array])"
   ]
  },
  {
   "cell_type": "code",
   "execution_count": 31,
   "metadata": {},
   "outputs": [
    {
     "data": {
      "text/plain": [
       "10"
      ]
     },
     "execution_count": 31,
     "metadata": {},
     "output_type": "execute_result"
    }
   ],
   "source": [
    "len(input_array[0])"
   ]
  },
  {
   "cell_type": "code",
   "execution_count": 32,
   "metadata": {},
   "outputs": [],
   "source": [
    "from tensorflow.keras.preprocessing.sequence import pad_sequences\n",
    "\n",
    "input_array_padded = pad_sequences(input_array, padding='post', maxlen=max_len)"
   ]
  },
  {
   "cell_type": "code",
   "execution_count": 34,
   "metadata": {},
   "outputs": [
    {
     "data": {
      "text/plain": [
       "array([820, 176,  82,  67,  16,   1,   4,   2,   3,   1,   0,   0,   0,\n",
       "         0,   0,   0,   0,   0,   0,   0,   0,   0,   0,   0,   0,   0,\n",
       "         0,   0,   0,   0,   0,   0,   0,   0,   0,   0,   0,   0,   0,\n",
       "         0,   0,   0,   0,   0,   0,   0,   0,   0,   0,   0,   0,   0,\n",
       "         0,   0,   0,   0,   0,   0,   0,   0,   0,   0,   0,   0,   0,\n",
       "         0,   0,   0,   0,   0,   0,   0,   0,   0,   0,   0,   0,   0,\n",
       "         0,   0,   0,   0], dtype=int32)"
      ]
     },
     "execution_count": 34,
     "metadata": {},
     "output_type": "execute_result"
    }
   ],
   "source": [
    "input_array_padded[0,:]"
   ]
  },
  {
   "cell_type": "code",
   "execution_count": 35,
   "metadata": {},
   "outputs": [],
   "source": [
    "from sklearn.model_selection import train_test_split\n",
    "\n",
    "X_train, X_test, y_train, y_test = train_test_split(input_array_padded, labels, test_size=0.2)"
   ]
  },
  {
   "cell_type": "code",
   "execution_count": 36,
   "metadata": {},
   "outputs": [
    {
     "data": {
      "text/plain": [
       "(1804, 82)"
      ]
     },
     "execution_count": 36,
     "metadata": {},
     "output_type": "execute_result"
    }
   ],
   "source": [
    "X_train.shape"
   ]
  },
  {
   "cell_type": "code",
   "execution_count": 23,
   "metadata": {},
   "outputs": [],
   "source": [
    "from collections import OrderedDict\n",
    "\n",
    "wc=tokenizer.word_counts\n",
    "newlist = (OrderedDict(sorted(wc.items(), key=lambda t: t[1], reverse=True)))"
   ]
  },
  {
   "cell_type": "code",
   "execution_count": 24,
   "metadata": {},
   "outputs": [
    {
     "name": "stdout",
     "output_type": "stream",
     "text": [
      "|t              |563  |\n",
      "|co             |535  |\n",
      "|https          |530  |\n",
      "|mujer          |348  |\n",
      "|puta           |329  |\n",
      "|si             |280  |\n",
      "|q              |269  |\n",
      "|mierda         |168  |\n",
      "|chile          |160  |\n",
      "|ser            |148  |\n",
      "|mapuche        |136  |\n",
      "|pais           |104  |\n",
      "|inmigrantes    |103  |\n",
      "|solo           |101  |\n",
      "|asi            |98   |\n",
      "|extranjeros    |94   |\n",
      "|mapuches       |87   |\n",
      "|hijo           |84   |\n",
      "|negro          |82   |\n",
      "|madre          |79   |\n"
     ]
    }
   ],
   "source": [
    "j=0\n",
    "for id,word in newlist.items():\n",
    "    print(\"|{0:15s}|{1:5s}|\".format(str(id),str(word)))\n",
    "    j+=1\n",
    "    if j==20:\n",
    "        break"
   ]
  },
  {
   "cell_type": "code",
   "execution_count": 25,
   "metadata": {},
   "outputs": [
    {
     "data": {
      "text/plain": [
       "(array([1.2723e+04, 2.5000e+01, 4.0000e+00, 0.0000e+00, 2.0000e+00,\n",
       "        1.0000e+00, 1.0000e+00, 0.0000e+00, 0.0000e+00, 3.0000e+00]),\n",
       " array([  1. ,  57.2, 113.4, 169.6, 225.8, 282. , 338.2, 394.4, 450.6,\n",
       "        506.8, 563. ]),\n",
       " <BarContainer object of 10 artists>)"
      ]
     },
     "execution_count": 25,
     "metadata": {},
     "output_type": "execute_result"
    },
    {
     "data": {
      "image/png": "[encoded data removed]",
      "text/plain": [
       "<Figure size 432x288 with 1 Axes>"
      ]
     },
     "metadata": {
      "needs_background": "light"
     },
     "output_type": "display_data"
    }
   ],
   "source": [
    "import matplotlib.pyplot as plt\n",
    "\n",
    "plt.hist(list(wc.values()))"
   ]
  },
  {
   "cell_type": "code",
   "execution_count": 26,
   "metadata": {},
   "outputs": [
    {
     "data": {
      "text/plain": [
       "Text(0, 0.5, '# ocurrencias (log)')"
      ]
     },
     "execution_count": 26,
     "metadata": {},
     "output_type": "execute_result"
    },
    {
     "data": {
      "image/png": "[encoded data removed]",
      "text/plain": [
       "<Figure size 432x288 with 1 Axes>"
      ]
     },
     "metadata": {
      "needs_background": "light"
     },
     "output_type": "display_data"
    }
   ],
   "source": [
    "plt.hist(np.log(list(wc.values())))\n",
    "plt.xlabel('palabras')\n",
    "plt.ylabel('# ocurrencias (log)')"
   ]
  },
  {
   "cell_type": "markdown",
   "metadata": {},
   "source": [
    "# Red Neuronal MultiCapa"
   ]
  },
  {
   "cell_type": "code",
   "execution_count": 27,
   "metadata": {},
   "outputs": [],
   "source": [
    "tf.keras.backend.clear_session()"
   ]
  },
  {
   "cell_type": "code",
   "execution_count": 29,
   "metadata": {},
   "outputs": [
    {
     "data": {
      "text/plain": [
       "6.68740304976422"
      ]
     },
     "execution_count": 29,
     "metadata": {},
     "output_type": "execute_result"
    }
   ],
   "source": [
    "np.sqrt(np.sqrt(2000))"
   ]
  },
  {
   "cell_type": "code",
   "execution_count": 47,
   "metadata": {},
   "outputs": [
    {
     "name": "stdout",
     "output_type": "stream",
     "text": [
      "Model: \"sequential_4\"\n",
      "_________________________________________________________________\n",
      "Layer (type)                 Output Shape              Param #   \n",
      "=================================================================\n",
      "embedding_4 (Embedding)      (None, 82, 7)             14000     \n",
      "_________________________________________________________________\n",
      "global_max_pooling1d_4 (Glob (None, 7)                 0         \n",
      "_________________________________________________________________\n",
      "dense_8 (Dense)              (None, 32)                256       \n",
      "_________________________________________________________________\n",
      "dropout_4 (Dropout)          (None, 32)                0         \n",
      "_________________________________________________________________\n",
      "dense_9 (Dense)              (None, 1)                 33        \n",
      "=================================================================\n",
      "Total params: 14,289\n",
      "Trainable params: 14,289\n",
      "Non-trainable params: 0\n",
      "_________________________________________________________________\n"
     ]
    }
   ],
   "source": [
    "from tensorflow.keras.models import Sequential\n",
    "from tensorflow.keras.layers import Dense, Dropout,Embedding, LSTM, Flatten, SpatialDropout1D,GlobalMaxPool1D\n",
    "\n",
    "model = Sequential()\n",
    "model.add(Embedding(input_dim=2000, \n",
    "                           output_dim=7, \n",
    "                           input_length=max_len))\n",
    "model.add(GlobalMaxPool1D())\n",
    "model.add(Dense(32, activation='relu',kernel_regularizer = tf.keras.regularizers.l2(0.01)))\n",
    "model.add(Dropout(.25))\n",
    "model.add(Dense(1, activation='sigmoid'))\n",
    "\n",
    "adam = tf.keras.optimizers.Adam(learning_rate=1e-4,\n",
    "                                     beta_1=0.9, beta_2=0.999, amsgrad=False)\n",
    "\n",
    "model.compile(optimizer=adam,\n",
    "              loss='binary_crossentropy',\n",
    "              metrics=['accuracy'])\n",
    "model.summary()\n"
   ]
  },
  {
   "cell_type": "markdown",
   "metadata": {},
   "source": [
    "\n",
    "https://realpython.com/python-keras-text-classification/#what-is-a-word-embedding"
   ]
  },
  {
   "cell_type": "code",
   "execution_count": 48,
   "metadata": {},
   "outputs": [],
   "source": [
    "batch_size = 32\n",
    "history=model.fit(X_train,y_train.values,epochs=100,batch_size=batch_size,validation_data=(X_test, y_test.values),verbose=0)"
   ]
  },
  {
   "cell_type": "code",
   "execution_count": 39,
   "metadata": {},
   "outputs": [],
   "source": [
    "import matplotlib.pyplot as plt\n",
    "plt.style.use('ggplot')\n",
    "\n",
    "def plot_history(history):\n",
    "    acc = history.history['accuracy']\n",
    "    val_acc = history.history['val_accuracy']\n",
    "    loss = history.history['loss']\n",
    "    val_loss = history.history['val_loss']\n",
    "    x = range(1, len(acc) + 1)\n",
    "\n",
    "    plt.figure(figsize=(12, 5))\n",
    "    plt.subplot(1, 2, 1)\n",
    "    plt.plot(x, acc, 'b', label='Entrenamiento')\n",
    "    plt.plot(x, val_acc, 'r', label='Validacion')\n",
    "    plt.title('Exactitud')\n",
    "    plt.legend()\n",
    "    plt.subplot(1, 2, 2)\n",
    "    plt.plot(x, loss, 'b', label='Entrenamiento')\n",
    "    plt.plot(x, val_loss, 'r', label='Validacion')\n",
    "    plt.title('Objetivo')\n",
    "    plt.legend()"
   ]
  },
  {
   "cell_type": "code",
   "execution_count": 49,
   "metadata": {},
   "outputs": [
    {
     "name": "stdout",
     "output_type": "stream",
     "text": [
      "Exactitud Entrenamiento: 0.9124\n",
      "Exactitud Testing:  0.6947\n"
     ]
    },
    {
     "data": {
      "image/png": "[encoded data removed]",
      "text/plain": [
       "<Figure size 864x360 with 2 Axes>"
      ]
     },
     "metadata": {},
     "output_type": "display_data"
    }
   ],
   "source": [
    "loss, accuracy = model.evaluate(X_train, y_train.values, verbose=False)\n",
    "print(\"Exactitud Entrenamiento: {:.4f}\".format(accuracy))\n",
    "loss, accuracy = model.evaluate(X_test, y_test.values, verbose=False)\n",
    "print(\"Exactitud Testing:  {:.4f}\".format(accuracy))\n",
    "plot_history(history)"
   ]
  },
  {
   "cell_type": "code",
   "execution_count": 50,
   "metadata": {},
   "outputs": [
    {
     "name": "stdout",
     "output_type": "stream",
     "text": [
      "              precision    recall  f1-score   support\n",
      "\n",
      "           0       0.68      0.57      0.62       199\n",
      "           1       0.70      0.79      0.74       253\n",
      "\n",
      "    accuracy                           0.69       452\n",
      "   macro avg       0.69      0.68      0.68       452\n",
      "weighted avg       0.69      0.69      0.69       452\n",
      "\n"
     ]
    }
   ],
   "source": [
    "import numpy as np\n",
    "from sklearn.metrics import classification_report\n",
    "\n",
    "y_pred = model.predict(X_test)\n",
    "\n",
    "print(classification_report(y_test.values, np.int32(y_pred>0.5)))"
   ]
  },
  {
   "cell_type": "code",
   "execution_count": 98,
   "metadata": {},
   "outputs": [],
   "source": [
    "model.save('hatespeech_embedding.h5')"
   ]
  },
  {
   "cell_type": "code",
   "execution_count": 99,
   "metadata": {},
   "outputs": [],
   "source": [
    "import pickle\n",
    "\n",
    "with open('tokenizer.pickle', 'wb') as handle:\n",
    "    pickle.dump(tokenizer, handle, protocol=pickle.HIGHEST_PROTOCOL)"
   ]
  },
  {
   "cell_type": "markdown",
   "metadata": {},
   "source": [
    "# Red Neuronal Pre-Entrenada"
   ]
  },
  {
   "cell_type": "code",
   "execution_count": 52,
   "metadata": {},
   "outputs": [
    {
     "name": "stdout",
     "output_type": "stream",
     "text": [
      "Requirement already satisfied: tensorflow_hub in /opt/homebrew/Caskroom/miniforge/base/envs/tf/lib/python3.8/site-packages (0.12.0)\n",
      "Requirement already satisfied: numpy>=1.12.0 in /opt/homebrew/Caskroom/miniforge/base/envs/tf/lib/python3.8/site-packages (from tensorflow_hub) (1.19.5)\n",
      "Requirement already satisfied: protobuf>=3.8.0 in /opt/homebrew/Caskroom/miniforge/base/envs/tf/lib/python3.8/site-packages (from tensorflow_hub) (3.14.0)\n",
      "Requirement already satisfied: six>=1.9 in /opt/homebrew/Caskroom/miniforge/base/envs/tf/lib/python3.8/site-packages (from protobuf>=3.8.0->tensorflow_hub) (1.15.0)\n"
     ]
    }
   ],
   "source": [
    "!pip3 install tensorflow_hub"
   ]
  },
  {
   "cell_type": "code",
   "execution_count": 54,
   "metadata": {},
   "outputs": [],
   "source": [
    "import tensorflow_hub as hub\n",
    "\n",
    "hub_layer = hub.KerasLayer(\n",
    "    \"https://tfhub.dev/google/nnlm-es-dim128/2\",\n",
    "    output_shape=[20], input_shape=[],\n",
    "    dtype=tf.string, trainable=False\n",
    "    )"
   ]
  },
  {
   "cell_type": "code",
   "execution_count": 56,
   "metadata": {},
   "outputs": [],
   "source": [
    "inputs = tf.keras.layers.Input(shape=(), dtype=tf.string)\n",
    "outputs = hub_layer(inputs)\n",
    "preprocessor = tf.keras.Model(inputs=inputs, outputs=outputs)"
   ]
  },
  {
   "cell_type": "code",
   "execution_count": 67,
   "metadata": {},
   "outputs": [],
   "source": [
    "tf.keras.backend.clear_session()"
   ]
  },
  {
   "cell_type": "code",
   "execution_count": 92,
   "metadata": {},
   "outputs": [],
   "source": [
    "\n",
    "from tensorflow.keras.layers import GlobalMaxPool2D\n",
    "\n",
    "model = tf.keras.Sequential()\n",
    "model.add(preprocessor)\n",
    "model.add(Dense(64, activation='relu',kernel_regularizer = tf.keras.regularizers.l2(0.01)))\n",
    "model.add(Dropout(.25))\n",
    "model.add(tf.keras.layers.Dense(32,activation='relu',kernel_regularizer = tf.keras.regularizers.l2(0.01)))\n",
    "model.add(Dropout(.25))\n",
    "model.add(tf.keras.layers.Dense(1))\n"
   ]
  },
  {
   "cell_type": "code",
   "execution_count": 93,
   "metadata": {},
   "outputs": [
    {
     "name": "stdout",
     "output_type": "stream",
     "text": [
      "Model: \"sequential_4\"\n",
      "_________________________________________________________________\n",
      "Layer (type)                 Output Shape              Param #   \n",
      "=================================================================\n",
      "model_1 (Functional)         (None, 128)               125009920 \n",
      "_________________________________________________________________\n",
      "dense_2 (Dense)              (None, 64)                8256      \n",
      "_________________________________________________________________\n",
      "dropout_1 (Dropout)          (None, 64)                0         \n",
      "_________________________________________________________________\n",
      "dense_3 (Dense)              (None, 32)                2080      \n",
      "_________________________________________________________________\n",
      "dropout_2 (Dropout)          (None, 32)                0         \n",
      "_________________________________________________________________\n",
      "dense_4 (Dense)              (None, 1)                 33        \n",
      "=================================================================\n",
      "Total params: 125,020,289\n",
      "Trainable params: 10,369\n",
      "Non-trainable params: 125,009,920\n",
      "_________________________________________________________________\n"
     ]
    }
   ],
   "source": [
    "model.compile(optimizer=adam,\n",
    "              loss='binary_crossentropy',\n",
    "              metrics=['accuracy'])\n",
    "model.summary()"
   ]
  },
  {
   "cell_type": "code",
   "execution_count": 63,
   "metadata": {},
   "outputs": [],
   "source": [
    "df['labels']=labels\n",
    "train=df.sample(frac=0.8,random_state=200) #random state is a seed value\n",
    "test=df.drop(train.index)\n",
    "\n"
   ]
  },
  {
   "cell_type": "code",
   "execution_count": 94,
   "metadata": {},
   "outputs": [],
   "source": [
    "train_text=train['data'].tolist()\n",
    "train_labels=train['labels'].tolist()\n",
    "test_text=test['data'].tolist()\n",
    "test_labels=test['labels'].tolist()\n",
    "\n"
   ]
  },
  {
   "cell_type": "code",
   "execution_count": 98,
   "metadata": {},
   "outputs": [],
   "source": [
    "adam = tf.keras.optimizers.Adam(learning_rate=1e-5,\n",
    "                                     beta_1=0.9, beta_2=0.999, amsgrad=False)\n",
    "history = model.fit(train_text,train_labels,batch_size=32,\n",
    "                    epochs=100,validation_data=(test_text, test_labels),verbose=0)"
   ]
  },
  {
   "cell_type": "code",
   "execution_count": 99,
   "metadata": {},
   "outputs": [
    {
     "data": {
      "image/png": "[encoded data removed]",
      "text/plain": [
       "<Figure size 864x360 with 2 Axes>"
      ]
     },
     "metadata": {},
     "output_type": "display_data"
    }
   ],
   "source": [
    "plot_history(history)"
   ]
  },
  {
   "cell_type": "code",
   "execution_count": 100,
   "metadata": {},
   "outputs": [
    {
     "name": "stdout",
     "output_type": "stream",
     "text": [
      "              precision    recall  f1-score   support\n",
      "\n",
      "           0       0.70      0.64      0.67       186\n",
      "           1       0.76      0.81      0.78       265\n",
      "\n",
      "    accuracy                           0.74       451\n",
      "   macro avg       0.73      0.72      0.73       451\n",
      "weighted avg       0.74      0.74      0.74       451\n",
      "\n"
     ]
    }
   ],
   "source": [
    "y_pred = model.predict(test_text)\n",
    "\n",
    "print(classification_report(np.asarray(test_labels),y_pred.reshape(-1)>0.5))"
   ]
  },
  {
   "cell_type": "code",
   "execution_count": 88,
   "metadata": {},
   "outputs": [
    {
     "data": {
      "text/plain": [
       "(451,)"
      ]
     },
     "execution_count": 88,
     "metadata": {},
     "output_type": "execute_result"
    }
   ],
   "source": [
    "y_pred.reshape(-1).shape"
   ]
  },
  {
   "cell_type": "code",
   "execution_count": 89,
   "metadata": {},
   "outputs": [
    {
     "data": {
      "text/plain": [
       "(451,)"
      ]
     },
     "execution_count": 89,
     "metadata": {},
     "output_type": "execute_result"
    }
   ],
   "source": [
    "np.asarray(test_labels).shape"
   ]
  }
 ],
 "metadata": {
  "kernelspec": {
   "display_name": "Python 3.8.6 ('tf')",
   "language": "python",
   "name": "python3"
  },
  "language_info": {
   "codemirror_mode": {
    "name": "ipython",
    "version": 3
   },
   "file_extension": ".py",
   "mimetype": "text/x-python",
   "name": "python",
   "nbconvert_exporter": "python",
   "pygments_lexer": "ipython3",
   "version": "3.8.6"
  },
  "vscode": {
   "interpreter": {
    "hash": "52ee2977380704a66854748a73250e0671a9318bd5b3fd45a3df9f851ae61629"
   }
  }
 },
 "nbformat": 4,
 "nbformat_minor": 4
}
